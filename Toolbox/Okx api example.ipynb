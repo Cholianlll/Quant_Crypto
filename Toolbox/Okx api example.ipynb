{
 "cells": [
  {
   "cell_type": "code",
   "execution_count": 1,
   "metadata": {},
   "outputs": [],
   "source": [
    "import time\n",
    "import datetime as dt\n",
    "import hmac\n",
    "import base64\n",
    "import requests\n",
    "from urllib.parse import urlencode\n",
    "\n",
    "from pandas import json_normalize"
   ]
  },
  {
   "cell_type": "code",
   "execution_count": 3,
   "metadata": {},
   "outputs": [],
   "source": [
    "APIKEY = \"\"\n",
    "APISECRET = \"\"\n",
    "PASS = \"\"\n",
    "BASE_URL = 'https://www.okx.com'"
   ]
  },
  {
   "cell_type": "code",
   "execution_count": 4,
   "metadata": {},
   "outputs": [],
   "source": [
    "\n",
    "def get_time():\n",
    "    return dt.datetime.utcnow().isoformat()[:-3]+'Z'\n",
    "\n",
    "def signature(timestamp, method, request_path, body, secret_key):\n",
    "    if str(body) == '{}' or str(body) == 'None':\n",
    "        body = ''\n",
    "    message = str(timestamp) + str.upper(method) + request_path + str(body)\n",
    "    mac = hmac.new(bytes(secret_key, encoding='utf8'), bytes(message, encoding='utf-8'), digestmod='sha256')\n",
    "    d = mac.digest()\n",
    "    return base64.b64encode(d)\n",
    "\n",
    "# set request header\n",
    "def get_header(request='GET', endpoint='', body:dict=dict()):\n",
    "    cur_time = get_time()\n",
    "    header = dict()\n",
    "    header['CONTENT-TYPE'] = 'application/json'\n",
    "    header['OK-ACCESS-KEY'] = APIKEY\n",
    "    header['OK-ACCESS-SIGN'] = signature(cur_time, request, endpoint , body, APISECRET)\n",
    "    header['OK-ACCESS-TIMESTAMP'] = str(cur_time)\n",
    "    header['OK-ACCESS-PASSPHRASE'] = PASS\n",
    "    return header\n",
    "\n",
    "def send_signed_request(http_method, url_path, payload={}):\n",
    "    '''\n",
    "    See https://stackoverflow.com/questions/66486374/how-to-sign-an-okex-api-request\n",
    "    '''\n",
    "\n",
    "    url = BASE_URL + url_path\n",
    "    header = get_header(http_method, url_path, payload)\n",
    "    print(url)\n",
    "    # print(header)\n",
    "    response= requests.get(url, headers=header)\n",
    "    response.json()\n",
    "    return response.json()\n",
    "\n",
    "# used for sending public data request\n",
    "def send_public_request(url_path, payload={}):\n",
    "    query_string = urlencode(payload, True)\n",
    "    url = BASE_URL + url_path\n",
    "    if query_string:\n",
    "        url = url + '?' + query_string\n",
    "    print(\"{}\".format(url))\n",
    "    response = requests.get(url)\n",
    "    return response.json()"
   ]
  },
  {
   "cell_type": "code",
   "execution_count": 5,
   "metadata": {},
   "outputs": [
    {
     "name": "stdout",
     "output_type": "stream",
     "text": [
      "https://www.okx.com/api/v5/market/tickers?instType=FUTURES\n",
      "https://www.okx.com/api/v5/account/balance\n"
     ]
    }
   ],
   "source": [
    "params = {\n",
    "    'instType':'FUTURES'\n",
    "}\n",
    "response = send_public_request('/api/v5/market/tickers',params)\n",
    "response = send_signed_request(\"GET\", \"/api/v5/account/balance\", params)\n",
    "# response\n",
    "# json_normalize(response['data'])"
   ]
  },
  {
   "cell_type": "code",
   "execution_count": 6,
   "metadata": {},
   "outputs": [],
   "source": [
    "def Get_instruments(instType = 'SWAP'):\n",
    "    url = '/api/v5/public/instruments'\n",
    "    params = {\n",
    "        'instType':instType\n",
    "    }\n",
    "    response = send_public_request(url, params)\n",
    "    response = json_normalize(response['data'])\n",
    "    return response\n",
    "    "
   ]
  },
  {
   "cell_type": "code",
   "execution_count": 7,
   "metadata": {},
   "outputs": [],
   "source": [
    "def Get_funding_rate(instId = \"BTC-USD-SWAP\"):\n",
    "    url = '/api/v5/public/funding-rate'\n",
    "    params = {\n",
    "        'instId':instId\n",
    "    }\n",
    "    response = send_public_request(url, params)\n",
    "    # response = json_normalize(response['data'])\n",
    "    response = response['data']\n",
    "    return response"
   ]
  },
  {
   "cell_type": "code",
   "execution_count": 8,
   "metadata": {},
   "outputs": [
    {
     "name": "stdout",
     "output_type": "stream",
     "text": [
      "https://www.okx.com/api/v5/public/funding-rate?instId=BTC-USD-SWAP\n"
     ]
    },
    {
     "data": {
      "text/plain": [
       "[{'fundingRate': '-0.00016053',\n",
       "  'fundingTime': '1643270400000',\n",
       "  'instId': 'BTC-USD-SWAP',\n",
       "  'instType': 'SWAP',\n",
       "  'nextFundingRate': '-0.00035',\n",
       "  'nextFundingTime': '1643299200000'}]"
      ]
     },
     "execution_count": 8,
     "metadata": {},
     "output_type": "execute_result"
    }
   ],
   "source": [
    "response = Get_funding_rate()\n",
    "response"
   ]
  },
  {
   "cell_type": "code",
   "execution_count": null,
   "metadata": {},
   "outputs": [],
   "source": [
    "def Get_funding_rate_history():\n",
    "\n",
    "    url = '/api/v5/public/funding-rate-history'\n",
    "    params = {\n",
    "        'instId':instId\n",
    "    }\n",
    "    response = send_public_request(url, params)\n",
    "    # response = json_normalize(response['data'])\n",
    "    # response = response['data']\n",
    "    \n",
    "    return response"
   ]
  }
 ],
 "metadata": {
  "interpreter": {
   "hash": "673a8e026ff19b67b287881da829c388a320bec0928a4002605be0b0252357bc"
  },
  "kernelspec": {
   "display_name": "Python 3.8.8 64-bit ('base': conda)",
   "language": "python",
   "name": "python3"
  },
  "language_info": {
   "codemirror_mode": {
    "name": "ipython",
    "version": 3
   },
   "file_extension": ".py",
   "mimetype": "text/x-python",
   "name": "python",
   "nbconvert_exporter": "python",
   "pygments_lexer": "ipython3",
   "version": "3.8.8"
  },
  "orig_nbformat": 4
 },
 "nbformat": 4,
 "nbformat_minor": 2
}
