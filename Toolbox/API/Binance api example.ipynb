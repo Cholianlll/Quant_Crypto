{
 "cells": [
  {
   "cell_type": "markdown",
   "metadata": {},
   "source": [
    "# API version"
   ]
  },
  {
   "cell_type": "markdown",
   "metadata": {},
   "source": [
    "## Intro"
   ]
  },
  {
   "cell_type": "code",
   "execution_count": 1,
   "metadata": {},
   "outputs": [],
   "source": [
    "import hmac\n",
    "import time\n",
    "import hashlib\n",
    "import requests\n",
    "from urllib.parse import urlencode\n",
    "\n",
    "from pandas import json_normalize"
   ]
  },
  {
   "cell_type": "code",
   "execution_count": 2,
   "metadata": {},
   "outputs": [],
   "source": [
    "#! input your apikey and secret key\n",
    "\n",
    "KEY = ''\n",
    "SECRET = ''\n",
    "\n",
    "# for spot market\n",
    "# BASE_URL = 'https://api.binance.com' # production base url\n",
    "\n",
    "# for future market\n",
    "BASE_URL = 'https://fapi.binance.com' # production base url"
   ]
  },
  {
   "cell_type": "code",
   "execution_count": 3,
   "metadata": {},
   "outputs": [
    {
     "data": {
      "text/plain": [
       "' ======  end of functions ====== '"
      ]
     },
     "execution_count": 3,
     "metadata": {},
     "output_type": "execute_result"
    }
   ],
   "source": [
    "\n",
    "''' ======  begin of functions, you don't need to touch ====== '''\n",
    "def hashing(query_string):\n",
    "    return hmac.new(SECRET.encode('utf-8'), query_string.encode('utf-8'), hashlib.sha256).hexdigest()\n",
    "\n",
    "def get_timestamp():\n",
    "    return int(time.time() * 1000)\n",
    "\n",
    "\n",
    "def dispatch_request(http_method):\n",
    "    session = requests.Session()\n",
    "    session.headers.update({\n",
    "        'Content-Type': 'application/json;charset=utf-8',\n",
    "        'X-MBX-APIKEY': KEY\n",
    "    })\n",
    "    return {\n",
    "        'GET': session.get,\n",
    "        'DELETE': session.delete,\n",
    "        'PUT': session.put,\n",
    "        'POST': session.post,\n",
    "    }.get(http_method, 'GET')\n",
    "\n",
    "# used for sending request requires the signature\n",
    "def send_signed_request(http_method, url_path, payload={}):\n",
    "    query_string = urlencode(payload, True)\n",
    "    \n",
    "    if query_string:\n",
    "        query_string = \"{}&timestamp={}\".format(query_string, get_timestamp())\n",
    "    else:\n",
    "        query_string = 'timestamp={}'.format(get_timestamp())\n",
    "\n",
    "    url = BASE_URL + url_path + '?' + query_string + '&signature=' + hashing(query_string)\n",
    "    # print(\"{} {}\".format(http_method, url))\n",
    "    params = {'url': url, 'params': {}}\n",
    "    response = dispatch_request(http_method)(**params)\n",
    "    return response.json()\n",
    "\n",
    "# used for sending public data request\n",
    "def send_public_request(url_path, payload={}):\n",
    "    query_string = urlencode(payload, True)\n",
    "    url = BASE_URL + url_path\n",
    "    if query_string:\n",
    "        url = url + '?' + query_string\n",
    "    # print(\"{}\".format(url))\n",
    "    response = dispatch_request('GET')(url=url)\n",
    "    return response.json()\n",
    "\n",
    "''' ======  end of functions ====== '''"
   ]
  },
  {
   "cell_type": "markdown",
   "metadata": {},
   "source": [
    "## Obtain the account info"
   ]
  },
  {
   "cell_type": "code",
   "execution_count": null,
   "metadata": {},
   "outputs": [],
   "source": [
    "# \"asset\": \"USDT\",            // asset name\n",
    "# \"walletBalance\": \"23.72469206\",      // wallet balance\n",
    "# \"unrealizedProfit\": \"0.00000000\",    // unrealized profit\n",
    "# \"marginBalance\": \"23.72469206\",      // margin balance\n",
    "# \"maintMargin\": \"0.00000000\",        // maintenance margin required\n",
    "# \"initialMargin\": \"0.00000000\",    // total initial margin required with current mark price \n",
    "# \"positionInitialMargin\": \"0.00000000\",    //initial margin required for positions with current mark price\n",
    "# \"openOrderInitialMargin\": \"0.00000000\",   // initial margin required for open orders with current mark price\n",
    "# \"crossWalletBalance\": \"23.72469206\",      // crossed wallet balance\n",
    "# \"crossUnPnl\": \"0.00000000\"       // unrealized profit of crossed positions\n",
    "# \"availableBalance\": \"23.72469206\",       // available balance\n",
    "# \"maxWithdrawAmount\": \"23.72469206\",     // maximum amount for transfer out\n",
    "# \"marginAvailable\": true,    // whether the asset can be used as margin in Multi-Assets mode\n",
    "# \"updateTime\": 1625474304765 // last update time "
   ]
  },
  {
   "cell_type": "code",
   "execution_count": null,
   "metadata": {},
   "outputs": [],
   "source": [
    "# \"symbol\": \"BTCUSDT\",    // symbol name\n",
    "# \"initialMargin\": \"0\",   // initial margin required with current mark price \n",
    "# \"maintMargin\": \"0\",     // maintenance margin required\n",
    "# \"unrealizedProfit\": \"0.00000000\",  // unrealized profit\n",
    "# \"positionInitialMargin\": \"0\",      // initial margin required for positions with current mark price\n",
    "# \"openOrderInitialMargin\": \"0\",     // initial margin required for open orders with current mark price\n",
    "# \"leverage\": \"100\",      // current initial leverage\n",
    "# \"isolated\": true,       // if the position is isolated\n",
    "# \"entryPrice\": \"0.00000\",    // average entry price\n",
    "# \"maxNotional\": \"250000\",    // maximum available notional with current leverage\n",
    "# \"bidNotional\": \"0\",  // bids notional, ignore\n",
    "# \"askNotional\": \"0\",  // ask norional, ignore\n",
    "# \"positionSide\": \"BOTH\",     // position side\n",
    "# \"positionAmt\": \"0\",         // position amount\n",
    "# \"updateTime\": 0           // last update time"
   ]
  },
  {
   "cell_type": "code",
   "execution_count": 16,
   "metadata": {},
   "outputs": [],
   "source": [
    "# ## USER_DATA endpoints, call send_signed_request #####\n",
    "\n",
    "response = send_signed_request('GET', '/fapi/v2/account')\n",
    "\n",
    "account_assets = json_normalize(response['assets'])\n",
    "account_positions = json_normalize(response['positions'])\n",
    "\n",
    "account_positions = account_positions.set_index('symbol')\n",
    "account_assets = account_assets.set_index('asset')\n",
    "\n",
    "target_symbol = ['BTCUSDT','ETHUSDT']\n",
    "asset = ['USDT']"
   ]
  },
  {
   "cell_type": "code",
   "execution_count": 17,
   "metadata": {},
   "outputs": [
    {
     "data": {
      "text/html": [
       "<div>\n",
       "<style scoped>\n",
       "    .dataframe tbody tr th:only-of-type {\n",
       "        vertical-align: middle;\n",
       "    }\n",
       "\n",
       "    .dataframe tbody tr th {\n",
       "        vertical-align: top;\n",
       "    }\n",
       "\n",
       "    .dataframe thead th {\n",
       "        text-align: right;\n",
       "    }\n",
       "</style>\n",
       "<table border=\"1\" class=\"dataframe\">\n",
       "  <thead>\n",
       "    <tr style=\"text-align: right;\">\n",
       "      <th></th>\n",
       "      <th>walletBalance</th>\n",
       "      <th>unrealizedProfit</th>\n",
       "      <th>marginBalance</th>\n",
       "      <th>maintMargin</th>\n",
       "      <th>initialMargin</th>\n",
       "      <th>positionInitialMargin</th>\n",
       "      <th>openOrderInitialMargin</th>\n",
       "      <th>maxWithdrawAmount</th>\n",
       "      <th>crossWalletBalance</th>\n",
       "      <th>crossUnPnl</th>\n",
       "      <th>availableBalance</th>\n",
       "      <th>marginAvailable</th>\n",
       "      <th>updateTime</th>\n",
       "    </tr>\n",
       "    <tr>\n",
       "      <th>asset</th>\n",
       "      <th></th>\n",
       "      <th></th>\n",
       "      <th></th>\n",
       "      <th></th>\n",
       "      <th></th>\n",
       "      <th></th>\n",
       "      <th></th>\n",
       "      <th></th>\n",
       "      <th></th>\n",
       "      <th></th>\n",
       "      <th></th>\n",
       "      <th></th>\n",
       "      <th></th>\n",
       "    </tr>\n",
       "  </thead>\n",
       "  <tbody>\n",
       "    <tr>\n",
       "      <th>USDT</th>\n",
       "      <td>184.61690735</td>\n",
       "      <td>16.00338000</td>\n",
       "      <td>200.62028735</td>\n",
       "      <td>0.50005728</td>\n",
       "      <td>62.50716000</td>\n",
       "      <td>62.50716000</td>\n",
       "      <td>0.00000000</td>\n",
       "      <td>138.11312735</td>\n",
       "      <td>184.61690735</td>\n",
       "      <td>16.00338000</td>\n",
       "      <td>138.11312735</td>\n",
       "      <td>True</td>\n",
       "      <td>1641513600240</td>\n",
       "    </tr>\n",
       "  </tbody>\n",
       "</table>\n",
       "</div>"
      ],
      "text/plain": [
       "      walletBalance unrealizedProfit marginBalance maintMargin initialMargin  \\\n",
       "asset                                                                          \n",
       "USDT   184.61690735      16.00338000  200.62028735  0.50005728   62.50716000   \n",
       "\n",
       "      positionInitialMargin openOrderInitialMargin maxWithdrawAmount  \\\n",
       "asset                                                                  \n",
       "USDT            62.50716000             0.00000000      138.11312735   \n",
       "\n",
       "      crossWalletBalance   crossUnPnl availableBalance  marginAvailable  \\\n",
       "asset                                                                     \n",
       "USDT        184.61690735  16.00338000     138.11312735             True   \n",
       "\n",
       "          updateTime  \n",
       "asset                 \n",
       "USDT   1641513600240  "
      ]
     },
     "execution_count": 17,
     "metadata": {},
     "output_type": "execute_result"
    }
   ],
   "source": [
    "account_assets.loc[asset]['marginBalance']"
   ]
  },
  {
   "cell_type": "code",
   "execution_count": 13,
   "metadata": {},
   "outputs": [
    {
     "data": {
      "text/html": [
       "<div>\n",
       "<style scoped>\n",
       "    .dataframe tbody tr th:only-of-type {\n",
       "        vertical-align: middle;\n",
       "    }\n",
       "\n",
       "    .dataframe tbody tr th {\n",
       "        vertical-align: top;\n",
       "    }\n",
       "\n",
       "    .dataframe thead th {\n",
       "        text-align: right;\n",
       "    }\n",
       "</style>\n",
       "<table border=\"1\" class=\"dataframe\">\n",
       "  <thead>\n",
       "    <tr style=\"text-align: right;\">\n",
       "      <th></th>\n",
       "      <th>walletBalance</th>\n",
       "      <th>unrealizedProfit</th>\n",
       "      <th>marginBalance</th>\n",
       "      <th>maintMargin</th>\n",
       "      <th>initialMargin</th>\n",
       "      <th>positionInitialMargin</th>\n",
       "      <th>openOrderInitialMargin</th>\n",
       "      <th>maxWithdrawAmount</th>\n",
       "      <th>crossWalletBalance</th>\n",
       "      <th>crossUnPnl</th>\n",
       "      <th>availableBalance</th>\n",
       "      <th>marginAvailable</th>\n",
       "      <th>updateTime</th>\n",
       "    </tr>\n",
       "    <tr>\n",
       "      <th>asset</th>\n",
       "      <th></th>\n",
       "      <th></th>\n",
       "      <th></th>\n",
       "      <th></th>\n",
       "      <th></th>\n",
       "      <th></th>\n",
       "      <th></th>\n",
       "      <th></th>\n",
       "      <th></th>\n",
       "      <th></th>\n",
       "      <th></th>\n",
       "      <th></th>\n",
       "      <th></th>\n",
       "    </tr>\n",
       "  </thead>\n",
       "  <tbody>\n",
       "    <tr>\n",
       "      <th>USDT</th>\n",
       "      <td>184.61690735</td>\n",
       "      <td>16.00019077</td>\n",
       "      <td>200.61709812</td>\n",
       "      <td>0.50007003</td>\n",
       "      <td>125.01750922</td>\n",
       "      <td>125.01750922</td>\n",
       "      <td>0.00000000</td>\n",
       "      <td>75.59958890</td>\n",
       "      <td>184.61690735</td>\n",
       "      <td>16.00019077</td>\n",
       "      <td>75.59958890</td>\n",
       "      <td>True</td>\n",
       "      <td>1641513600240</td>\n",
       "    </tr>\n",
       "  </tbody>\n",
       "</table>\n",
       "</div>"
      ],
      "text/plain": [
       "      walletBalance unrealizedProfit marginBalance maintMargin initialMargin  \\\n",
       "asset                                                                          \n",
       "USDT   184.61690735      16.00019077  200.61709812  0.50007003  125.01750922   \n",
       "\n",
       "      positionInitialMargin openOrderInitialMargin maxWithdrawAmount  \\\n",
       "asset                                                                  \n",
       "USDT           125.01750922             0.00000000       75.59958890   \n",
       "\n",
       "      crossWalletBalance   crossUnPnl availableBalance  marginAvailable  \\\n",
       "asset                                                                     \n",
       "USDT        184.61690735  16.00019077      75.59958890             True   \n",
       "\n",
       "          updateTime  \n",
       "asset                 \n",
       "USDT   1641513600240  "
      ]
     },
     "execution_count": 13,
     "metadata": {},
     "output_type": "execute_result"
    }
   ],
   "source": [
    "account_assets.loc[asset]"
   ]
  },
  {
   "cell_type": "code",
   "execution_count": 14,
   "metadata": {},
   "outputs": [
    {
     "data": {
      "text/html": [
       "<div>\n",
       "<style scoped>\n",
       "    .dataframe tbody tr th:only-of-type {\n",
       "        vertical-align: middle;\n",
       "    }\n",
       "\n",
       "    .dataframe tbody tr th {\n",
       "        vertical-align: top;\n",
       "    }\n",
       "\n",
       "    .dataframe thead th {\n",
       "        text-align: right;\n",
       "    }\n",
       "</style>\n",
       "<table border=\"1\" class=\"dataframe\">\n",
       "  <thead>\n",
       "    <tr style=\"text-align: right;\">\n",
       "      <th></th>\n",
       "      <th>initialMargin</th>\n",
       "      <th>maintMargin</th>\n",
       "      <th>unrealizedProfit</th>\n",
       "      <th>positionInitialMargin</th>\n",
       "      <th>openOrderInitialMargin</th>\n",
       "      <th>leverage</th>\n",
       "      <th>isolated</th>\n",
       "      <th>entryPrice</th>\n",
       "      <th>maxNotional</th>\n",
       "      <th>positionSide</th>\n",
       "      <th>positionAmt</th>\n",
       "      <th>notional</th>\n",
       "      <th>isolatedWallet</th>\n",
       "      <th>updateTime</th>\n",
       "      <th>bidNotional</th>\n",
       "      <th>askNotional</th>\n",
       "    </tr>\n",
       "    <tr>\n",
       "      <th>symbol</th>\n",
       "      <th></th>\n",
       "      <th></th>\n",
       "      <th></th>\n",
       "      <th></th>\n",
       "      <th></th>\n",
       "      <th></th>\n",
       "      <th></th>\n",
       "      <th></th>\n",
       "      <th></th>\n",
       "      <th></th>\n",
       "      <th></th>\n",
       "      <th></th>\n",
       "      <th></th>\n",
       "      <th></th>\n",
       "      <th></th>\n",
       "      <th></th>\n",
       "    </tr>\n",
       "  </thead>\n",
       "  <tbody>\n",
       "    <tr>\n",
       "      <th>BTCUSDT</th>\n",
       "      <td>125.01750922</td>\n",
       "      <td>0.50007003</td>\n",
       "      <td>16.00019077</td>\n",
       "      <td>125.01750922</td>\n",
       "      <td>0</td>\n",
       "      <td>1</td>\n",
       "      <td>False</td>\n",
       "      <td>47005.9</td>\n",
       "      <td>1.0E9</td>\n",
       "      <td>BOTH</td>\n",
       "      <td>-0.003</td>\n",
       "      <td>-125.01750922</td>\n",
       "      <td>0</td>\n",
       "      <td>1641178069794</td>\n",
       "      <td>0</td>\n",
       "      <td>0</td>\n",
       "    </tr>\n",
       "    <tr>\n",
       "      <th>ETHUSDT</th>\n",
       "      <td>0</td>\n",
       "      <td>0</td>\n",
       "      <td>0.00000000</td>\n",
       "      <td>0</td>\n",
       "      <td>0</td>\n",
       "      <td>1</td>\n",
       "      <td>False</td>\n",
       "      <td>0.0</td>\n",
       "      <td>5.0E8</td>\n",
       "      <td>BOTH</td>\n",
       "      <td>0.000</td>\n",
       "      <td>0</td>\n",
       "      <td>0</td>\n",
       "      <td>1641420260618</td>\n",
       "      <td>0</td>\n",
       "      <td>0</td>\n",
       "    </tr>\n",
       "  </tbody>\n",
       "</table>\n",
       "</div>"
      ],
      "text/plain": [
       "        initialMargin maintMargin unrealizedProfit positionInitialMargin  \\\n",
       "symbol                                                                     \n",
       "BTCUSDT  125.01750922  0.50007003      16.00019077          125.01750922   \n",
       "ETHUSDT             0           0       0.00000000                     0   \n",
       "\n",
       "        openOrderInitialMargin leverage  isolated entryPrice maxNotional  \\\n",
       "symbol                                                                     \n",
       "BTCUSDT                      0        1     False    47005.9       1.0E9   \n",
       "ETHUSDT                      0        1     False        0.0       5.0E8   \n",
       "\n",
       "        positionSide positionAmt       notional isolatedWallet     updateTime  \\\n",
       "symbol                                                                          \n",
       "BTCUSDT         BOTH      -0.003  -125.01750922              0  1641178069794   \n",
       "ETHUSDT         BOTH       0.000              0              0  1641420260618   \n",
       "\n",
       "        bidNotional askNotional  \n",
       "symbol                           \n",
       "BTCUSDT           0           0  \n",
       "ETHUSDT           0           0  "
      ]
     },
     "execution_count": 14,
     "metadata": {},
     "output_type": "execute_result"
    }
   ],
   "source": [
    "account_positions.loc[target_symbol]"
   ]
  },
  {
   "cell_type": "markdown",
   "metadata": {},
   "source": [
    "## Change Position Mode"
   ]
  },
  {
   "cell_type": "code",
   "execution_count": 25,
   "metadata": {},
   "outputs": [
    {
     "name": "stdout",
     "output_type": "stream",
     "text": [
      "POST https://fapi.binance.com/fapi/v1/positionSide/dual?dualSidePosition=false&timestamp=1641097285261&signature=c7fed7d16a7501cd08d369cb4486b4ecbc378a1b290e75997f631da2310579d3\n",
      "{'code': -4059, 'msg': 'No need to change position side.'}\n"
     ]
    }
   ],
   "source": [
    "params = {\n",
    "    'dualSidePosition': 'false',\n",
    "}\n",
    "\n",
    "# \"true\": Hedge Mode; \"false\": One-way Mode\n",
    "response = send_signed_request('POST', '/fapi/v1/positionSide/dual',params)\n",
    "print(response)"
   ]
  },
  {
   "cell_type": "markdown",
   "metadata": {},
   "source": [
    "## Make order"
   ]
  },
  {
   "cell_type": "markdown",
   "metadata": {},
   "source": [
    "### LIMIT"
   ]
  },
  {
   "cell_type": "code",
   "execution_count": 5,
   "metadata": {},
   "outputs": [
    {
     "name": "stdout",
     "output_type": "stream",
     "text": [
      "POST https://fapi.binance.com/fapi/v1/order?symbol=BTCUSDT&side=SELL&type=LIMIT&timeInForce=GTC&quantity=0.002&price=45900&timestamp=1640983483401&signature=f660cc095b4b080f569a771b4d598f9f83a2690fd9cc37a744b283612f7f9195\n",
      "{'orderId': 39606056431, 'symbol': 'BTCUSDT', 'status': 'NEW', 'clientOrderId': 'wWtnnmizY3xq2Cji8oaidM', 'price': '45900', 'avgPrice': '0.00000', 'origQty': '0.002', 'executedQty': '0', 'cumQty': '0', 'cumQuote': '0', 'timeInForce': 'GTC', 'type': 'LIMIT', 'reduceOnly': False, 'closePosition': False, 'side': 'SELL', 'positionSide': 'BOTH', 'stopPrice': '0', 'workingType': 'CONTRACT_PRICE', 'priceProtect': False, 'origType': 'LIMIT', 'updateTime': 1640983483716}\n"
     ]
    }
   ],
   "source": [
    "params = {\n",
    "    'symbol': 'BTCUSDT',\n",
    "    'side': 'SELL',\n",
    "    'type': 'LIMIT',\n",
    "    'timeInForce': 'GTC',\n",
    "    'quantity': 0.001,\n",
    "    'price': 45900\n",
    "}\n",
    "\n",
    "response = send_signed_request('POST', '/fapi/v1/order',params)\n",
    "print(response)\n",
    "\n",
    "\n",
    "# params = {\n",
    "#     'symbol': 'ETHUSDT',\n",
    "#     'side': 'SELL',\n",
    "#     'type': 'LIMIT',\n",
    "#     'timeInForce': 'GTC',\n",
    "#     'quantity': 0.01,\n",
    "#     'price': 3600\n",
    "# }\n",
    "\n",
    "# response = send_signed_request('POST', '/fapi/v1/order',params)\n",
    "# print(response)"
   ]
  },
  {
   "cell_type": "markdown",
   "metadata": {},
   "source": [
    "### MARKET"
   ]
  },
  {
   "cell_type": "code",
   "execution_count": 8,
   "metadata": {},
   "outputs": [
    {
     "name": "stdout",
     "output_type": "stream",
     "text": [
      "{'code': -2019, 'msg': 'Margin is insufficient.'}\n"
     ]
    }
   ],
   "source": [
    "symbol = 'BTCUSDT'\n",
    "quantity = 0.003\n",
    "\n",
    "params = {\n",
    "    'symbol': symbol,\n",
    "    'side': 'SELL',\n",
    "    'type': 'MARKET',\n",
    "    'quantity': quantity,\n",
    "}\n",
    "\n",
    "response = send_signed_request('POST', '/fapi/v1/order',params)\n",
    "print(response)"
   ]
  },
  {
   "cell_type": "markdown",
   "metadata": {},
   "source": [
    "## Cancel Order"
   ]
  },
  {
   "cell_type": "code",
   "execution_count": 15,
   "metadata": {},
   "outputs": [
    {
     "name": "stdout",
     "output_type": "stream",
     "text": [
      "{'orderId': 8389765513381323668, 'symbol': 'ETHUSDT', 'status': 'CANCELED', 'clientOrderId': 'sMgn1u51E8XWULWEaAXmcR', 'price': '3600', 'avgPrice': '0.00000', 'origQty': '0.010', 'executedQty': '0', 'cumQty': '0', 'cumQuote': '0', 'timeInForce': 'GTC', 'type': 'LIMIT', 'reduceOnly': False, 'closePosition': False, 'side': 'SELL', 'positionSide': 'BOTH', 'stopPrice': '0', 'workingType': 'CONTRACT_PRICE', 'priceProtect': False, 'origType': 'LIMIT', 'updateTime': 1641420040158}\n"
     ]
    }
   ],
   "source": [
    "params = {\n",
    "    'symbol': 'ETHUSDT',\n",
    "    'orderId': '8389765513381323668',\n",
    "}\n",
    "\n",
    "response = send_signed_request('DELETE', '/fapi/v1/order',params)\n",
    "print(response)"
   ]
  },
  {
   "cell_type": "markdown",
   "metadata": {},
   "source": [
    "## Query all Order (include the history order)"
   ]
  },
  {
   "cell_type": "code",
   "execution_count": 16,
   "metadata": {},
   "outputs": [
    {
     "data": {
      "text/html": [
       "<div>\n",
       "<style scoped>\n",
       "    .dataframe tbody tr th:only-of-type {\n",
       "        vertical-align: middle;\n",
       "    }\n",
       "\n",
       "    .dataframe tbody tr th {\n",
       "        vertical-align: top;\n",
       "    }\n",
       "\n",
       "    .dataframe thead th {\n",
       "        text-align: right;\n",
       "    }\n",
       "</style>\n",
       "<table border=\"1\" class=\"dataframe\">\n",
       "  <thead>\n",
       "    <tr style=\"text-align: right;\">\n",
       "      <th></th>\n",
       "      <th>orderId</th>\n",
       "      <th>symbol</th>\n",
       "      <th>status</th>\n",
       "      <th>clientOrderId</th>\n",
       "      <th>price</th>\n",
       "      <th>avgPrice</th>\n",
       "      <th>origQty</th>\n",
       "      <th>executedQty</th>\n",
       "      <th>cumQuote</th>\n",
       "      <th>timeInForce</th>\n",
       "      <th>...</th>\n",
       "      <th>reduceOnly</th>\n",
       "      <th>closePosition</th>\n",
       "      <th>side</th>\n",
       "      <th>positionSide</th>\n",
       "      <th>stopPrice</th>\n",
       "      <th>workingType</th>\n",
       "      <th>priceProtect</th>\n",
       "      <th>origType</th>\n",
       "      <th>time</th>\n",
       "      <th>updateTime</th>\n",
       "    </tr>\n",
       "  </thead>\n",
       "  <tbody>\n",
       "    <tr>\n",
       "      <th>0</th>\n",
       "      <td>8389765513191238801</td>\n",
       "      <td>ETHUSDT</td>\n",
       "      <td>FILLED</td>\n",
       "      <td>IaecjopRF8Qm6iwQ916hVs</td>\n",
       "      <td>3760</td>\n",
       "      <td>3749.21000</td>\n",
       "      <td>0.010</td>\n",
       "      <td>0.010</td>\n",
       "      <td>37.49210</td>\n",
       "      <td>GTC</td>\n",
       "      <td>...</td>\n",
       "      <td>False</td>\n",
       "      <td>False</td>\n",
       "      <td>BUY</td>\n",
       "      <td>BOTH</td>\n",
       "      <td>0</td>\n",
       "      <td>CONTRACT_PRICE</td>\n",
       "      <td>False</td>\n",
       "      <td>LIMIT</td>\n",
       "      <td>1641097378388</td>\n",
       "      <td>1641097378388</td>\n",
       "    </tr>\n",
       "    <tr>\n",
       "      <th>1</th>\n",
       "      <td>8389765513192675471</td>\n",
       "      <td>ETHUSDT</td>\n",
       "      <td>CANCELED</td>\n",
       "      <td>7pUoxQue8zz0WqgSU3IqM5</td>\n",
       "      <td>3730</td>\n",
       "      <td>0.00000</td>\n",
       "      <td>0.010</td>\n",
       "      <td>0</td>\n",
       "      <td>0</td>\n",
       "      <td>GTC</td>\n",
       "      <td>...</td>\n",
       "      <td>False</td>\n",
       "      <td>False</td>\n",
       "      <td>SELL</td>\n",
       "      <td>BOTH</td>\n",
       "      <td>0</td>\n",
       "      <td>CONTRACT_PRICE</td>\n",
       "      <td>False</td>\n",
       "      <td>LIMIT</td>\n",
       "      <td>1641100349990</td>\n",
       "      <td>1641100537658</td>\n",
       "    </tr>\n",
       "    <tr>\n",
       "      <th>2</th>\n",
       "      <td>8389765513192792805</td>\n",
       "      <td>ETHUSDT</td>\n",
       "      <td>FILLED</td>\n",
       "      <td>zb0BWGDa0g1CTYEBYJiHtf</td>\n",
       "      <td>3710</td>\n",
       "      <td>3722.99000</td>\n",
       "      <td>0.010</td>\n",
       "      <td>0.010</td>\n",
       "      <td>37.22990</td>\n",
       "      <td>GTC</td>\n",
       "      <td>...</td>\n",
       "      <td>False</td>\n",
       "      <td>False</td>\n",
       "      <td>SELL</td>\n",
       "      <td>BOTH</td>\n",
       "      <td>0</td>\n",
       "      <td>CONTRACT_PRICE</td>\n",
       "      <td>False</td>\n",
       "      <td>LIMIT</td>\n",
       "      <td>1641100592486</td>\n",
       "      <td>1641100592486</td>\n",
       "    </tr>\n",
       "    <tr>\n",
       "      <th>3</th>\n",
       "      <td>8389765513217397663</td>\n",
       "      <td>ETHUSDT</td>\n",
       "      <td>FILLED</td>\n",
       "      <td>eCUzc5AMzeFK8kec96LwCw</td>\n",
       "      <td>3600</td>\n",
       "      <td>3600.00000</td>\n",
       "      <td>0.010</td>\n",
       "      <td>0.010</td>\n",
       "      <td>36</td>\n",
       "      <td>GTC</td>\n",
       "      <td>...</td>\n",
       "      <td>False</td>\n",
       "      <td>False</td>\n",
       "      <td>BUY</td>\n",
       "      <td>BOTH</td>\n",
       "      <td>0</td>\n",
       "      <td>CONTRACT_PRICE</td>\n",
       "      <td>False</td>\n",
       "      <td>LIMIT</td>\n",
       "      <td>1641146007972</td>\n",
       "      <td>1641413292327</td>\n",
       "    </tr>\n",
       "    <tr>\n",
       "      <th>4</th>\n",
       "      <td>8389765513381323668</td>\n",
       "      <td>ETHUSDT</td>\n",
       "      <td>CANCELED</td>\n",
       "      <td>sMgn1u51E8XWULWEaAXmcR</td>\n",
       "      <td>3600</td>\n",
       "      <td>0.00000</td>\n",
       "      <td>0.010</td>\n",
       "      <td>0</td>\n",
       "      <td>0</td>\n",
       "      <td>GTC</td>\n",
       "      <td>...</td>\n",
       "      <td>False</td>\n",
       "      <td>False</td>\n",
       "      <td>SELL</td>\n",
       "      <td>BOTH</td>\n",
       "      <td>0</td>\n",
       "      <td>CONTRACT_PRICE</td>\n",
       "      <td>False</td>\n",
       "      <td>LIMIT</td>\n",
       "      <td>1641419993000</td>\n",
       "      <td>1641420040158</td>\n",
       "    </tr>\n",
       "  </tbody>\n",
       "</table>\n",
       "<p>5 rows × 21 columns</p>\n",
       "</div>"
      ],
      "text/plain": [
       "               orderId   symbol    status           clientOrderId price  \\\n",
       "0  8389765513191238801  ETHUSDT    FILLED  IaecjopRF8Qm6iwQ916hVs  3760   \n",
       "1  8389765513192675471  ETHUSDT  CANCELED  7pUoxQue8zz0WqgSU3IqM5  3730   \n",
       "2  8389765513192792805  ETHUSDT    FILLED  zb0BWGDa0g1CTYEBYJiHtf  3710   \n",
       "3  8389765513217397663  ETHUSDT    FILLED  eCUzc5AMzeFK8kec96LwCw  3600   \n",
       "4  8389765513381323668  ETHUSDT  CANCELED  sMgn1u51E8XWULWEaAXmcR  3600   \n",
       "\n",
       "     avgPrice origQty executedQty  cumQuote timeInForce  ... reduceOnly  \\\n",
       "0  3749.21000   0.010       0.010  37.49210         GTC  ...      False   \n",
       "1     0.00000   0.010           0         0         GTC  ...      False   \n",
       "2  3722.99000   0.010       0.010  37.22990         GTC  ...      False   \n",
       "3  3600.00000   0.010       0.010        36         GTC  ...      False   \n",
       "4     0.00000   0.010           0         0         GTC  ...      False   \n",
       "\n",
       "   closePosition  side positionSide stopPrice     workingType priceProtect  \\\n",
       "0          False   BUY         BOTH         0  CONTRACT_PRICE        False   \n",
       "1          False  SELL         BOTH         0  CONTRACT_PRICE        False   \n",
       "2          False  SELL         BOTH         0  CONTRACT_PRICE        False   \n",
       "3          False   BUY         BOTH         0  CONTRACT_PRICE        False   \n",
       "4          False  SELL         BOTH         0  CONTRACT_PRICE        False   \n",
       "\n",
       "   origType           time     updateTime  \n",
       "0     LIMIT  1641097378388  1641097378388  \n",
       "1     LIMIT  1641100349990  1641100537658  \n",
       "2     LIMIT  1641100592486  1641100592486  \n",
       "3     LIMIT  1641146007972  1641413292327  \n",
       "4     LIMIT  1641419993000  1641420040158  \n",
       "\n",
       "[5 rows x 21 columns]"
      ]
     },
     "execution_count": 16,
     "metadata": {},
     "output_type": "execute_result"
    }
   ],
   "source": [
    "params = {\n",
    "    'symbol': 'ETHUSDT',\n",
    "}\n",
    "response = send_signed_request('GET', '/fapi/v1/allOrders',params)\n",
    "# print(response)\n",
    "json_normalize(response)"
   ]
  },
  {
   "cell_type": "markdown",
   "metadata": {},
   "source": [
    "## Query order"
   ]
  },
  {
   "cell_type": "code",
   "execution_count": 89,
   "metadata": {},
   "outputs": [
    {
     "data": {
      "text/plain": [
       "'FILLED'"
      ]
     },
     "execution_count": 89,
     "metadata": {},
     "output_type": "execute_result"
    }
   ],
   "source": [
    "response['status']"
   ]
  },
  {
   "cell_type": "code",
   "execution_count": 87,
   "metadata": {},
   "outputs": [
    {
     "name": "stdout",
     "output_type": "stream",
     "text": [
      "GET https://fapi.binance.com/fapi/v1/order?symbol=ETHUSDT&orderId=8389765513192792805&timestamp=1641146912013&signature=a4681278e9cce9a258e01459a3ea13f23599ff9c4164662702572e5768966f65\n"
     ]
    },
    {
     "data": {
      "text/plain": [
       "{'orderId': 8389765513192792805,\n",
       " 'symbol': 'ETHUSDT',\n",
       " 'status': 'FILLED',\n",
       " 'clientOrderId': 'zb0BWGDa0g1CTYEBYJiHtf',\n",
       " 'price': '3710',\n",
       " 'avgPrice': '3722.99000',\n",
       " 'origQty': '0.010',\n",
       " 'executedQty': '0.010',\n",
       " 'cumQuote': '37.22990',\n",
       " 'timeInForce': 'GTC',\n",
       " 'type': 'LIMIT',\n",
       " 'reduceOnly': False,\n",
       " 'closePosition': False,\n",
       " 'side': 'SELL',\n",
       " 'positionSide': 'BOTH',\n",
       " 'stopPrice': '0',\n",
       " 'workingType': 'CONTRACT_PRICE',\n",
       " 'priceProtect': False,\n",
       " 'origType': 'LIMIT',\n",
       " 'time': 1641100592486,\n",
       " 'updateTime': 1641100592486}"
      ]
     },
     "execution_count": 87,
     "metadata": {},
     "output_type": "execute_result"
    }
   ],
   "source": [
    "params = {\n",
    "    'symbol': 'ETHUSDT',\n",
    "    'orderId': 8389765513192792805,\n",
    "    # 'origClientOrderId':\"zb0BWGDa0g1CTYEBYJiHtf\"\n",
    "}\n",
    "response = send_signed_request('GET', '/fapi/v1/order',params)\n",
    "response"
   ]
  },
  {
   "cell_type": "markdown",
   "metadata": {},
   "source": [
    "## Query current open order"
   ]
  },
  {
   "cell_type": "code",
   "execution_count": 84,
   "metadata": {},
   "outputs": [
    {
     "name": "stdout",
     "output_type": "stream",
     "text": [
      "GET https://fapi.binance.com/fapi/v1/openOrder?symbol=ETHUSDT&origClientOrderId=zb0BWGDa0g1CTYEBYJiHtf&timestamp=1641146824809&signature=448ff78cbc9c68b8c46a7419a81f1089db826ad8e6f2a6ed57a073b06aa9d5c7\n"
     ]
    },
    {
     "data": {
      "text/plain": [
       "{'code': -2013, 'msg': 'Order does not exist.'}"
      ]
     },
     "execution_count": 84,
     "metadata": {},
     "output_type": "execute_result"
    }
   ],
   "source": [
    "params = {\n",
    "    'symbol': 'ETHUSDT',\n",
    "    # 'orderId': 8389765513217397663,\n",
    "    'origClientOrderId':\"zb0BWGDa0g1CTYEBYJiHtf\"\n",
    "}\n",
    "response = send_signed_request('GET', '/fapi/v1/openOrder',params)\n",
    "response"
   ]
  },
  {
   "cell_type": "markdown",
   "metadata": {},
   "source": [
    "## Change the leverage"
   ]
  },
  {
   "cell_type": "code",
   "execution_count": 15,
   "metadata": {},
   "outputs": [
    {
     "name": "stdout",
     "output_type": "stream",
     "text": [
      "{'symbol': 'BTCUSDT', 'leverage': 2, 'maxNotionalValue': '600000000'}\n"
     ]
    }
   ],
   "source": [
    "params = {\n",
    "    'symbol': 'BTCUSDT',\n",
    "    'leverage': 2,\n",
    "    # 'origClientOrderId':\"wWtnnmizY3xq2Cji8oaidM\"\n",
    "}\n",
    "response = send_signed_request('POST', '/fapi/v1/leverage',params)\n",
    "print(response)"
   ]
  },
  {
   "cell_type": "markdown",
   "metadata": {},
   "source": [
    "## commission"
   ]
  },
  {
   "cell_type": "code",
   "execution_count": 23,
   "metadata": {},
   "outputs": [
    {
     "name": "stdout",
     "output_type": "stream",
     "text": [
      "GET https://fapi.binance.com/fapi/v1/commissionRate?symbol=BTCUSDT&timestamp=1641096886661&signature=47013642a44b9f9eb13eb2829389feb882b7c06475a7e95543b3c6aa51fcf1ff\n",
      "{'symbol': 'BTCUSDT', 'makerCommissionRate': '0.000200', 'takerCommissionRate': '0.000400'}\n"
     ]
    }
   ],
   "source": [
    "params = {\n",
    "    'symbol': 'BTCUSDT',\n",
    "    # 'origClientOrderId':\"wWtnnmizY3xq2Cji8oaidM\"\n",
    "}\n",
    "response = send_signed_request('GET', '/fapi/v1/commissionRate',params)\n",
    "print(response)"
   ]
  },
  {
   "cell_type": "markdown",
   "metadata": {},
   "source": [
    "# functions"
   ]
  },
  {
   "cell_type": "markdown",
   "metadata": {},
   "source": [
    "## Module: Account balance"
   ]
  },
  {
   "cell_type": "code",
   "execution_count": null,
   "metadata": {},
   "outputs": [],
   "source": [
    "def account_P_L():\n",
    "    # ## USER_DATA endpoints, call send_signed_request #####\n",
    "    response = send_signed_request('GET', '/fapi/v2/account')\n",
    "    account_assets = json_normalize(response['assets'])\n",
    "    account_assets = account_assets.set_index('asset')\n",
    "    asset = ['USDT']\n",
    "    \n",
    "    Balance = account_assets.loc[asset]['walletBalance'].values[0]\n",
    "    UnrealizedProfit = account_assets.loc[asset]['unrealizedProfit'].values[0]\n",
    "    \n",
    "    return float(Balance),float(UnrealizedProfit)\n",
    "    \n",
    "account_P_L()"
   ]
  },
  {
   "cell_type": "markdown",
   "metadata": {},
   "source": [
    "## Module: Current position"
   ]
  },
  {
   "cell_type": "code",
   "execution_count": 121,
   "metadata": {},
   "outputs": [],
   "source": [
    "def find(lst, value):\n",
    "    # find the corresponding symbol info from the respond dict\n",
    "    for i, dic in enumerate(lst):\n",
    "        if dic['symbol'] == value:\n",
    "            return lst[i]\n",
    "    raise ValueError('No such a symbol')\n",
    "\n",
    "\n",
    "def position(pos_amt):\n",
    "    # judge the current position\n",
    "    if pos_amt > 0:\n",
    "        return \"BUY\"\n",
    "    elif pos_amt < 0:\n",
    "        return \"SELL\"\n",
    "    else:\n",
    "        return \"Empty\"\n",
    "    \n",
    "    \n",
    "def Holding_info(symbol):\n",
    "    \n",
    "    # obtain the current account info\n",
    "    response = send_signed_request('GET', '/fapi/v2/account')\n",
    "    account_positions = json_normalize(response['positions'])\n",
    "\n",
    "    # append the current position to the symbol holding information\n",
    "    # short position of \"SELL\", long position for \"BUY\",\"Empty\"\n",
    "    symbol_info = find(response['positions'],symbol)\n",
    "    symbol_pos_amt = float(symbol_info['positionAmt'])\n",
    "    symbol_info['position'] = position(symbol_pos_amt)\n",
    "    \n",
    "    return symbol_info\n",
    "\n",
    "\n",
    "def Current_position(symbol):\n",
    "    hold_pos = Holding_info(symbol)['position']\n",
    "    hold_amt = Holding_info(symbol)['positionAmt']\n",
    "    return hold_pos,hold_amt\n",
    "    "
   ]
  },
  {
   "cell_type": "code",
   "execution_count": 122,
   "metadata": {},
   "outputs": [
    {
     "data": {
      "text/plain": [
       "('SELL', '-0.002')"
      ]
     },
     "execution_count": 122,
     "metadata": {},
     "output_type": "execute_result"
    }
   ],
   "source": [
    "Current_position('BTCUSDT')"
   ]
  },
  {
   "cell_type": "markdown",
   "metadata": {},
   "source": [
    "## Module: Order status"
   ]
  },
  {
   "cell_type": "code",
   "execution_count": 5,
   "metadata": {},
   "outputs": [],
   "source": [
    "def Order_status(symbol:str,orderId:int):\n",
    "    \n",
    "    params = {\n",
    "    'symbol': symbol,\n",
    "    'orderId': orderId,\n",
    "    # 'origClientOrderId':\"zb0BWGDa0g1CTYEBYJiHtf\"\n",
    "    }\n",
    "    \n",
    "    response = send_signed_request('GET', '/fapi/v1/order',params)\n",
    "    return response['status']\n",
    "    \n",
    "symbol = 'ETHUSDT'\n",
    "orderId = 8389765513192792805\n",
    "Order_status(symbol,orderId)\n",
    "\n",
    "\n",
    "def Get_lastest_orderId(symbol):\n",
    "    params = {\n",
    "    'symbol': symbol,\n",
    "    }\n",
    "    response = send_signed_request('GET', '/fapi/v1/allOrders',params)\n",
    "    lastest_order_id = response[-1]['orderId']\n",
    "    lastest_order_status = response[-1]['status']\n",
    "    \n",
    "    return response[-1]['status']\n",
    "    \n",
    "    "
   ]
  },
  {
   "cell_type": "code",
   "execution_count": 6,
   "metadata": {},
   "outputs": [
    {
     "data": {
      "text/plain": [
       "'NEW'"
      ]
     },
     "execution_count": 6,
     "metadata": {},
     "output_type": "execute_result"
    }
   ],
   "source": [
    "symbol = 'ETHUSDT'\n",
    "Get_lastest_orderId(symbol)"
   ]
  },
  {
   "cell_type": "code",
   "execution_count": 107,
   "metadata": {},
   "outputs": [
    {
     "data": {
      "text/html": [
       "<div>\n",
       "<style scoped>\n",
       "    .dataframe tbody tr th:only-of-type {\n",
       "        vertical-align: middle;\n",
       "    }\n",
       "\n",
       "    .dataframe tbody tr th {\n",
       "        vertical-align: top;\n",
       "    }\n",
       "\n",
       "    .dataframe thead th {\n",
       "        text-align: right;\n",
       "    }\n",
       "</style>\n",
       "<table border=\"1\" class=\"dataframe\">\n",
       "  <thead>\n",
       "    <tr style=\"text-align: right;\">\n",
       "      <th></th>\n",
       "      <th>orderId</th>\n",
       "      <th>symbol</th>\n",
       "      <th>status</th>\n",
       "      <th>clientOrderId</th>\n",
       "      <th>price</th>\n",
       "      <th>avgPrice</th>\n",
       "      <th>origQty</th>\n",
       "      <th>executedQty</th>\n",
       "      <th>cumQuote</th>\n",
       "      <th>timeInForce</th>\n",
       "      <th>...</th>\n",
       "      <th>reduceOnly</th>\n",
       "      <th>closePosition</th>\n",
       "      <th>side</th>\n",
       "      <th>positionSide</th>\n",
       "      <th>stopPrice</th>\n",
       "      <th>workingType</th>\n",
       "      <th>priceProtect</th>\n",
       "      <th>origType</th>\n",
       "      <th>time</th>\n",
       "      <th>updateTime</th>\n",
       "    </tr>\n",
       "  </thead>\n",
       "  <tbody>\n",
       "    <tr>\n",
       "      <th>0</th>\n",
       "      <td>8389765513191238801</td>\n",
       "      <td>ETHUSDT</td>\n",
       "      <td>FILLED</td>\n",
       "      <td>IaecjopRF8Qm6iwQ916hVs</td>\n",
       "      <td>3760</td>\n",
       "      <td>3749.21000</td>\n",
       "      <td>0.010</td>\n",
       "      <td>0.010</td>\n",
       "      <td>37.49210</td>\n",
       "      <td>GTC</td>\n",
       "      <td>...</td>\n",
       "      <td>False</td>\n",
       "      <td>False</td>\n",
       "      <td>BUY</td>\n",
       "      <td>BOTH</td>\n",
       "      <td>0</td>\n",
       "      <td>CONTRACT_PRICE</td>\n",
       "      <td>False</td>\n",
       "      <td>LIMIT</td>\n",
       "      <td>1641097378388</td>\n",
       "      <td>1641097378388</td>\n",
       "    </tr>\n",
       "    <tr>\n",
       "      <th>1</th>\n",
       "      <td>8389765513192675471</td>\n",
       "      <td>ETHUSDT</td>\n",
       "      <td>CANCELED</td>\n",
       "      <td>7pUoxQue8zz0WqgSU3IqM5</td>\n",
       "      <td>3730</td>\n",
       "      <td>0.00000</td>\n",
       "      <td>0.010</td>\n",
       "      <td>0</td>\n",
       "      <td>0</td>\n",
       "      <td>GTC</td>\n",
       "      <td>...</td>\n",
       "      <td>False</td>\n",
       "      <td>False</td>\n",
       "      <td>SELL</td>\n",
       "      <td>BOTH</td>\n",
       "      <td>0</td>\n",
       "      <td>CONTRACT_PRICE</td>\n",
       "      <td>False</td>\n",
       "      <td>LIMIT</td>\n",
       "      <td>1641100349990</td>\n",
       "      <td>1641100537658</td>\n",
       "    </tr>\n",
       "    <tr>\n",
       "      <th>2</th>\n",
       "      <td>8389765513192792805</td>\n",
       "      <td>ETHUSDT</td>\n",
       "      <td>FILLED</td>\n",
       "      <td>zb0BWGDa0g1CTYEBYJiHtf</td>\n",
       "      <td>3710</td>\n",
       "      <td>3722.99000</td>\n",
       "      <td>0.010</td>\n",
       "      <td>0.010</td>\n",
       "      <td>37.22990</td>\n",
       "      <td>GTC</td>\n",
       "      <td>...</td>\n",
       "      <td>False</td>\n",
       "      <td>False</td>\n",
       "      <td>SELL</td>\n",
       "      <td>BOTH</td>\n",
       "      <td>0</td>\n",
       "      <td>CONTRACT_PRICE</td>\n",
       "      <td>False</td>\n",
       "      <td>LIMIT</td>\n",
       "      <td>1641100592486</td>\n",
       "      <td>1641100592486</td>\n",
       "    </tr>\n",
       "    <tr>\n",
       "      <th>3</th>\n",
       "      <td>8389765513217397663</td>\n",
       "      <td>ETHUSDT</td>\n",
       "      <td>NEW</td>\n",
       "      <td>eCUzc5AMzeFK8kec96LwCw</td>\n",
       "      <td>3600</td>\n",
       "      <td>0.00000</td>\n",
       "      <td>0.010</td>\n",
       "      <td>0</td>\n",
       "      <td>0</td>\n",
       "      <td>GTC</td>\n",
       "      <td>...</td>\n",
       "      <td>False</td>\n",
       "      <td>False</td>\n",
       "      <td>BUY</td>\n",
       "      <td>BOTH</td>\n",
       "      <td>0</td>\n",
       "      <td>CONTRACT_PRICE</td>\n",
       "      <td>False</td>\n",
       "      <td>LIMIT</td>\n",
       "      <td>1641146007972</td>\n",
       "      <td>1641146007972</td>\n",
       "    </tr>\n",
       "  </tbody>\n",
       "</table>\n",
       "<p>4 rows × 21 columns</p>\n",
       "</div>"
      ],
      "text/plain": [
       "               orderId   symbol    status           clientOrderId price  \\\n",
       "0  8389765513191238801  ETHUSDT    FILLED  IaecjopRF8Qm6iwQ916hVs  3760   \n",
       "1  8389765513192675471  ETHUSDT  CANCELED  7pUoxQue8zz0WqgSU3IqM5  3730   \n",
       "2  8389765513192792805  ETHUSDT    FILLED  zb0BWGDa0g1CTYEBYJiHtf  3710   \n",
       "3  8389765513217397663  ETHUSDT       NEW  eCUzc5AMzeFK8kec96LwCw  3600   \n",
       "\n",
       "     avgPrice origQty executedQty  cumQuote timeInForce  ... reduceOnly  \\\n",
       "0  3749.21000   0.010       0.010  37.49210         GTC  ...      False   \n",
       "1     0.00000   0.010           0         0         GTC  ...      False   \n",
       "2  3722.99000   0.010       0.010  37.22990         GTC  ...      False   \n",
       "3     0.00000   0.010           0         0         GTC  ...      False   \n",
       "\n",
       "   closePosition  side positionSide stopPrice     workingType priceProtect  \\\n",
       "0          False   BUY         BOTH         0  CONTRACT_PRICE        False   \n",
       "1          False  SELL         BOTH         0  CONTRACT_PRICE        False   \n",
       "2          False  SELL         BOTH         0  CONTRACT_PRICE        False   \n",
       "3          False   BUY         BOTH         0  CONTRACT_PRICE        False   \n",
       "\n",
       "   origType           time     updateTime  \n",
       "0     LIMIT  1641097378388  1641097378388  \n",
       "1     LIMIT  1641100349990  1641100537658  \n",
       "2     LIMIT  1641100592486  1641100592486  \n",
       "3     LIMIT  1641146007972  1641146007972  \n",
       "\n",
       "[4 rows x 21 columns]"
      ]
     },
     "execution_count": 107,
     "metadata": {},
     "output_type": "execute_result"
    }
   ],
   "source": [
    "params = {\n",
    "'symbol': 'ETHUSDT',\n",
    "}\n",
    "response = send_signed_request('GET', '/fapi/v1/allOrders',params)\n",
    "# print(response)\n",
    "json_normalize(response)"
   ]
  },
  {
   "cell_type": "code",
   "execution_count": 110,
   "metadata": {},
   "outputs": [
    {
     "data": {
      "text/plain": [
       "'NEW'"
      ]
     },
     "execution_count": 110,
     "metadata": {},
     "output_type": "execute_result"
    }
   ],
   "source": [
    "response[-1]['status']"
   ]
  },
  {
   "cell_type": "markdown",
   "metadata": {},
   "source": [
    "## Module: Data obtain and indicator"
   ]
  },
  {
   "cell_type": "code",
   "execution_count": null,
   "metadata": {},
   "outputs": [],
   "source": [
    "import pandas as pd"
   ]
  },
  {
   "cell_type": "code",
   "execution_count": 104,
   "metadata": {},
   "outputs": [],
   "source": [
    "def future_data(pair,interval,contractType = 'PERPETUAL'):\n",
    "    \n",
    "    url_path = '/fapi/v1/continuousKlines'\n",
    "    params = {\n",
    "    'pair': pair,\n",
    "    'contractType': contractType,\n",
    "    'interval': interval,\n",
    "    'limit':1500\n",
    "    }\n",
    "\n",
    "    response = send_public_request(url_path, params)\n",
    "\n",
    "    col = ['Open time','Open','High','Low','Close','Volume','Close time','Quote asset volume','Number of trades',\n",
    "        'Taker buy volume','Taker buy quote asset volume','Ignore']\n",
    "    data = pd.DataFrame(response,columns=col)\n",
    "\n",
    "    # adjust the datetime type\n",
    "    data['Open time'] = pd.to_datetime(data['Open time'],unit='ms',utc=True)\n",
    "    data['Close time'] = pd.to_datetime(data['Close time'],unit='ms',utc=True)\n",
    "\n",
    "    # transfer the object to float\n",
    "    data.iloc[:,1:6] = data.iloc[:,1:6].astype(float)\n",
    "    \n",
    "    return data\n"
   ]
  },
  {
   "cell_type": "code",
   "execution_count": 107,
   "metadata": {},
   "outputs": [
    {
     "data": {
      "text/html": [
       "<div>\n",
       "<style scoped>\n",
       "    .dataframe tbody tr th:only-of-type {\n",
       "        vertical-align: middle;\n",
       "    }\n",
       "\n",
       "    .dataframe tbody tr th {\n",
       "        vertical-align: top;\n",
       "    }\n",
       "\n",
       "    .dataframe thead th {\n",
       "        text-align: right;\n",
       "    }\n",
       "</style>\n",
       "<table border=\"1\" class=\"dataframe\">\n",
       "  <thead>\n",
       "    <tr style=\"text-align: right;\">\n",
       "      <th></th>\n",
       "      <th>Open time</th>\n",
       "      <th>Open</th>\n",
       "      <th>High</th>\n",
       "      <th>Low</th>\n",
       "      <th>Close</th>\n",
       "      <th>Volume</th>\n",
       "      <th>Close time</th>\n",
       "      <th>Quote asset volume</th>\n",
       "      <th>Number of trades</th>\n",
       "      <th>Taker buy volume</th>\n",
       "      <th>Taker buy quote asset volume</th>\n",
       "      <th>Ignore</th>\n",
       "    </tr>\n",
       "  </thead>\n",
       "  <tbody>\n",
       "    <tr>\n",
       "      <th>0</th>\n",
       "      <td>2020-08-21 00:00:00+00:00</td>\n",
       "      <td>416.30</td>\n",
       "      <td>418.95</td>\n",
       "      <td>409.80</td>\n",
       "      <td>413.12</td>\n",
       "      <td>357477.447</td>\n",
       "      <td>2020-08-21 07:59:59.999000+00:00</td>\n",
       "      <td>148007543.83317</td>\n",
       "      <td>143706</td>\n",
       "      <td>158462.877</td>\n",
       "      <td>65628427.46620</td>\n",
       "      <td>0</td>\n",
       "    </tr>\n",
       "    <tr>\n",
       "      <th>1</th>\n",
       "      <td>2020-08-21 08:00:00+00:00</td>\n",
       "      <td>413.12</td>\n",
       "      <td>413.12</td>\n",
       "      <td>399.81</td>\n",
       "      <td>404.49</td>\n",
       "      <td>651229.917</td>\n",
       "      <td>2020-08-21 15:59:59.999000+00:00</td>\n",
       "      <td>264522052.31870</td>\n",
       "      <td>209160</td>\n",
       "      <td>292079.290</td>\n",
       "      <td>118644542.47656</td>\n",
       "      <td>0</td>\n",
       "    </tr>\n",
       "    <tr>\n",
       "      <th>2</th>\n",
       "      <td>2020-08-21 16:00:00+00:00</td>\n",
       "      <td>404.50</td>\n",
       "      <td>407.19</td>\n",
       "      <td>385.09</td>\n",
       "      <td>388.25</td>\n",
       "      <td>861459.161</td>\n",
       "      <td>2020-08-21 23:59:59.999000+00:00</td>\n",
       "      <td>340885436.08925</td>\n",
       "      <td>283731</td>\n",
       "      <td>378744.003</td>\n",
       "      <td>149917811.50611</td>\n",
       "      <td>0</td>\n",
       "    </tr>\n",
       "    <tr>\n",
       "      <th>3</th>\n",
       "      <td>2020-08-22 00:00:00+00:00</td>\n",
       "      <td>388.27</td>\n",
       "      <td>392.55</td>\n",
       "      <td>380.00</td>\n",
       "      <td>391.29</td>\n",
       "      <td>550641.210</td>\n",
       "      <td>2020-08-22 07:59:59.999000+00:00</td>\n",
       "      <td>212300747.57440</td>\n",
       "      <td>199969</td>\n",
       "      <td>263127.624</td>\n",
       "      <td>101514671.57880</td>\n",
       "      <td>0</td>\n",
       "    </tr>\n",
       "    <tr>\n",
       "      <th>4</th>\n",
       "      <td>2020-08-22 08:00:00+00:00</td>\n",
       "      <td>391.29</td>\n",
       "      <td>395.24</td>\n",
       "      <td>388.47</td>\n",
       "      <td>390.61</td>\n",
       "      <td>326870.272</td>\n",
       "      <td>2020-08-22 15:59:59.999000+00:00</td>\n",
       "      <td>128014028.09528</td>\n",
       "      <td>153323</td>\n",
       "      <td>151909.891</td>\n",
       "      <td>59513622.87287</td>\n",
       "      <td>0</td>\n",
       "    </tr>\n",
       "  </tbody>\n",
       "</table>\n",
       "</div>"
      ],
      "text/plain": [
       "                  Open time    Open    High     Low   Close      Volume  \\\n",
       "0 2020-08-21 00:00:00+00:00  416.30  418.95  409.80  413.12  357477.447   \n",
       "1 2020-08-21 08:00:00+00:00  413.12  413.12  399.81  404.49  651229.917   \n",
       "2 2020-08-21 16:00:00+00:00  404.50  407.19  385.09  388.25  861459.161   \n",
       "3 2020-08-22 00:00:00+00:00  388.27  392.55  380.00  391.29  550641.210   \n",
       "4 2020-08-22 08:00:00+00:00  391.29  395.24  388.47  390.61  326870.272   \n",
       "\n",
       "                        Close time Quote asset volume  Number of trades  \\\n",
       "0 2020-08-21 07:59:59.999000+00:00    148007543.83317            143706   \n",
       "1 2020-08-21 15:59:59.999000+00:00    264522052.31870            209160   \n",
       "2 2020-08-21 23:59:59.999000+00:00    340885436.08925            283731   \n",
       "3 2020-08-22 07:59:59.999000+00:00    212300747.57440            199969   \n",
       "4 2020-08-22 15:59:59.999000+00:00    128014028.09528            153323   \n",
       "\n",
       "  Taker buy volume Taker buy quote asset volume Ignore  \n",
       "0       158462.877               65628427.46620      0  \n",
       "1       292079.290              118644542.47656      0  \n",
       "2       378744.003              149917811.50611      0  \n",
       "3       263127.624              101514671.57880      0  \n",
       "4       151909.891               59513622.87287      0  "
      ]
     },
     "execution_count": 107,
     "metadata": {},
     "output_type": "execute_result"
    }
   ],
   "source": [
    "symbol = 'ETHUSDT'\n",
    "interval = '8h'\n",
    "data = future_data(symbol,interval)\n",
    "data.head()"
   ]
  },
  {
   "cell_type": "code",
   "execution_count": 74,
   "metadata": {},
   "outputs": [],
   "source": [
    "import talib as ta"
   ]
  },
  {
   "cell_type": "code",
   "execution_count": 108,
   "metadata": {},
   "outputs": [],
   "source": [
    "def ema_indicator(data):\n",
    "    \n",
    "    close = data['Close']\n",
    "    ema_a = ta.EMA(close,timeperiod=36).tolist()\n",
    "    ema_b = ta.EMA(close,timeperiod=60).tolist()\n",
    "\n",
    "    return ema_a,ema_b\n",
    "    "
   ]
  },
  {
   "cell_type": "code",
   "execution_count": 110,
   "metadata": {},
   "outputs": [],
   "source": [
    "ema_a,ema_b = ema_indicator(data)"
   ]
  },
  {
   "cell_type": "markdown",
   "metadata": {},
   "source": [
    "## Module: Trading Operation"
   ]
  },
  {
   "cell_type": "code",
   "execution_count": 9,
   "metadata": {},
   "outputs": [],
   "source": [
    "def Order_BUY_Market(symbol,quantity):\n",
    "    \n",
    "    params = {\n",
    "        'symbol': symbol,\n",
    "        'side': 'BUY',\n",
    "        'type': 'MARKET',\n",
    "        'quantity': quantity,\n",
    "    }\n",
    "    response = send_signed_request('POST', '/fapi/v1/order',params)\n",
    "    print(response)\n",
    "\n",
    "def Order_SELL_Market(symbol,quantity = 0.002):\n",
    "    \n",
    "    params = {\n",
    "        'symbol': symbol,\n",
    "        'side': 'SELL',\n",
    "        'type': 'MARKET',\n",
    "        'quantity': quantity,\n",
    "    }\n",
    "\n",
    "    response = send_signed_request('POST', '/fapi/v1/order',params)\n",
    "    print(response)"
   ]
  },
  {
   "cell_type": "code",
   "execution_count": 10,
   "metadata": {},
   "outputs": [],
   "source": [
    "symbol = 'BTCUSDT'\n",
    "quantity = 0.002\n",
    "\n",
    "Order_SELL_Market(symbol,quantity)"
   ]
  }
 ],
 "metadata": {
  "interpreter": {
   "hash": "673a8e026ff19b67b287881da829c388a320bec0928a4002605be0b0252357bc"
  },
  "kernelspec": {
   "display_name": "Python 3.8.8 64-bit ('base': conda)",
   "language": "python",
   "name": "python3"
  },
  "language_info": {
   "codemirror_mode": {
    "name": "ipython",
    "version": 3
   },
   "file_extension": ".py",
   "mimetype": "text/x-python",
   "name": "python",
   "nbconvert_exporter": "python",
   "pygments_lexer": "ipython3",
   "version": "3.9.7"
  },
  "orig_nbformat": 4
 },
 "nbformat": 4,
 "nbformat_minor": 2
}
