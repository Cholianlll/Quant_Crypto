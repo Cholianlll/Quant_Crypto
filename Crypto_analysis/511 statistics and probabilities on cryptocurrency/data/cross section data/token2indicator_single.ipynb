{
 "cells": [
  {
   "cell_type": "code",
   "execution_count": 1,
   "id": "f205b8fc",
   "metadata": {},
   "outputs": [],
   "source": [
    "# Packages\n",
    "import time\n",
    "import json\n",
    "import talib as ta\n",
    "import requests\n",
    "import pandas as pd\n",
    "import numpy as np\n",
    "import datetime\n",
    "from urllib.parse import urljoin, urlencode\n",
    "from dateutil import parser\n"
   ]
  },
  {
   "cell_type": "markdown",
   "id": "082bc95a",
   "metadata": {},
   "source": [
    "# Obtian the exchange info"
   ]
  },
  {
   "cell_type": "code",
   "execution_count": 2,
   "id": "4e285c29",
   "metadata": {},
   "outputs": [],
   "source": [
    "# Obtain the exchange information firstly\n",
    "def exchangeInfo():\n",
    "    BASE_URL = 'https://api.binance.com'\n",
    "    PATH = '/api/v3/exchangeInfo'\n",
    "    \n",
    "    url = urljoin(BASE_URL, PATH)\n",
    "    \n",
    "    response = requests.get(url)\n",
    "\n",
    "    data = response.json()\n",
    "    data = pd.DataFrame(data['symbols'])\n",
    "    return data"
   ]
  },
  {
   "cell_type": "code",
   "execution_count": 3,
   "id": "d54c7ed0",
   "metadata": {},
   "outputs": [
    {
     "data": {
      "text/html": [
       "<div>\n",
       "<style scoped>\n",
       "    .dataframe tbody tr th:only-of-type {\n",
       "        vertical-align: middle;\n",
       "    }\n",
       "\n",
       "    .dataframe tbody tr th {\n",
       "        vertical-align: top;\n",
       "    }\n",
       "\n",
       "    .dataframe thead th {\n",
       "        text-align: right;\n",
       "    }\n",
       "</style>\n",
       "<table border=\"1\" class=\"dataframe\">\n",
       "  <thead>\n",
       "    <tr style=\"text-align: right;\">\n",
       "      <th></th>\n",
       "      <th>symbol</th>\n",
       "      <th>status</th>\n",
       "      <th>baseAsset</th>\n",
       "      <th>baseAssetPrecision</th>\n",
       "      <th>quoteAsset</th>\n",
       "      <th>quotePrecision</th>\n",
       "      <th>quoteAssetPrecision</th>\n",
       "      <th>baseCommissionPrecision</th>\n",
       "      <th>quoteCommissionPrecision</th>\n",
       "      <th>orderTypes</th>\n",
       "      <th>icebergAllowed</th>\n",
       "      <th>ocoAllowed</th>\n",
       "      <th>quoteOrderQtyMarketAllowed</th>\n",
       "      <th>isSpotTradingAllowed</th>\n",
       "      <th>isMarginTradingAllowed</th>\n",
       "      <th>filters</th>\n",
       "      <th>permissions</th>\n",
       "    </tr>\n",
       "  </thead>\n",
       "  <tbody>\n",
       "    <tr>\n",
       "      <th>0</th>\n",
       "      <td>ETHBTC</td>\n",
       "      <td>TRADING</td>\n",
       "      <td>ETH</td>\n",
       "      <td>8</td>\n",
       "      <td>BTC</td>\n",
       "      <td>8</td>\n",
       "      <td>8</td>\n",
       "      <td>8</td>\n",
       "      <td>8</td>\n",
       "      <td>[LIMIT, LIMIT_MAKER, MARKET, STOP_LOSS_LIMIT, ...</td>\n",
       "      <td>True</td>\n",
       "      <td>True</td>\n",
       "      <td>True</td>\n",
       "      <td>True</td>\n",
       "      <td>True</td>\n",
       "      <td>[{'filterType': 'PRICE_FILTER', 'minPrice': '0...</td>\n",
       "      <td>[SPOT, MARGIN]</td>\n",
       "    </tr>\n",
       "    <tr>\n",
       "      <th>1</th>\n",
       "      <td>LTCBTC</td>\n",
       "      <td>TRADING</td>\n",
       "      <td>LTC</td>\n",
       "      <td>8</td>\n",
       "      <td>BTC</td>\n",
       "      <td>8</td>\n",
       "      <td>8</td>\n",
       "      <td>8</td>\n",
       "      <td>8</td>\n",
       "      <td>[LIMIT, LIMIT_MAKER, MARKET, STOP_LOSS_LIMIT, ...</td>\n",
       "      <td>True</td>\n",
       "      <td>True</td>\n",
       "      <td>True</td>\n",
       "      <td>True</td>\n",
       "      <td>True</td>\n",
       "      <td>[{'filterType': 'PRICE_FILTER', 'minPrice': '0...</td>\n",
       "      <td>[SPOT, MARGIN]</td>\n",
       "    </tr>\n",
       "    <tr>\n",
       "      <th>2</th>\n",
       "      <td>BNBBTC</td>\n",
       "      <td>TRADING</td>\n",
       "      <td>BNB</td>\n",
       "      <td>8</td>\n",
       "      <td>BTC</td>\n",
       "      <td>8</td>\n",
       "      <td>8</td>\n",
       "      <td>8</td>\n",
       "      <td>8</td>\n",
       "      <td>[LIMIT, LIMIT_MAKER, MARKET, STOP_LOSS_LIMIT, ...</td>\n",
       "      <td>True</td>\n",
       "      <td>True</td>\n",
       "      <td>True</td>\n",
       "      <td>True</td>\n",
       "      <td>True</td>\n",
       "      <td>[{'filterType': 'PRICE_FILTER', 'minPrice': '0...</td>\n",
       "      <td>[SPOT, MARGIN]</td>\n",
       "    </tr>\n",
       "    <tr>\n",
       "      <th>3</th>\n",
       "      <td>NEOBTC</td>\n",
       "      <td>TRADING</td>\n",
       "      <td>NEO</td>\n",
       "      <td>8</td>\n",
       "      <td>BTC</td>\n",
       "      <td>8</td>\n",
       "      <td>8</td>\n",
       "      <td>8</td>\n",
       "      <td>8</td>\n",
       "      <td>[LIMIT, LIMIT_MAKER, MARKET, STOP_LOSS_LIMIT, ...</td>\n",
       "      <td>True</td>\n",
       "      <td>True</td>\n",
       "      <td>True</td>\n",
       "      <td>True</td>\n",
       "      <td>True</td>\n",
       "      <td>[{'filterType': 'PRICE_FILTER', 'minPrice': '0...</td>\n",
       "      <td>[SPOT, MARGIN]</td>\n",
       "    </tr>\n",
       "    <tr>\n",
       "      <th>4</th>\n",
       "      <td>QTUMETH</td>\n",
       "      <td>TRADING</td>\n",
       "      <td>QTUM</td>\n",
       "      <td>8</td>\n",
       "      <td>ETH</td>\n",
       "      <td>8</td>\n",
       "      <td>8</td>\n",
       "      <td>8</td>\n",
       "      <td>8</td>\n",
       "      <td>[LIMIT, LIMIT_MAKER, MARKET, STOP_LOSS_LIMIT, ...</td>\n",
       "      <td>True</td>\n",
       "      <td>True</td>\n",
       "      <td>True</td>\n",
       "      <td>True</td>\n",
       "      <td>False</td>\n",
       "      <td>[{'filterType': 'PRICE_FILTER', 'minPrice': '0...</td>\n",
       "      <td>[SPOT]</td>\n",
       "    </tr>\n",
       "  </tbody>\n",
       "</table>\n",
       "</div>"
      ],
      "text/plain": [
       "    symbol   status baseAsset  baseAssetPrecision quoteAsset  quotePrecision  \\\n",
       "0   ETHBTC  TRADING       ETH                   8        BTC               8   \n",
       "1   LTCBTC  TRADING       LTC                   8        BTC               8   \n",
       "2   BNBBTC  TRADING       BNB                   8        BTC               8   \n",
       "3   NEOBTC  TRADING       NEO                   8        BTC               8   \n",
       "4  QTUMETH  TRADING      QTUM                   8        ETH               8   \n",
       "\n",
       "   quoteAssetPrecision  baseCommissionPrecision  quoteCommissionPrecision  \\\n",
       "0                    8                        8                         8   \n",
       "1                    8                        8                         8   \n",
       "2                    8                        8                         8   \n",
       "3                    8                        8                         8   \n",
       "4                    8                        8                         8   \n",
       "\n",
       "                                          orderTypes  icebergAllowed  \\\n",
       "0  [LIMIT, LIMIT_MAKER, MARKET, STOP_LOSS_LIMIT, ...            True   \n",
       "1  [LIMIT, LIMIT_MAKER, MARKET, STOP_LOSS_LIMIT, ...            True   \n",
       "2  [LIMIT, LIMIT_MAKER, MARKET, STOP_LOSS_LIMIT, ...            True   \n",
       "3  [LIMIT, LIMIT_MAKER, MARKET, STOP_LOSS_LIMIT, ...            True   \n",
       "4  [LIMIT, LIMIT_MAKER, MARKET, STOP_LOSS_LIMIT, ...            True   \n",
       "\n",
       "   ocoAllowed  quoteOrderQtyMarketAllowed  isSpotTradingAllowed  \\\n",
       "0        True                        True                  True   \n",
       "1        True                        True                  True   \n",
       "2        True                        True                  True   \n",
       "3        True                        True                  True   \n",
       "4        True                        True                  True   \n",
       "\n",
       "   isMarginTradingAllowed                                            filters  \\\n",
       "0                    True  [{'filterType': 'PRICE_FILTER', 'minPrice': '0...   \n",
       "1                    True  [{'filterType': 'PRICE_FILTER', 'minPrice': '0...   \n",
       "2                    True  [{'filterType': 'PRICE_FILTER', 'minPrice': '0...   \n",
       "3                    True  [{'filterType': 'PRICE_FILTER', 'minPrice': '0...   \n",
       "4                   False  [{'filterType': 'PRICE_FILTER', 'minPrice': '0...   \n",
       "\n",
       "      permissions  \n",
       "0  [SPOT, MARGIN]  \n",
       "1  [SPOT, MARGIN]  \n",
       "2  [SPOT, MARGIN]  \n",
       "3  [SPOT, MARGIN]  \n",
       "4          [SPOT]  "
      ]
     },
     "execution_count": 3,
     "metadata": {},
     "output_type": "execute_result"
    }
   ],
   "source": [
    "tokenInfo = exchangeInfo()\n",
    "\n",
    "tokenInfo.head()"
   ]
  },
  {
   "cell_type": "code",
   "execution_count": 4,
   "id": "f170640e",
   "metadata": {},
   "outputs": [
    {
     "data": {
      "text/plain": [
       "'ETHBTC'"
      ]
     },
     "execution_count": 4,
     "metadata": {},
     "output_type": "execute_result"
    }
   ],
   "source": [
    "# tokenInfo.to_csv(\"Exchange_info.csv\")\n",
    "\n",
    "# example\n",
    "tokenInfo['symbol'][0]"
   ]
  },
  {
   "cell_type": "markdown",
   "id": "38cae151",
   "metadata": {},
   "source": [
    "# obtain the historicl data of tokens"
   ]
  },
  {
   "cell_type": "markdown",
   "id": "d9768917",
   "metadata": {},
   "source": [
    "Binance exchange provides from monthly frequency data to minute frequency data."
   ]
  },
  {
   "cell_type": "code",
   "execution_count": 5,
   "id": "68bf739d",
   "metadata": {},
   "outputs": [],
   "source": [
    "# timedelta_fre = ['W','D','hours','m','s','ms']\n",
    "itv = [\"1m\",\"3m\",\"5m\",\"15m\",\"30m\",\"1h\",\"2h\",\"4h\",\"6h\",\"8h\",\"12h\",\"1d\",\"3d\",\"1w\",\"1M\"]\n",
    "\n",
    "# historical of token price should be indexed by its symbol.\n",
    "smb = tokenInfo['symbol']"
   ]
  },
  {
   "cell_type": "code",
   "execution_count": 6,
   "id": "603f2394",
   "metadata": {},
   "outputs": [],
   "source": [
    "def start_end_time(startTime,interval,length = 1000):\n",
    "#     Due to the limit of the api, we need a function to help cut a long time into small period.\n",
    "#     The function input the start time and interval and return the start time and endtime. \n",
    "#     \n",
    "#     read the time\n",
    "    startTime = datetime.datetime.strptime(startTime, \"%Y-%m-%d %H:%M:%S\")\n",
    "    \n",
    "#     unit \n",
    "    unit = interval\n",
    "#     transfer the interval frequence\n",
    "    if unit in [\"1m\",\"3m\",\"5m\",\"15m\",\"30m\"]:\n",
    "        unit = 'm'\n",
    "    elif unit in [\"1h\",\"2h\",\"4h\",\"6h\",\"8h\",\"12h\"]:\n",
    "        unit = 'hours'\n",
    "    elif unit in [\"1d\",\"3d\"]:\n",
    "        unit = 'D'\n",
    "    else:\n",
    "        unit = 'W'\n",
    "        \n",
    "    endTime = pd.to_datetime(startTime)+pd.to_timedelta(length, unit = unit)\n",
    "\n",
    "    startTime = datetime.datetime.timestamp(startTime)*1000\n",
    "    endTime = datetime.datetime.timestamp(endTime)*1000\n",
    "    \n",
    "    return str(int(startTime)),str(int(endTime))"
   ]
  },
  {
   "cell_type": "code",
   "execution_count": 7,
   "id": "0365761f",
   "metadata": {},
   "outputs": [],
   "source": [
    "def klines(symbol,startTime,endTime,interval):\n",
    "#    This function is aimed to gather the historical price data.    \n",
    "    BASE_URL = 'https://api.binance.com'\n",
    "    PATH = '/api/v3/klines'\n",
    "    \n",
    "    params = {\n",
    "        'symbol': symbol,\n",
    "        'interval': interval,\n",
    "        'startTime':startTime,\n",
    "        'endTime':endTime,\n",
    "        'limit':1000 # 500/1000 is the limit for each request\n",
    "    }\n",
    "\n",
    "    url = urljoin(BASE_URL, PATH)\n",
    "\n",
    "    response = requests.get(url,params=params)\n",
    "\n",
    "    data = response.json()\n",
    "    data = pd.DataFrame(data)\n",
    "#     change the cols\n",
    "    col = ['Open time','Open','High','Low','Close','Volume','Close time','Quote asset volume','Number of trades',\n",
    "       'Taker buy base asset volume','Taker buy quote asset volume','Ignore']\n",
    "    \n",
    "    if not data.empty:\n",
    "        data.columns = col\n",
    "#       transfer the timestamp into time\n",
    "        data['Open time'] = pd.to_datetime(data['Open time'],unit='ms',utc=True)\n",
    "        data['Close time'] = pd.to_datetime(data['Close time'],unit='ms',utc=True)\n",
    "        return data\n",
    "    else:\n",
    "        print('No data')"
   ]
  },
  {
   "cell_type": "markdown",
   "id": "2ee761df",
   "metadata": {},
   "source": [
    "# Sample of data"
   ]
  },
  {
   "cell_type": "markdown",
   "id": "e26e77ea",
   "metadata": {},
   "source": [
    "After build the function of API and exchange information, we can now obtain every token with every period data."
   ]
  },
  {
   "cell_type": "markdown",
   "id": "4ba2a6b0",
   "metadata": {},
   "source": [
    "For example, we here use famous 1m BTC as our data sample."
   ]
  },
  {
   "cell_type": "markdown",
   "metadata": {},
   "source": [
    "计算features"
   ]
  },
  {
   "cell_type": "code",
   "execution_count": 8,
   "metadata": {},
   "outputs": [],
   "source": [
    "def max_min_scaler(data:list):\n",
    "    \n",
    "    data = data[~np.isnan(data)]\n",
    "    if not data.empty:\n",
    "        data =  (data-min(data))/(max(data)-min(data))\n",
    "        return data.values[-1]\n",
    "    else:\n",
    "        return 'NaN'"
   ]
  },
  {
   "cell_type": "code",
   "execution_count": 9,
   "metadata": {},
   "outputs": [],
   "source": [
    "def multiple_ta(data):\n",
    "    high = data['High']\n",
    "    low = data['Low']\n",
    "    close = data['Close']\n",
    "    volume = data['Volume']\n",
    "    \n",
    "    # ta Overlap Studies Functions && max_min_scaler\n",
    "    ind_upperband, ind_middleband, ind_lowerband = ta.BBANDS(close, timeperiod=5, nbdevup=2, nbdevdn=2, matype=0)\n",
    "    ind_upperband = ind_upperband[-900:]\n",
    "    ind_middleband = ind_middleband[-900:]\n",
    "    ind_lowerband = ind_lowerband[-900:]\n",
    "    \n",
    "    ind_dema = ta.DEMA(close, timeperiod=30)\n",
    "    ind_dema = ind_dema[-900:]\n",
    "    \n",
    "    ind_ema = ta.EMA(close, timeperiod=30)\n",
    "    ind_ema = ind_ema[-900:]\n",
    "    \n",
    "    ind_ht_trendline = ta.HT_TRENDLINE(close)\n",
    "    ind_ht_trendline = ind_ht_trendline[-900:]\n",
    "    \n",
    "    # Momentum Indicator Functions\n",
    "    ind_macd, ind_macdsignal, ind_macdhist = ta.MACD(close, fastperiod=12, slowperiod=26, signalperiod=9)\n",
    "    ind_macd = ind_macd[-900:]\n",
    "    ind_macdsignal = ind_macdsignal[-900:]\n",
    "    ind_macdhist =  ind_macdhist[-900:]\n",
    "    \n",
    "    ind_mfi = ta.MFI(high, low, close, volume, timeperiod=14)\n",
    "    ind_mfi = ind_mfi[-900:]\n",
    "    \n",
    "    ind_willr = ta.WILLR(high, low, close, timeperiod=14)\n",
    "    ind_willr = ind_willr[-900:]\n",
    "    \n",
    "    # new-20211107\n",
    "    ind_ADX = ta.ADX(high, low, close, timeperiod=14)\n",
    "    ind_ADX =  ind_ADX[-900:]\n",
    "    \n",
    "    ind_ADXR = ta.ADXR(high, low, close, timeperiod=14)\n",
    "    ind_ADXR = ind_ADXR[-900:]\n",
    "    \n",
    "    ind_APO = ta.APO(close, fastperiod=12, slowperiod=26, matype=0)\n",
    "    ind_APO = ind_APO[-900:]\n",
    "    \n",
    "    ind_aroondown, ind_aroonup = ta.AROON(high, low, timeperiod=14)\n",
    "    ind_aroondown = ind_aroondown[-900:]\n",
    "    ind_aroonup = ind_aroonup[-900:]\n",
    "    \n",
    "    ind_AROONOSC = ta.AROONOSC(high, low, timeperiod=14)\n",
    "    ind_AROONOSC = ind_AROONOSC[-900:]\n",
    "    \n",
    "    \n",
    "    \n",
    "    # Volume Indicator Functions\n",
    "    ind_ad = ta.AD(high, low, close, volume)\n",
    "    ind_ad = ind_ad[-900:]\n",
    "    \n",
    "    ind_adosc = ta.ADOSC(high, low, close, volume, fastperiod=3, slowperiod=10)\n",
    "    ind_adosc = ind_adosc[-900:]\n",
    "    \n",
    "    ind_obv = ta.OBV(close, volume)\n",
    "    ind_obv = ind_obv[-900:]\n",
    "    \n",
    "    # Volatility Indicator Functions\n",
    "    ind_atr = ta.ATR(high, low, close, timeperiod=14)\n",
    "    ind_atr = ind_atr[-900:]\n",
    "    \n",
    "    ind_natr = ta.NATR(high, low, close, timeperiod=14)\n",
    "    ind_natr = ind_natr[-900:]\n",
    "    \n",
    "    ind_trange = ta.TRANGE(high, low, close)\n",
    "    ind_trange =  ind_trange[-900:]\n",
    "    \n",
    "\n",
    "    name_list = ['BBANDS_upperband','BBANDS_middleband','BBANDS_lowerband','DEMA','EMA','HT_TRENDLINE', \n",
    "                 'macd','macdsignal','macdhist','mfi','willr', 'ADX','ADXR','APO','aroondown','aroonup','AROONOSC',# Momentum Indicator Functions\n",
    "                'ad','adosc','obv', # Volume Indicator Functions\n",
    "                'atr','natr','trange']\n",
    "    \n",
    "    ta_df = pd.DataFrame(np.array([ind_upperband,ind_middleband,ind_lowerband,ind_dema,ind_ema,ind_ht_trendline, # Overlap Studies Functions\n",
    "                ind_macd,ind_macdsignal,ind_macdhist,ind_mfi,ind_willr,ind_ADX,ind_ADXR,ind_APO,ind_aroondown,ind_aroonup,ind_AROONOSC,# Momentum Indicator Functions\n",
    "                ind_ad,ind_adosc,ind_obv, # Volume Indicator Functions\n",
    "                ind_atr,ind_natr,ind_trange]).T,columns = name_list) # Volatility Indicator Functions\n",
    "\n",
    "\n",
    "    return ta_df\n",
    "    \n",
    "    "
   ]
  },
  {
   "cell_type": "code",
   "execution_count": 10,
   "metadata": {},
   "outputs": [
    {
     "data": {
      "text/plain": [
       "'BTCUSDT'"
      ]
     },
     "execution_count": 10,
     "metadata": {},
     "output_type": "execute_result"
    }
   ],
   "source": [
    "i = 11\n",
    "smb[i]"
   ]
  },
  {
   "cell_type": "code",
   "execution_count": 11,
   "metadata": {},
   "outputs": [
    {
     "data": {
      "text/plain": [
       "'1d'"
      ]
     },
     "execution_count": 11,
     "metadata": {},
     "output_type": "execute_result"
    }
   ],
   "source": [
    "itv[11]"
   ]
  },
  {
   "cell_type": "code",
   "execution_count": 12,
   "metadata": {},
   "outputs": [],
   "source": [
    "symbol = smb[i]\n",
    "interval = itv[11]\n",
    "# getting data\n",
    "startTime =  '2019-01-01 00:00:00' #'1627704000000'\n",
    "[startTime,endTime] = start_end_time(startTime=startTime,interval=interval)\n",
    "endTime = '1632974400000'#'2021-09-30 00:00:00'\n",
    "data = klines(symbol=symbol,startTime=startTime,endTime=endTime,interval=interval)"
   ]
  },
  {
   "cell_type": "code",
   "execution_count": 13,
   "metadata": {},
   "outputs": [],
   "source": [
    "data.iloc[:,1:6] = data.iloc[:,1:6].astype(float)"
   ]
  },
  {
   "cell_type": "code",
   "execution_count": 20,
   "metadata": {},
   "outputs": [],
   "source": [
    "close = data['Close']\n",
    "ind_dema = ta.DEMA(close, timeperiod=30)\n",
    "ind_dema = ind_dema"
   ]
  },
  {
   "cell_type": "code",
   "execution_count": 21,
   "metadata": {},
   "outputs": [
    {
     "data": {
      "text/plain": [
       "0               NaN\n",
       "1               NaN\n",
       "2               NaN\n",
       "3               NaN\n",
       "4               NaN\n",
       "           ...     \n",
       "995    46523.612572\n",
       "996    46087.655006\n",
       "997    45675.022068\n",
       "998    45362.628073\n",
       "999    44953.516458\n",
       "Length: 1000, dtype: float64"
      ]
     },
     "execution_count": 21,
     "metadata": {},
     "output_type": "execute_result"
    }
   ],
   "source": [
    "ind_dema"
   ]
  },
  {
   "cell_type": "code",
   "execution_count": 16,
   "metadata": {},
   "outputs": [],
   "source": [
    "ta_df = multiple_ta(data)\n",
    "ln_data = data[-900:]\n",
    "ln_data = ln_data.reset_index(drop=True)\n",
    "ln_data = pd.concat([ln_data,ta_df],axis = 1)"
   ]
  },
  {
   "cell_type": "code",
   "execution_count": 19,
   "metadata": {},
   "outputs": [
    {
     "data": {
      "text/plain": [
       "0       4985.048635\n",
       "1       5019.120125\n",
       "2       5059.794551\n",
       "3       5082.407676\n",
       "4       5120.534844\n",
       "           ...     \n",
       "895    46523.612572\n",
       "896    46087.655006\n",
       "897    45675.022068\n",
       "898    45362.628073\n",
       "899    44953.516458\n",
       "Name: DEMA, Length: 900, dtype: float64"
      ]
     },
     "execution_count": 19,
     "metadata": {},
     "output_type": "execute_result"
    }
   ],
   "source": [
    "ln_data['DEMA']"
   ]
  },
  {
   "cell_type": "code",
   "execution_count": 88,
   "metadata": {},
   "outputs": [
    {
     "name": "stdout",
     "output_type": "stream",
     "text": [
      "<class 'pandas.core.frame.DataFrame'>\n",
      "RangeIndex: 900 entries, 0 to 899\n",
      "Data columns (total 35 columns):\n",
      " #   Column                        Non-Null Count  Dtype              \n",
      "---  ------                        --------------  -----              \n",
      " 0   Open time                     900 non-null    datetime64[ns, UTC]\n",
      " 1   Open                          900 non-null    float64            \n",
      " 2   High                          900 non-null    float64            \n",
      " 3   Low                           900 non-null    float64            \n",
      " 4   Close                         900 non-null    float64            \n",
      " 5   Volume                        900 non-null    float64            \n",
      " 6   Close time                    900 non-null    datetime64[ns, UTC]\n",
      " 7   Quote asset volume            900 non-null    object             \n",
      " 8   Number of trades              900 non-null    int64              \n",
      " 9   Taker buy base asset volume   900 non-null    object             \n",
      " 10  Taker buy quote asset volume  900 non-null    object             \n",
      " 11  Ignore                        900 non-null    object             \n",
      " 12  BBANDS_upperband              900 non-null    float64            \n",
      " 13  BBANDS_middleband             900 non-null    float64            \n",
      " 14  BBANDS_lowerband              900 non-null    float64            \n",
      " 15  DEMA                          900 non-null    float64            \n",
      " 16  EMA                           900 non-null    float64            \n",
      " 17  HT_TRENDLINE                  900 non-null    float64            \n",
      " 18  macd                          900 non-null    float64            \n",
      " 19  macdsignal                    900 non-null    float64            \n",
      " 20  macdhist                      900 non-null    float64            \n",
      " 21  mfi                           900 non-null    float64            \n",
      " 22  willr                         900 non-null    float64            \n",
      " 23  ADX                           900 non-null    float64            \n",
      " 24  ADXR                          900 non-null    float64            \n",
      " 25  APO                           900 non-null    float64            \n",
      " 26  aroondown                     900 non-null    float64            \n",
      " 27  aroonup                       900 non-null    float64            \n",
      " 28  AROONOSC                      900 non-null    float64            \n",
      " 29  ad                            900 non-null    float64            \n",
      " 30  adosc                         900 non-null    float64            \n",
      " 31  obv                           900 non-null    float64            \n",
      " 32  atr                           900 non-null    float64            \n",
      " 33  natr                          900 non-null    float64            \n",
      " 34  trange                        900 non-null    float64            \n",
      "dtypes: datetime64[ns, UTC](2), float64(28), int64(1), object(4)\n",
      "memory usage: 246.2+ KB\n"
     ]
    }
   ],
   "source": [
    "ln_data.info()"
   ]
  },
  {
   "cell_type": "code",
   "execution_count": 96,
   "metadata": {},
   "outputs": [],
   "source": [
    "ln_data.to_csv('timeseries_data_btcusdt.csv',encoding=\"utf-8\")"
   ]
  }
 ],
 "metadata": {
  "interpreter": {
   "hash": "a33b775cd6344257653a6d40ab6b5f2969c84566975f51b8eb6ff1553bceff8c"
  },
  "kernelspec": {
   "display_name": "Python 3.9.7 64-bit ('myenv': conda)",
   "language": "python",
   "name": "python3"
  },
  "language_info": {
   "codemirror_mode": {
    "name": "ipython",
    "version": 3
   },
   "file_extension": ".py",
   "mimetype": "text/x-python",
   "name": "python",
   "nbconvert_exporter": "python",
   "pygments_lexer": "ipython3",
   "version": "3.9.7"
  },
  "orig_nbformat": 4
 },
 "nbformat": 4,
 "nbformat_minor": 2
}
