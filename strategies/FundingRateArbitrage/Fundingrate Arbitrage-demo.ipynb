{
 "cells": [
  {
   "cell_type": "code",
   "execution_count": 396,
   "metadata": {},
   "outputs": [],
   "source": [
    "import requests\n",
    "from pandas import json_normalize\n",
    "import pandas as pd\n",
    "import numpy as np\n",
    "from urllib.parse import urlencode\n",
    "import plotly.express as px"
   ]
  },
  {
   "cell_type": "markdown",
   "metadata": {},
   "source": [
    "# CoinGlass"
   ]
  },
  {
   "cell_type": "code",
   "execution_count": 438,
   "metadata": {},
   "outputs": [
    {
     "name": "stdout",
     "output_type": "stream",
     "text": [
      "https://open-api.coinglass.com/api/pro/v1/futures/funding_rates_chart?symbol=ETH&type=U\n"
     ]
    }
   ],
   "source": [
    "base_url = \"https://open-api.coinglass.com/api/pro/v1/futures/funding_rates_chart?\"\n",
    "params = {\n",
    "  'symbol' :'ETH',\n",
    "  'type': 'U' # C for coin, U for USDT\n",
    "}\n",
    "headers = {\n",
    "  'coinglassSecret': '13b32ae9fa584bf39d6ee86880c0c35b'\n",
    "}\n",
    "\n",
    "query_string = urlencode(params, True)\n",
    "\n",
    "url = base_url+query_string\n",
    "print(url)\n",
    "response = requests.request(\"GET\", url, headers=headers)\n",
    "response = response.json()\n",
    "\n",
    "# dataframe\n",
    "data = pd.DataFrame()\n",
    "for ex in response['data']['frDataMap'].keys():\n",
    "    data[ex] = response['data']['frDataMap'][ex]\n",
    "data['date'] = response['data']['dateList'][:-1]\n",
    "data.date = pd.to_datetime(data.date/1000, unit='s')\n",
    "data.set_index('date', inplace=True)"
   ]
  },
  {
   "cell_type": "code",
   "execution_count": 439,
   "metadata": {},
   "outputs": [],
   "source": [
    "# data.describe().round(4).to_csv('coinglass.csv')\n",
    "# data.apply(lambda x: x - data.Binance, axis = 0).describe().round(4).to_csv('coinglass.csv',index = True)\n",
    "\n",
    "# annual return\n",
    "# (1+data.apply(lambda x: x - data.Binance, axis = 0).mean()*0.01*3)**365 - 1"
   ]
  },
  {
   "cell_type": "markdown",
   "metadata": {},
   "source": [
    "# EDA"
   ]
  },
  {
   "cell_type": "code",
   "execution_count": 441,
   "metadata": {},
   "outputs": [
    {
     "data": {
      "application/vnd.plotly.v1+json": {
       "config": {
        "plotlyServerURL": "https://plot.ly"
       },
       "data": [
        {
         "alignmentgroup": "True",
         "hovertemplate": "exchanges=%{x}<br>value=%{y}<extra></extra>",
         "legendgroup": "",
         "marker": {
          "color": "#636efa"
         },
         "name": "",
         "notched": false,
         "offsetgroup": "",
         "orientation": "v",
         "showlegend": false,
         "type": "box",
         "x": [
          "Bitmex",
          "Bitmex",
          "Bitmex",
          "Bitmex",
          "Bitmex",
          "Bitmex",
          "Bitmex",
          "Bitmex",
          "Bitmex",
          "Bitmex",
          "Bitmex",
          "Bitmex",
          "Bitmex",
          "Bitmex",
          "Bitmex",
          "Bitmex",
          "Bitmex",
          "Bitmex",
          "Bitmex",
          "Bitmex",
          "Bitmex",
          "Bitmex",
          "Bitmex",
          "Bitmex",
          "Bitmex",
          "Bitmex",
          "Bitmex",
          "Bitmex",
          "Bitmex",
          "Bitmex",
          "Bitmex",
          "Bitmex",
          "Bitmex",
          "Bitmex",
          "Bitmex",
          "Bitmex",
          "Bitmex",
          "Bitmex",
          "Bitmex",
          "Bitmex",
          "Bitmex",
          "Bitmex",
          "Bitmex",
          "Bitmex",
          "Bitmex",
          "Bitmex",
          "Bitmex",
          "Bitmex",
          "Bitmex",
          "Bitmex",
          "Bitmex",
          "Bitmex",
          "Bitmex",
          "Bitmex",
          "Bitmex",
          "Bitmex",
          "Bitmex",
          "Bitmex",
          "Bitmex",
          "Bitmex",
          "Bitmex",
          "Bitmex",
          "Bitmex",
          "Bitmex",
          "Bitmex",
          "Bitmex",
          "Bitmex",
          "Bitmex",
          "Bitmex",
          "Bitmex",
          "Bitmex",
          "Bitmex",
          "Bitmex",
          "Bitmex",
          "Bitmex",
          "Bitmex",
          "Bitmex",
          "Bitmex",
          "Bitmex",
          "Bitmex",
          "Bitmex",
          "Bitmex",
          "Bitmex",
          "Bitmex",
          "Bitmex",
          "Bitmex",
          "Bitmex",
          "Bitmex",
          "Bitmex",
          "Bitmex",
          "Bitmex",
          "Bitmex",
          "Bitmex",
          "Bitmex",
          "Bitmex",
          "Bitmex",
          "Bitmex",
          "Bitmex",
          "Bitmex",
          "Bitmex",
          "Binance",
          "Binance",
          "Binance",
          "Binance",
          "Binance",
          "Binance",
          "Binance",
          "Binance",
          "Binance",
          "Binance",
          "Binance",
          "Binance",
          "Binance",
          "Binance",
          "Binance",
          "Binance",
          "Binance",
          "Binance",
          "Binance",
          "Binance",
          "Binance",
          "Binance",
          "Binance",
          "Binance",
          "Binance",
          "Binance",
          "Binance",
          "Binance",
          "Binance",
          "Binance",
          "Binance",
          "Binance",
          "Binance",
          "Binance",
          "Binance",
          "Binance",
          "Binance",
          "Binance",
          "Binance",
          "Binance",
          "Binance",
          "Binance",
          "Binance",
          "Binance",
          "Binance",
          "Binance",
          "Binance",
          "Binance",
          "Binance",
          "Binance",
          "Binance",
          "Binance",
          "Binance",
          "Binance",
          "Binance",
          "Binance",
          "Binance",
          "Binance",
          "Binance",
          "Binance",
          "Binance",
          "Binance",
          "Binance",
          "Binance",
          "Binance",
          "Binance",
          "Binance",
          "Binance",
          "Binance",
          "Binance",
          "Binance",
          "Binance",
          "Binance",
          "Binance",
          "Binance",
          "Binance",
          "Binance",
          "Binance",
          "Binance",
          "Binance",
          "Binance",
          "Binance",
          "Binance",
          "Binance",
          "Binance",
          "Binance",
          "Binance",
          "Binance",
          "Binance",
          "Binance",
          "Binance",
          "Binance",
          "Binance",
          "Binance",
          "Binance",
          "Binance",
          "Binance",
          "Binance",
          "Binance",
          "Binance",
          "Bybit",
          "Bybit",
          "Bybit",
          "Bybit",
          "Bybit",
          "Bybit",
          "Bybit",
          "Bybit",
          "Bybit",
          "Bybit",
          "Bybit",
          "Bybit",
          "Bybit",
          "Bybit",
          "Bybit",
          "Bybit",
          "Bybit",
          "Bybit",
          "Bybit",
          "Bybit",
          "Bybit",
          "Bybit",
          "Bybit",
          "Bybit",
          "Bybit",
          "Bybit",
          "Bybit",
          "Bybit",
          "Bybit",
          "Bybit",
          "Bybit",
          "Bybit",
          "Bybit",
          "Bybit",
          "Bybit",
          "Bybit",
          "Bybit",
          "Bybit",
          "Bybit",
          "Bybit",
          "Bybit",
          "Bybit",
          "Bybit",
          "Bybit",
          "Bybit",
          "Bybit",
          "Bybit",
          "Bybit",
          "Bybit",
          "Bybit",
          "Bybit",
          "Bybit",
          "Bybit",
          "Bybit",
          "Bybit",
          "Bybit",
          "Bybit",
          "Bybit",
          "Bybit",
          "Bybit",
          "Bybit",
          "Bybit",
          "Bybit",
          "Bybit",
          "Bybit",
          "Bybit",
          "Bybit",
          "Bybit",
          "Bybit",
          "Bybit",
          "Bybit",
          "Bybit",
          "Bybit",
          "Bybit",
          "Bybit",
          "Bybit",
          "Bybit",
          "Bybit",
          "Bybit",
          "Bybit",
          "Bybit",
          "Bybit",
          "Bybit",
          "Bybit",
          "Bybit",
          "Bybit",
          "Bybit",
          "Bybit",
          "Bybit",
          "Bybit",
          "Bybit",
          "Bybit",
          "Bybit",
          "Bybit",
          "Bybit",
          "Bybit",
          "Bybit",
          "Bybit",
          "Bybit",
          "Bybit",
          "Okex",
          "Okex",
          "Okex",
          "Okex",
          "Okex",
          "Okex",
          "Okex",
          "Okex",
          "Okex",
          "Okex",
          "Okex",
          "Okex",
          "Okex",
          "Okex",
          "Okex",
          "Okex",
          "Okex",
          "Okex",
          "Okex",
          "Okex",
          "Okex",
          "Okex",
          "Okex",
          "Okex",
          "Okex",
          "Okex",
          "Okex",
          "Okex",
          "Okex",
          "Okex",
          "Okex",
          "Okex",
          "Okex",
          "Okex",
          "Okex",
          "Okex",
          "Okex",
          "Okex",
          "Okex",
          "Okex",
          "Okex",
          "Okex",
          "Okex",
          "Okex",
          "Okex",
          "Okex",
          "Okex",
          "Okex",
          "Okex",
          "Okex",
          "Okex",
          "Okex",
          "Okex",
          "Okex",
          "Okex",
          "Okex",
          "Okex",
          "Okex",
          "Okex",
          "Okex",
          "Okex",
          "Okex",
          "Okex",
          "Okex",
          "Okex",
          "Okex",
          "Okex",
          "Okex",
          "Okex",
          "Okex",
          "Okex",
          "Okex",
          "Okex",
          "Okex",
          "Okex",
          "Okex",
          "Okex",
          "Okex",
          "Okex",
          "Okex",
          "Okex",
          "Okex",
          "Okex",
          "Okex",
          "Okex",
          "Okex",
          "Okex",
          "Okex",
          "Okex",
          "Okex",
          "Okex",
          "Okex",
          "Okex",
          "Okex",
          "Okex",
          "Okex",
          "Okex",
          "Okex",
          "Okex",
          "Okex",
          "Huobi",
          "Huobi",
          "Huobi",
          "Huobi",
          "Huobi",
          "Huobi",
          "Huobi",
          "Huobi",
          "Huobi",
          "Huobi",
          "Huobi",
          "Huobi",
          "Huobi",
          "Huobi",
          "Huobi",
          "Huobi",
          "Huobi",
          "Huobi",
          "Huobi",
          "Huobi",
          "Huobi",
          "Huobi",
          "Huobi",
          "Huobi",
          "Huobi",
          "Huobi",
          "Huobi",
          "Huobi",
          "Huobi",
          "Huobi",
          "Huobi",
          "Huobi",
          "Huobi",
          "Huobi",
          "Huobi",
          "Huobi",
          "Huobi",
          "Huobi",
          "Huobi",
          "Huobi",
          "Huobi",
          "Huobi",
          "Huobi",
          "Huobi",
          "Huobi",
          "Huobi",
          "Huobi",
          "Huobi",
          "Huobi",
          "Huobi",
          "Huobi",
          "Huobi",
          "Huobi",
          "Huobi",
          "Huobi",
          "Huobi",
          "Huobi",
          "Huobi",
          "Huobi",
          "Huobi",
          "Huobi",
          "Huobi",
          "Huobi",
          "Huobi",
          "Huobi",
          "Huobi",
          "Huobi",
          "Huobi",
          "Huobi",
          "Huobi",
          "Huobi",
          "Huobi",
          "Huobi",
          "Huobi",
          "Huobi",
          "Huobi",
          "Huobi",
          "Huobi",
          "Huobi",
          "Huobi",
          "Huobi",
          "Huobi",
          "Huobi",
          "Huobi",
          "Huobi",
          "Huobi",
          "Huobi",
          "Huobi",
          "Huobi",
          "Huobi",
          "Huobi",
          "Huobi",
          "Huobi",
          "Huobi",
          "Huobi",
          "Huobi",
          "Huobi",
          "Huobi",
          "Huobi",
          "Huobi",
          "Gate",
          "Gate",
          "Gate",
          "Gate",
          "Gate",
          "Gate",
          "Gate",
          "Gate",
          "Gate",
          "Gate",
          "Gate",
          "Gate",
          "Gate",
          "Gate",
          "Gate",
          "Gate",
          "Gate",
          "Gate",
          "Gate",
          "Gate",
          "Gate",
          "Gate",
          "Gate",
          "Gate",
          "Gate",
          "Gate",
          "Gate",
          "Gate",
          "Gate",
          "Gate",
          "Gate",
          "Gate",
          "Gate",
          "Gate",
          "Gate",
          "Gate",
          "Gate",
          "Gate",
          "Gate",
          "Gate",
          "Gate",
          "Gate",
          "Gate",
          "Gate",
          "Gate",
          "Gate",
          "Gate",
          "Gate",
          "Gate",
          "Gate",
          "Gate",
          "Gate",
          "Gate",
          "Gate",
          "Gate",
          "Gate",
          "Gate",
          "Gate",
          "Gate",
          "Gate",
          "Gate",
          "Gate",
          "Gate",
          "Gate",
          "Gate",
          "Gate",
          "Gate",
          "Gate",
          "Gate",
          "Gate",
          "Gate",
          "Gate",
          "Gate",
          "Gate",
          "Gate",
          "Gate",
          "Gate",
          "Gate",
          "Gate",
          "Gate",
          "Gate",
          "Gate",
          "Gate",
          "Gate",
          "Gate",
          "Gate",
          "Gate",
          "Gate",
          "Gate",
          "Gate",
          "Gate",
          "Gate",
          "Gate",
          "Gate",
          "Gate",
          "Gate",
          "Gate",
          "Gate",
          "Gate",
          "Gate",
          "FTX",
          "FTX",
          "FTX",
          "FTX",
          "FTX",
          "FTX",
          "FTX",
          "FTX",
          "FTX",
          "FTX",
          "FTX",
          "FTX",
          "FTX",
          "FTX",
          "FTX",
          "FTX",
          "FTX",
          "FTX",
          "FTX",
          "FTX",
          "FTX",
          "FTX",
          "FTX",
          "FTX",
          "FTX",
          "FTX",
          "FTX",
          "FTX",
          "FTX",
          "FTX",
          "FTX",
          "FTX",
          "FTX",
          "FTX",
          "FTX",
          "FTX",
          "FTX",
          "FTX",
          "FTX",
          "FTX",
          "FTX",
          "FTX",
          "FTX",
          "FTX",
          "FTX",
          "FTX",
          "FTX",
          "FTX",
          "FTX",
          "FTX",
          "FTX",
          "FTX",
          "FTX",
          "FTX",
          "FTX",
          "FTX",
          "FTX",
          "FTX",
          "FTX",
          "FTX",
          "FTX",
          "FTX",
          "FTX",
          "FTX",
          "FTX",
          "FTX",
          "FTX",
          "FTX",
          "FTX",
          "FTX",
          "FTX",
          "FTX",
          "FTX",
          "FTX",
          "FTX",
          "FTX",
          "FTX",
          "FTX",
          "FTX",
          "FTX",
          "FTX",
          "FTX",
          "FTX",
          "FTX",
          "FTX",
          "FTX",
          "FTX",
          "FTX",
          "FTX",
          "FTX",
          "FTX",
          "FTX",
          "FTX",
          "FTX",
          "FTX",
          "FTX",
          "FTX",
          "FTX",
          "FTX",
          "FTX",
          "Bitget",
          "Bitget",
          "Bitget",
          "Bitget",
          "Bitget",
          "Bitget",
          "Bitget",
          "Bitget",
          "Bitget",
          "Bitget",
          "Bitget",
          "Bitget",
          "Bitget",
          "Bitget",
          "Bitget",
          "Bitget",
          "Bitget",
          "Bitget",
          "Bitget",
          "Bitget",
          "Bitget",
          "Bitget",
          "Bitget",
          "Bitget",
          "Bitget",
          "Bitget",
          "Bitget",
          "Bitget",
          "Bitget",
          "Bitget",
          "Bitget",
          "Bitget",
          "Bitget",
          "Bitget",
          "Bitget",
          "Bitget",
          "Bitget",
          "Bitget",
          "Bitget",
          "Bitget",
          "Bitget",
          "Bitget",
          "Bitget",
          "Bitget",
          "Bitget",
          "Bitget",
          "Bitget",
          "Bitget",
          "Bitget",
          "Bitget",
          "Bitget",
          "Bitget",
          "Bitget",
          "Bitget",
          "Bitget",
          "Bitget",
          "Bitget",
          "Bitget",
          "Bitget",
          "Bitget",
          "Bitget",
          "Bitget",
          "Bitget",
          "Bitget",
          "Bitget",
          "Bitget",
          "Bitget",
          "Bitget",
          "Bitget",
          "Bitget",
          "Bitget",
          "Bitget",
          "Bitget",
          "Bitget",
          "Bitget",
          "Bitget",
          "Bitget",
          "Bitget",
          "Bitget",
          "Bitget",
          "Bitget",
          "Bitget",
          "Bitget",
          "Bitget",
          "Bitget",
          "Bitget",
          "Bitget",
          "Bitget",
          "Bitget",
          "Bitget",
          "Bitget",
          "Bitget",
          "Bitget",
          "Bitget",
          "Bitget",
          "Bitget",
          "Bitget",
          "Bitget",
          "Bitget",
          "Bitget",
          "dYdX",
          "dYdX",
          "dYdX",
          "dYdX",
          "dYdX",
          "dYdX",
          "dYdX",
          "dYdX",
          "dYdX",
          "dYdX",
          "dYdX",
          "dYdX",
          "dYdX",
          "dYdX",
          "dYdX",
          "dYdX",
          "dYdX",
          "dYdX",
          "dYdX",
          "dYdX",
          "dYdX",
          "dYdX",
          "dYdX",
          "dYdX",
          "dYdX",
          "dYdX",
          "dYdX",
          "dYdX",
          "dYdX",
          "dYdX",
          "dYdX",
          "dYdX",
          "dYdX",
          "dYdX",
          "dYdX",
          "dYdX",
          "dYdX",
          "dYdX",
          "dYdX",
          "dYdX",
          "dYdX",
          "dYdX",
          "dYdX",
          "dYdX",
          "dYdX",
          "dYdX",
          "dYdX",
          "dYdX",
          "dYdX",
          "dYdX",
          "dYdX",
          "dYdX",
          "dYdX",
          "dYdX",
          "dYdX",
          "dYdX",
          "dYdX",
          "dYdX",
          "dYdX",
          "dYdX",
          "dYdX",
          "dYdX",
          "dYdX",
          "dYdX",
          "dYdX",
          "dYdX",
          "dYdX",
          "dYdX",
          "dYdX",
          "dYdX",
          "dYdX",
          "dYdX",
          "dYdX",
          "dYdX",
          "dYdX",
          "dYdX",
          "dYdX",
          "dYdX",
          "dYdX",
          "dYdX",
          "dYdX",
          "dYdX",
          "dYdX",
          "dYdX",
          "dYdX",
          "dYdX",
          "dYdX",
          "dYdX",
          "dYdX",
          "dYdX",
          "dYdX",
          "dYdX",
          "dYdX",
          "dYdX",
          "dYdX",
          "dYdX",
          "dYdX",
          "dYdX",
          "dYdX",
          "dYdX",
          "CoinEx",
          "CoinEx",
          "CoinEx",
          "CoinEx",
          "CoinEx",
          "CoinEx",
          "CoinEx",
          "CoinEx",
          "CoinEx",
          "CoinEx",
          "CoinEx",
          "CoinEx",
          "CoinEx",
          "CoinEx",
          "CoinEx",
          "CoinEx",
          "CoinEx",
          "CoinEx",
          "CoinEx",
          "CoinEx",
          "CoinEx",
          "CoinEx",
          "CoinEx",
          "CoinEx",
          "CoinEx",
          "CoinEx",
          "CoinEx",
          "CoinEx",
          "CoinEx",
          "CoinEx",
          "CoinEx",
          "CoinEx",
          "CoinEx",
          "CoinEx",
          "CoinEx",
          "CoinEx",
          "CoinEx",
          "CoinEx",
          "CoinEx",
          "CoinEx",
          "CoinEx",
          "CoinEx",
          "CoinEx",
          "CoinEx",
          "CoinEx",
          "CoinEx",
          "CoinEx",
          "CoinEx",
          "CoinEx",
          "CoinEx",
          "CoinEx",
          "CoinEx",
          "CoinEx",
          "CoinEx",
          "CoinEx",
          "CoinEx",
          "CoinEx",
          "CoinEx",
          "CoinEx",
          "CoinEx",
          "CoinEx",
          "CoinEx",
          "CoinEx",
          "CoinEx",
          "CoinEx",
          "CoinEx",
          "CoinEx",
          "CoinEx",
          "CoinEx",
          "CoinEx",
          "CoinEx",
          "CoinEx",
          "CoinEx",
          "CoinEx",
          "CoinEx",
          "CoinEx",
          "CoinEx",
          "CoinEx",
          "CoinEx",
          "CoinEx",
          "CoinEx",
          "CoinEx",
          "CoinEx",
          "CoinEx",
          "CoinEx",
          "CoinEx",
          "CoinEx",
          "CoinEx",
          "CoinEx",
          "CoinEx",
          "CoinEx",
          "CoinEx",
          "CoinEx",
          "CoinEx",
          "CoinEx",
          "CoinEx",
          "CoinEx",
          "CoinEx",
          "CoinEx",
          "CoinEx"
         ],
         "x0": " ",
         "xaxis": "x",
         "y": [
          0.00541952,
          0.0015385599999999994,
          0.0008376999999999999,
          0.0004193400000000005,
          0.00215748,
          0.00417368,
          0.00124898,
          0.0014312599999999997,
          0.0034561200000000005,
          -0.00026092000000000086,
          0.00161984,
          0.00303412,
          -0.00020844000000000036,
          0.00576836,
          0.0018708999999999998,
          0.0021233,
          0.0033298200000000007,
          0.0013767400000000002,
          0.0023454,
          0.00013912000000000036,
          0.00198824,
          -0.00465292,
          0.0045712,
          0.00087314,
          0.0010509,
          0.0004491199999999998,
          -0.0006194600000000001,
          0.008282159999999998,
          0.0009053199999999997,
          -0.0036076199999999998,
          0.0023742200000000007,
          -0.0036446599999999997,
          -0.00021269999999999915,
          0.00204318,
          -0.0022644600000000007,
          0.002787860000000001,
          0.0033250000000000007,
          -0.00021136,
          0.00237528,
          -0.00205986,
          0.00295958,
          0.0005900200000000006,
          0.00181952,
          0.0004179999999999993,
          -0.0001257600000000004,
          -0.0014561,
          -0.00561024,
          0.005499979999999999,
          0.00140622,
          -0.0035031000000000003,
          0.00045742000000000054,
          0.0036358599999999994,
          0.00111652,
          -0.0026429799999999988,
          0.0021354199999999986,
          -0.00007192,
          -0.0003914800000000001,
          0.0008092600000000002,
          0.0016682000000000003,
          -0.0006981599999999999,
          0.00492048,
          0.0044214599999999995,
          0.00279772,
          0.0014028,
          0.0011247199999999998,
          0.0019670800000000004,
          -0.0026995800000000005,
          -0.00444146,
          0.0009170600000000002,
          0.0019782600000000008,
          0.00027422000000000037,
          -0.0028137800000000005,
          -0.0016712999999999995,
          -0.0011517600000000008,
          0.0008857999999999996,
          -0.0017666000000000003,
          0.0013405399999999999,
          0.0019205000000000014,
          0.004520660000000001,
          0.0049993600000000004,
          0.0033097600000000006,
          0.00275808,
          0.00264162,
          0.0032314599999999994,
          0.00301298,
          0.0027840599999999997,
          0.0036239400000000004,
          0.0020551999999999996,
          -0.0026529,
          0.0045584399999999995,
          0.0031127200000000007,
          -0.0015822999999999996,
          0.0025420000000000004,
          0.0027242599999999996,
          0.004386499999999999,
          0.0014207199999999997,
          0.0015550600000000003,
          0.0013213799999999998,
          0.0017836999999999994,
          0.0027413800000000003,
          0,
          0,
          0,
          0,
          0,
          0,
          0,
          0,
          0,
          0,
          0,
          0,
          0,
          0,
          0,
          0,
          0,
          0,
          0,
          0,
          0,
          0,
          0,
          0,
          0,
          0,
          0,
          0,
          0,
          0,
          0,
          0,
          0,
          0,
          0,
          0,
          0,
          0,
          0,
          0,
          0,
          0,
          0,
          0,
          0,
          0,
          0,
          0,
          0,
          0,
          0,
          0,
          0,
          0,
          0,
          0,
          0,
          0,
          0,
          0,
          0,
          0,
          0,
          0,
          0,
          0,
          0,
          0,
          0,
          0,
          0,
          0,
          0,
          0,
          0,
          0,
          0,
          0,
          0,
          0,
          0,
          0,
          0,
          0,
          0,
          0,
          0,
          0,
          0,
          0,
          0,
          0,
          0,
          0,
          0,
          0,
          0,
          0,
          0,
          0,
          0.006447520000000001,
          -0.0004934399999999998,
          0.0034497000000000004,
          -0.00084666,
          0.00330948,
          0.003209680000000001,
          0.00195298,
          0.0005912600000000007,
          0.0032361200000000007,
          0.0016930799999999996,
          0.00305584,
          0.0018321200000000002,
          0.00312556,
          0.004092359999999999,
          0.0016349000000000003,
          0.0045413,
          0.002367819999999999,
          0.00485474,
          0.0027993999999999996,
          0.00107712,
          0.0022602399999999997,
          0.0015030799999999997,
          0.003977199999999999,
          0.005023139999999998,
          0.0005889,
          0.0015931200000000002,
          0.00225454,
          0.008596159999999999,
          0.0032813200000000003,
          -0.0006696200000000001,
          0.0034822200000000003,
          0.00085934,
          0.004767300000000001,
          0.00192918,
          0.0024455400000000004,
          0.00430786,
          0.00026500000000000004,
          0.0032126400000000005,
          0.00208128,
          0.0023601399999999997,
          0.002875579999999999,
          0.00321202,
          0.002909519999999999,
          0.0036580000000000002,
          0.0011722400000000004,
          0.002707900000000001,
          0.0018197600000000003,
          0.00330198,
          0.002988220000000001,
          -0.0006110999999999997,
          0.002453419999999999,
          0.00243986,
          0.004310520000000001,
          0.00272502,
          0.003187419999999999,
          0.00008607999999999991,
          -0.0011834799999999998,
          0.0021712599999999995,
          0.0028122000000000004,
          0.0016658399999999996,
          0.005282479999999999,
          0.00824946,
          0.00215372,
          0.0037088,
          0.0014607199999999998,
          0.0021830800000000004,
          0.0024424200000000003,
          -0.0003694599999999998,
          0.0033790599999999997,
          0.0013002600000000006,
          0.0020382199999999994,
          0.0008602200000000005,
          0.0017327000000000004,
          -0.00002375999999999989,
          0.0023378000000000006,
          -0.00016260000000000018,
          0.00207054,
          0.0038905,
          0.0006746600000000002,
          0.005073359999999999,
          0.00252776,
          0.00121608,
          0.00234962,
          0.00182346,
          0.004322979999999999,
          0.0026080599999999997,
          0.00227394,
          0.0009352000000000002,
          0.0010631,
          0.00355844,
          0.0031747199999999994,
          0.0017317,
          0.003885999999999999,
          0.0037322600000000024,
          0.0015905000000000003,
          0.00272872,
          0.0032310600000000004,
          0.0016873800000000005,
          0.0029517,
          0.0014873799999999995,
          -0.00010260919999999993,
          -0.006488678800000003,
          -0.005427915,
          -0.005129610799999998,
          -0.003440678799999999,
          -0.0035309269999999992,
          -0.004263175600000001,
          -0.0075261598,
          -0.0038928119999999994,
          -0.008719465,
          -0.0026925851999999996,
          -0.0026866464,
          -0.006089922199999998,
          -0.0037706878000000003,
          -0.008176534,
          -0.0022265575999999994,
          -0.003216655199999999,
          -0.007276988599999998,
          -0.0075540992000000026,
          -0.008729316200000002,
          -0.007437914999999998,
          -0.0009122221999999999,
          -0.0022319944,
          -0.003467362799999999,
          -0.006895046999999999,
          -0.004447021200000001,
          -0.004446352799999998,
          -0.0009773255999999996,
          -0.0019254318000000003,
          -0.0063453378,
          -0.0008510856000000001,
          -0.007308881199999997,
          -0.002234258999999999,
          -0.006302177999999999,
          -0.0061554708,
          -0.0041956338,
          -0.0076004236000000005,
          -0.005061846000000001,
          -0.006300849000000001,
          -0.004282642399999998,
          -0.0026727038000000005,
          -0.0059467656,
          -0.002640391800000001,
          -0.0033090553999999993,
          -0.006654860200000001,
          -0.0059809938,
          -0.0047060608,
          -0.0021540073999999996,
          -0.003374869599999999,
          -0.006995895400000002,
          -0.008760345400000001,
          -0.0045913452,
          -0.0022212194,
          -0.0042782912,
          -0.0014699378000000004,
          -0.007175818,
          -0.006686189399999998,
          -0.00617037,
          -0.002118604,
          -0.0064135756,
          -0.0028717021999999977,
          -0.0005249321999999994,
          -0.0060942008,
          -0.007163562000000001,
          -0.0065195224,
          -0.0059229536,
          -0.0051729678,
          -0.005924944600000002,
          -0.0029393305999999993,
          -0.0032129284000000004,
          -0.004612560999999999,
          -0.0078017212,
          -0.005732821000000002,
          -0.0060167598,
          -0.0054826002,
          -0.006996743000000003,
          -0.008154781599999997,
          -0.004750896000000001,
          -0.0096106084,
          -0.0030453624,
          -0.0050604048,
          -0.006875020399999998,
          -0.0022714429999999997,
          -0.005334916600000001,
          -0.003678434399999998,
          -0.006051494399999997,
          -0.0041871714,
          -0.005879455399999998,
          -0.006230924800000001,
          -0.0005653653999999998,
          -0.0044525296,
          -0.0060273131999999995,
          -0.0032600396,
          -0.003273441800000001,
          -0.0038168806,
          -0.0076417351999999985,
          -0.004440511399999999,
          -0.007176699400000002,
          -0.0012040632000000007,
          -0.003322092600000001,
          0.005515852400000001,
          -0.000552937,
          -0.0003017270000000001,
          -0.00030524539999999997,
          0.0023056139999999992,
          0.0019534844000000003,
          0.0004901861999999999,
          -0.00042676320000000005,
          0.0016096956000000004,
          0.0011486550000000004,
          0.0008357261999999996,
          0.0022485006000000003,
          0.00023127979999999985,
          0.0033862775999999994,
          -0.0010457614000000002,
          0.0017785858000000001,
          0.00003639519999999978,
          0.0014961189999999993,
          -0.0008562224000000002,
          -0.0027534760000000004,
          0.00037885539999999996,
          0.0018736722000000003,
          0.0016940221999999997,
          0.003917631799999999,
          -0.0004905204,
          0.0000839902000000002,
          0.0010201354,
          0.0036292117999999996,
          0.0008855655999999999,
          0.00012287899999999995,
          0.0024728522,
          -0.0010345110000000005,
          0.0033039764000000003,
          0.0012436715999999998,
          -0.0016418941999999995,
          0.0025809812,
          0.0009189776000000003,
          0.0012414223999999995,
          -0.0006745060000000002,
          -0.0010193306000000001,
          0.0007237266,
          0.0008056428000000001,
          0.0033633778,
          0.0027290661999999992,
          0.0022075244,
          0.0009718611999999998,
          -0.0016645484,
          0.0023812544000000003,
          0.0016594948,
          -0.0016872370000000003,
          0.00047830860000000003,
          0.0003570824000000001,
          0.001040099,
          0.0008870761999999998,
          0.0021440660000000005,
          -0.0008746726,
          -0.0032638522000000003,
          -0.0005326879999999999,
          0.0012950482,
          -0.0012512338,
          0.0040141662,
          0.003856593399999999,
          0.0013673655999999997,
          0.0018653296000000002,
          0.000031829200000000004,
          -0.00008152179999999971,
          -0.0012763590000000003,
          -0.00026813479999999984,
          0.0018503516,
          -0.001675497,
          0.0008879147999999998,
          -0.00003698320000000008,
          -0.0005742354000000002,
          -0.0005731870000000004,
          0.001112631,
          -0.001980608600000001,
          0.00021193139999999987,
          0.00031935420000000006,
          0.00011501479999999987,
          0.0019847447999999995,
          0.0011053833999999996,
          0.00045108780000000003,
          0.0008599854000000001,
          0.0007865675999999999,
          0.0025382145999999998,
          -0.00046971620000000035,
          0.0031990819999999985,
          0.00009534440000000006,
          -0.0015858932000000004,
          0.0017305076000000003,
          -0.00034796499999999994,
          -0.000956891,
          0.0015019071999999994,
          0.0015593053999999995,
          -0.00021674420000000004,
          0.00012433359999999987,
          0.0004098744,
          0.0010169748,
          0.001755872,
          0.0007071941999999999,
          0.00509552,
          0.0005905600000000001,
          0.0032177,
          -0.0007686599999999999,
          0.0033294800000000014,
          0.004337679999999999,
          -0.00027902000000000016,
          0.0011032599999999998,
          0.00201612,
          -0.00062692,
          0.00338984,
          0.00206612,
          -0.00018443999999999988,
          0.00128036,
          0.000010899999999999694,
          0.0033313000000000006,
          0.00106982,
          -0.00102126,
          0.0007513999999999997,
          -0.0014208800000000004,
          0.00089424,
          0.00334508,
          -0.0005367999999999998,
          0.00148914,
          -0.0008591000000000001,
          -0.0007028800000000003,
          0.00043654000000000007,
          0.00217416,
          0.0025513199999999997,
          -0.0020536200000000004,
          0.003094219999999999,
          -0.002288659999999999,
          0.0034392999999999997,
          0.000005179999999999977,
          -0.0009804599999999998,
          -0.0008841400000000001,
          -0.000285,
          0.0008426399999999998,
          -0.00100272,
          0.00039814000000000017,
          0.00158758,
          0.00037401999999999986,
          -0.0005184800000000003,
          0.0032460000000000006,
          -0.00064176,
          0.0026398999999999993,
          0.00024176000000000018,
          0.0021159800000000017,
          0.0014102199999999998,
          -0.0008531,
          -0.000042579999999999826,
          0.0011258600000000004,
          0.0030145200000000006,
          0.0008250200000000002,
          0.0039954199999999995,
          -0.00108392,
          -0.00046748,
          0.0018572600000000003,
          0.0036061999999999995,
          -0.0013461600000000003,
          0.0064724800000000035,
          0.003899459999999999,
          0.0011617199999999998,
          0.00032679999999999987,
          -0.00032728000000000065,
          -0.0030049199999999995,
          0.00008041999999999997,
          -0.0016254600000000004,
          0.001885059999999999,
          0.0017042600000000002,
          0.0017322200000000005,
          -0.0006457799999999999,
          0.0012626999999999998,
          -0.00021176000000000043,
          0.0017398000000000003,
          -0.0031766000000000003,
          -0.003015459999999999,
          0.0019145000000000004,
          -0.0025873399999999996,
          0.002759360000000001,
          0.0021197599999999996,
          0.0025080799999999998,
          0.0008836200000000002,
          0.00012145999999999988,
          0.0025989799999999994,
          0.0015220599999999998,
          0.00181794,
          0.0019552,
          -0.000060899999999999895,
          0.00283044,
          0.002362720000000001,
          0.0006697000000000001,
          0.0022979999999999997,
          0.002880260000000002,
          0.0008144999999999999,
          -0.0005312800000000002,
          0.0042930600000000005,
          -0.0013206200000000006,
          0.0005096999999999999,
          0.0017213799999999996,
          0.005101520000000001,
          -0.002861439999999999,
          -0.0038302999999999987,
          -0.0019146599999999995,
          -0.00074052,
          -0.0031183200000000004,
          -0.002463019999999999,
          -0.0016567400000000005,
          -0.00214788,
          -0.00369692,
          0.0007078399999999996,
          -0.00105988,
          -0.00259244,
          0.0004203600000000003,
          -0.0025010999999999996,
          -0.0028066999999999996,
          -0.0015881800000000002,
          0.0010547399999999998,
          0.00008940000000000049,
          -0.004968880000000001,
          -0.00303376,
          -0.0010749200000000003,
          -0.0002548,
          0.0018831400000000002,
          -0.0028151000000000005,
          -0.00127488,
          -0.0039454600000000005,
          0.00436416,
          -0.00278268,
          -0.00220562,
          -0.0017417799999999996,
          -0.00027466000000000014,
          -0.00008070000000000025,
          -0.0016028199999999996,
          -0.0039384599999999995,
          -0.0035481399999999995,
          -0.003741,
          -0.0006013600000000003,
          -0.0021647199999999998,
          -0.00495186,
          -0.0030524200000000006,
          -0.00304798,
          -0.0018704800000000005,
          -0.0026219999999999998,
          -0.002597759999999999,
          -0.0004941000000000005,
          -0.0026682399999999997,
          -0.0021180199999999995,
          -0.0018697799999999997,
          -0.0046151,
          -0.00213258,
          -0.0013401400000000005,
          -0.0023314800000000004,
          -0.00388898,
          -0.0014925800000000003,
          -0.003021920000000001,
          -0.005555479999999999,
          -0.0022127399999999995,
          -0.0035777999999999986,
          -0.00353016,
          -0.0021995199999999995,
          0.0037274600000000006,
          -0.0006502800000000003,
          -0.003381199999999999,
          -0.0016332800000000006,
          -0.0019989199999999995,
          -0.00312158,
          -0.0027174599999999997,
          -0.00253294,
          -0.0038377400000000005,
          -0.0029737799999999997,
          -0.0039217800000000014,
          -0.0038992999999999988,
          -0.002711759999999999,
          -0.002652200000000001,
          -0.0055766,
          -0.0031954600000000007,
          -0.002401500000000001,
          -0.00304734,
          0.00041535999999999976,
          -0.0018082399999999996,
          0.0005460799999999999,
          -0.00416238,
          -0.0012105400000000002,
          -0.00098702,
          -0.0015099400000000002,
          -0.0006300600000000004,
          -0.0034488,
          -0.0037608999999999993,
          -0.0009855600000000001,
          -0.00316728,
          -0.0031983,
          -0.0033420000000000004,
          0.0023462600000000006,
          -0.0032014999999999995,
          -0.0012892799999999999,
          -0.0015269400000000005,
          -0.0038486199999999996,
          0.0024237000000000004,
          -0.0023726199999999993,
          0.0017295200000000002,
          -0.0018834400000000001,
          0.0009657000000000002,
          -0.0018446600000000001,
          0.00420548,
          0.00239168,
          -0.00244502,
          -0.0017827400000000005,
          0.00232212,
          -0.00130492,
          -0.0005741599999999999,
          0.0008281199999999996,
          -0.0029444400000000004,
          0.00218236,
          -0.0011551000000000005,
          0.0005912999999999998,
          -0.00261618,
          0.003436740000000001,
          0.000021399999999999822,
          -0.00404088,
          -0.00131176,
          -0.0016889199999999998,
          -0.0004628000000000003,
          0.00234914,
          -0.0028131000000000002,
          0.0014631199999999994,
          -0.0017974600000000005,
          0.00569416,
          0.0011413200000000001,
          -0.0014796200000000003,
          -0.00122378,
          -0.00444466,
          0.0028793,
          -0.0007408200000000001,
          -0.0002784599999999999,
          -0.0048961399999999985,
          -0.0004029999999999998,
          0.00189064,
          0.0006072799999999995,
          -0.00280986,
          0.00093958,
          -0.00221398,
          -0.00007848000000000025,
          0.001552,
          0.00028623999999999994,
          -0.00005010000000000018,
          -0.0037822399999999988,
          -0.00047802000000000055,
          -0.0021937799999999993,
          -0.0033450999999999997,
          0.0012374200000000001,
          0.0003418599999999998,
          0.00161252,
          -0.0032829800000000004,
          0.0027654200000000006,
          -0.0024179200000000005,
          -0.00113148,
          -0.004784739999999998,
          0.0014542000000000001,
          -0.0016421600000000004,
          -0.00007551999999999968,
          0.0032814599999999986,
          0.0003697199999999995,
          0.0012167999999999999,
          -0.0027872800000000005,
          -0.0006769200000000007,
          -0.0006055800000000003,
          -0.0027754599999999996,
          0.0003190599999999999,
          -0.003403739999999999,
          0.00010822000000000013,
          -0.00330978,
          -0.0011772999999999996,
          -0.0029157600000000007,
          -0.0005281999999999997,
          -0.0030945999999999986,
          0.0007425399999999999,
          -0.0021055,
          -0.001841340000000001,
          0.00119736,
          0.0006017599999999994,
          0.0024960800000000003,
          -0.0018023800000000003,
          -0.004590540000000001,
          0.0018069799999999995,
          -0.00093194,
          0.0008459400000000002,
          -0.0006088,
          -0.0014609000000000002,
          -0.0025075600000000016,
          -0.0015852800000000001,
          0.00025370000000000004,
          0.00021199999999999976,
          0.0006182600000000001,
          -0.0006695,
          0.0014767199999999997,
          0.0011110599999999999,
          -0.0016366200000000003,
          -0.0023082999999999997,
          -0.0001666200000000001,
          0.0017978399999999998,
          -0.0050889375999999984,
          -0.0046739592,
          -0.0048330936,
          -0.0026595375999999993,
          -0.005647387199999997,
          -0.007508320799999999,
          -0.003091685600000001,
          -0.0034705232000000006,
          -0.005243304,
          -0.006430753599999997,
          -0.0032985008000000005,
          -0.0020420751999999996,
          -0.0026937552000000013,
          -0.0030865000000000007,
          -0.0048048152,
          -0.0012109816,
          -0.0028624776,
          -0.0059297424,
          -0.0058530048000000005,
          -0.004061952000000001,
          -0.008443708799999998,
          -0.0018751552,
          -0.004363781599999998,
          -0.0030225976,
          -0.0021353103999999993,
          -0.005550258399999999,
          -0.001383040000000001,
          -0.005054600000000001,
          -0.0058774039999999975,
          -0.004593716000000001,
          -0.0048414232,
          -0.0050776376000000005,
          -0.004390520800000001,
          -0.0076875016,
          -0.0075789928,
          -0.0036378127999999984,
          -0.0035922640000000013,
          -0.0041458784000000005,
          -0.0064933032000000016,
          -0.0048033064,
          -0.005843536800000004,
          -0.0038781088,
          -0.005010728000000001,
          -0.0050285632,
          -0.007768453599999998,
          -0.004080206399999998,
          -0.002757373599999999,
          -0.003119743200000001,
          -0.0037215735999999995,
          -0.004479026400000001,
          -0.0035985623999999993,
          -0.0044927344,
          -0.006014517599999999,
          -0.004636827999999999,
          -0.002775692800000001,
          -0.0034381295999999996,
          -0.0054011944,
          -0.003687244800000001,
          -0.0039036943999999994,
          -0.007834574400000002,
          -0.0021155064,
          -0.0015533695999999997,
          -0.006986968,
          -0.004327687999999999,
          -0.006652512,
          -0.0029194712,
          -0.006583623199999999,
          -0.004793084000000001,
          -0.008566170399999998,
          -0.005091468,
          -0.005358440799999999,
          -0.0062986696,
          -0.006844548799999997,
          -0.0045943215999999995,
          -0.005794511999999999,
          -0.0053805256,
          -0.002372781600000001,
          -0.006161668,
          -0.0019547712,
          -0.0021795936000000003,
          -0.0015579856000000002,
          -0.006908493599999999,
          -0.0034661592000000013,
          -0.0019889432,
          -0.004232212,
          -0.002473955999999999,
          -0.0071520944000000005,
          -0.0029521624,
          -0.007016171200000001,
          -0.0052850288,
          -0.004098386399999999,
          -0.0049721536,
          0.00011213839999999961,
          -0.005552903200000002,
          -0.0037612624000000023,
          -0.0042918648000000005,
          -0.0045184568,
          -0.0030759127999999995,
          -0.0031765928000000005,
          0.0013122499999999994,
          -0.009152500000000001,
          -0.005739999999999998,
          -0.011908687500000001,
          -0.005020900000000002,
          -0.007137062499999998,
          -0.014917739130434784,
          -0.015425499999999998,
          -0.007418357142857143,
          -0.01935875,
          -0.009056545454545454,
          -0.01123115789473684,
          -0.010013250000000001,
          -0.0068406,
          -0.020472519999999998,
          -0.012863153846153845,
          -0.010665434782608695,
          -0.011480944444444443,
          -0.010394222222222223,
          -0.0043864375,
          -0.009289944444444444,
          -0.009275363636363637,
          -0.010685541666666664,
          0.0022960526315789465,
          -0.010437315789473685,
          -0.028665149999999993,
          -0.0239936,
          -0.0020024782608695658,
          0.0038451153846153848,
          -0.012106370370370366,
          -0.005166105263157895,
          -0.021832300000000002,
          -0.005810375000000002,
          -0.012575000000000001,
          -0.01205336842105263,
          -0.010231222222222225,
          -0.014915000000000001,
          -0.013285428571428573,
          -0.01198245,
          -0.009596650000000002,
          -0.009999444444444444,
          -0.0060546363636363645,
          -0.013816736842105265,
          -0.014900599999999998,
          -0.007632499999999999,
          -0.017102812499999998,
          -0.010456359999999998,
          -0.009568578947368421,
          -0.019201,
          -0.01838131578947368,
          -0.019334217391304344,
          -0.014499176470588234,
          -0.0032010000000000007,
          -0.016848095238095242,
          -0.0008235000000000003,
          -0.02014142857142857,
          -0.015437933333333336,
          -0.009002428571428567,
          -0.009591111111111113,
          -0.011198470588235294,
          -0.0049282499999999995,
          -0.002742076923076924,
          -0.025353499999999998,
          -0.02429626666666667,
          -0.015154047619047616,
          -0.0068216499999999985,
          -0.010763961538461538,
          -0.012660380952380952,
          0.002836954545454544,
          -0.0009038125000000001,
          -0.015478555555555554,
          -0.021507882352941175,
          -0.005645349999999999,
          -0.0053590526315789476,
          -0.017989222222222222,
          -0.024789150000000003,
          -0.019960849999999995,
          -0.01933155,
          -0.021579549999999996,
          -0.011171777777777777,
          -0.01135033333333333,
          -0.003538266666666667,
          -0.0003291764705882351,
          -0.012741312500000003,
          -0.00009162068965517205,
          -0.010073705882352941,
          -0.0094693,
          -0.009155863636363636,
          -0.007650142857142857,
          -0.006414631578947369,
          -0.003974333333333333,
          -0.01189326315789474,
          -0.015402470588235295,
          -0.0095642,
          -0.011708411764705882,
          -0.018136562499999998,
          -0.00047262499999999995,
          -0.028069125000000004,
          -0.010395541666666668,
          -0.0030458125000000008
         ],
         "y0": " ",
         "yaxis": "y"
        }
       ],
       "layout": {
        "boxmode": "group",
        "legend": {
         "tracegroupgap": 0
        },
        "template": {
         "data": {
          "bar": [
           {
            "error_x": {
             "color": "#2a3f5f"
            },
            "error_y": {
             "color": "#2a3f5f"
            },
            "marker": {
             "line": {
              "color": "#E5ECF6",
              "width": 0.5
             },
             "pattern": {
              "fillmode": "overlay",
              "size": 10,
              "solidity": 0.2
             }
            },
            "type": "bar"
           }
          ],
          "barpolar": [
           {
            "marker": {
             "line": {
              "color": "#E5ECF6",
              "width": 0.5
             },
             "pattern": {
              "fillmode": "overlay",
              "size": 10,
              "solidity": 0.2
             }
            },
            "type": "barpolar"
           }
          ],
          "carpet": [
           {
            "aaxis": {
             "endlinecolor": "#2a3f5f",
             "gridcolor": "white",
             "linecolor": "white",
             "minorgridcolor": "white",
             "startlinecolor": "#2a3f5f"
            },
            "baxis": {
             "endlinecolor": "#2a3f5f",
             "gridcolor": "white",
             "linecolor": "white",
             "minorgridcolor": "white",
             "startlinecolor": "#2a3f5f"
            },
            "type": "carpet"
           }
          ],
          "choropleth": [
           {
            "colorbar": {
             "outlinewidth": 0,
             "ticks": ""
            },
            "type": "choropleth"
           }
          ],
          "contour": [
           {
            "colorbar": {
             "outlinewidth": 0,
             "ticks": ""
            },
            "colorscale": [
             [
              0,
              "#0d0887"
             ],
             [
              0.1111111111111111,
              "#46039f"
             ],
             [
              0.2222222222222222,
              "#7201a8"
             ],
             [
              0.3333333333333333,
              "#9c179e"
             ],
             [
              0.4444444444444444,
              "#bd3786"
             ],
             [
              0.5555555555555556,
              "#d8576b"
             ],
             [
              0.6666666666666666,
              "#ed7953"
             ],
             [
              0.7777777777777778,
              "#fb9f3a"
             ],
             [
              0.8888888888888888,
              "#fdca26"
             ],
             [
              1,
              "#f0f921"
             ]
            ],
            "type": "contour"
           }
          ],
          "contourcarpet": [
           {
            "colorbar": {
             "outlinewidth": 0,
             "ticks": ""
            },
            "type": "contourcarpet"
           }
          ],
          "heatmap": [
           {
            "colorbar": {
             "outlinewidth": 0,
             "ticks": ""
            },
            "colorscale": [
             [
              0,
              "#0d0887"
             ],
             [
              0.1111111111111111,
              "#46039f"
             ],
             [
              0.2222222222222222,
              "#7201a8"
             ],
             [
              0.3333333333333333,
              "#9c179e"
             ],
             [
              0.4444444444444444,
              "#bd3786"
             ],
             [
              0.5555555555555556,
              "#d8576b"
             ],
             [
              0.6666666666666666,
              "#ed7953"
             ],
             [
              0.7777777777777778,
              "#fb9f3a"
             ],
             [
              0.8888888888888888,
              "#fdca26"
             ],
             [
              1,
              "#f0f921"
             ]
            ],
            "type": "heatmap"
           }
          ],
          "heatmapgl": [
           {
            "colorbar": {
             "outlinewidth": 0,
             "ticks": ""
            },
            "colorscale": [
             [
              0,
              "#0d0887"
             ],
             [
              0.1111111111111111,
              "#46039f"
             ],
             [
              0.2222222222222222,
              "#7201a8"
             ],
             [
              0.3333333333333333,
              "#9c179e"
             ],
             [
              0.4444444444444444,
              "#bd3786"
             ],
             [
              0.5555555555555556,
              "#d8576b"
             ],
             [
              0.6666666666666666,
              "#ed7953"
             ],
             [
              0.7777777777777778,
              "#fb9f3a"
             ],
             [
              0.8888888888888888,
              "#fdca26"
             ],
             [
              1,
              "#f0f921"
             ]
            ],
            "type": "heatmapgl"
           }
          ],
          "histogram": [
           {
            "marker": {
             "pattern": {
              "fillmode": "overlay",
              "size": 10,
              "solidity": 0.2
             }
            },
            "type": "histogram"
           }
          ],
          "histogram2d": [
           {
            "colorbar": {
             "outlinewidth": 0,
             "ticks": ""
            },
            "colorscale": [
             [
              0,
              "#0d0887"
             ],
             [
              0.1111111111111111,
              "#46039f"
             ],
             [
              0.2222222222222222,
              "#7201a8"
             ],
             [
              0.3333333333333333,
              "#9c179e"
             ],
             [
              0.4444444444444444,
              "#bd3786"
             ],
             [
              0.5555555555555556,
              "#d8576b"
             ],
             [
              0.6666666666666666,
              "#ed7953"
             ],
             [
              0.7777777777777778,
              "#fb9f3a"
             ],
             [
              0.8888888888888888,
              "#fdca26"
             ],
             [
              1,
              "#f0f921"
             ]
            ],
            "type": "histogram2d"
           }
          ],
          "histogram2dcontour": [
           {
            "colorbar": {
             "outlinewidth": 0,
             "ticks": ""
            },
            "colorscale": [
             [
              0,
              "#0d0887"
             ],
             [
              0.1111111111111111,
              "#46039f"
             ],
             [
              0.2222222222222222,
              "#7201a8"
             ],
             [
              0.3333333333333333,
              "#9c179e"
             ],
             [
              0.4444444444444444,
              "#bd3786"
             ],
             [
              0.5555555555555556,
              "#d8576b"
             ],
             [
              0.6666666666666666,
              "#ed7953"
             ],
             [
              0.7777777777777778,
              "#fb9f3a"
             ],
             [
              0.8888888888888888,
              "#fdca26"
             ],
             [
              1,
              "#f0f921"
             ]
            ],
            "type": "histogram2dcontour"
           }
          ],
          "mesh3d": [
           {
            "colorbar": {
             "outlinewidth": 0,
             "ticks": ""
            },
            "type": "mesh3d"
           }
          ],
          "parcoords": [
           {
            "line": {
             "colorbar": {
              "outlinewidth": 0,
              "ticks": ""
             }
            },
            "type": "parcoords"
           }
          ],
          "pie": [
           {
            "automargin": true,
            "type": "pie"
           }
          ],
          "scatter": [
           {
            "marker": {
             "colorbar": {
              "outlinewidth": 0,
              "ticks": ""
             }
            },
            "type": "scatter"
           }
          ],
          "scatter3d": [
           {
            "line": {
             "colorbar": {
              "outlinewidth": 0,
              "ticks": ""
             }
            },
            "marker": {
             "colorbar": {
              "outlinewidth": 0,
              "ticks": ""
             }
            },
            "type": "scatter3d"
           }
          ],
          "scattercarpet": [
           {
            "marker": {
             "colorbar": {
              "outlinewidth": 0,
              "ticks": ""
             }
            },
            "type": "scattercarpet"
           }
          ],
          "scattergeo": [
           {
            "marker": {
             "colorbar": {
              "outlinewidth": 0,
              "ticks": ""
             }
            },
            "type": "scattergeo"
           }
          ],
          "scattergl": [
           {
            "marker": {
             "colorbar": {
              "outlinewidth": 0,
              "ticks": ""
             }
            },
            "type": "scattergl"
           }
          ],
          "scattermapbox": [
           {
            "marker": {
             "colorbar": {
              "outlinewidth": 0,
              "ticks": ""
             }
            },
            "type": "scattermapbox"
           }
          ],
          "scatterpolar": [
           {
            "marker": {
             "colorbar": {
              "outlinewidth": 0,
              "ticks": ""
             }
            },
            "type": "scatterpolar"
           }
          ],
          "scatterpolargl": [
           {
            "marker": {
             "colorbar": {
              "outlinewidth": 0,
              "ticks": ""
             }
            },
            "type": "scatterpolargl"
           }
          ],
          "scatterternary": [
           {
            "marker": {
             "colorbar": {
              "outlinewidth": 0,
              "ticks": ""
             }
            },
            "type": "scatterternary"
           }
          ],
          "surface": [
           {
            "colorbar": {
             "outlinewidth": 0,
             "ticks": ""
            },
            "colorscale": [
             [
              0,
              "#0d0887"
             ],
             [
              0.1111111111111111,
              "#46039f"
             ],
             [
              0.2222222222222222,
              "#7201a8"
             ],
             [
              0.3333333333333333,
              "#9c179e"
             ],
             [
              0.4444444444444444,
              "#bd3786"
             ],
             [
              0.5555555555555556,
              "#d8576b"
             ],
             [
              0.6666666666666666,
              "#ed7953"
             ],
             [
              0.7777777777777778,
              "#fb9f3a"
             ],
             [
              0.8888888888888888,
              "#fdca26"
             ],
             [
              1,
              "#f0f921"
             ]
            ],
            "type": "surface"
           }
          ],
          "table": [
           {
            "cells": {
             "fill": {
              "color": "#EBF0F8"
             },
             "line": {
              "color": "white"
             }
            },
            "header": {
             "fill": {
              "color": "#C8D4E3"
             },
             "line": {
              "color": "white"
             }
            },
            "type": "table"
           }
          ]
         },
         "layout": {
          "annotationdefaults": {
           "arrowcolor": "#2a3f5f",
           "arrowhead": 0,
           "arrowwidth": 1
          },
          "autotypenumbers": "strict",
          "coloraxis": {
           "colorbar": {
            "outlinewidth": 0,
            "ticks": ""
           }
          },
          "colorscale": {
           "diverging": [
            [
             0,
             "#8e0152"
            ],
            [
             0.1,
             "#c51b7d"
            ],
            [
             0.2,
             "#de77ae"
            ],
            [
             0.3,
             "#f1b6da"
            ],
            [
             0.4,
             "#fde0ef"
            ],
            [
             0.5,
             "#f7f7f7"
            ],
            [
             0.6,
             "#e6f5d0"
            ],
            [
             0.7,
             "#b8e186"
            ],
            [
             0.8,
             "#7fbc41"
            ],
            [
             0.9,
             "#4d9221"
            ],
            [
             1,
             "#276419"
            ]
           ],
           "sequential": [
            [
             0,
             "#0d0887"
            ],
            [
             0.1111111111111111,
             "#46039f"
            ],
            [
             0.2222222222222222,
             "#7201a8"
            ],
            [
             0.3333333333333333,
             "#9c179e"
            ],
            [
             0.4444444444444444,
             "#bd3786"
            ],
            [
             0.5555555555555556,
             "#d8576b"
            ],
            [
             0.6666666666666666,
             "#ed7953"
            ],
            [
             0.7777777777777778,
             "#fb9f3a"
            ],
            [
             0.8888888888888888,
             "#fdca26"
            ],
            [
             1,
             "#f0f921"
            ]
           ],
           "sequentialminus": [
            [
             0,
             "#0d0887"
            ],
            [
             0.1111111111111111,
             "#46039f"
            ],
            [
             0.2222222222222222,
             "#7201a8"
            ],
            [
             0.3333333333333333,
             "#9c179e"
            ],
            [
             0.4444444444444444,
             "#bd3786"
            ],
            [
             0.5555555555555556,
             "#d8576b"
            ],
            [
             0.6666666666666666,
             "#ed7953"
            ],
            [
             0.7777777777777778,
             "#fb9f3a"
            ],
            [
             0.8888888888888888,
             "#fdca26"
            ],
            [
             1,
             "#f0f921"
            ]
           ]
          },
          "colorway": [
           "#636efa",
           "#EF553B",
           "#00cc96",
           "#ab63fa",
           "#FFA15A",
           "#19d3f3",
           "#FF6692",
           "#B6E880",
           "#FF97FF",
           "#FECB52"
          ],
          "font": {
           "color": "#2a3f5f"
          },
          "geo": {
           "bgcolor": "white",
           "lakecolor": "white",
           "landcolor": "#E5ECF6",
           "showlakes": true,
           "showland": true,
           "subunitcolor": "white"
          },
          "hoverlabel": {
           "align": "left"
          },
          "hovermode": "closest",
          "mapbox": {
           "style": "light"
          },
          "paper_bgcolor": "white",
          "plot_bgcolor": "#E5ECF6",
          "polar": {
           "angularaxis": {
            "gridcolor": "white",
            "linecolor": "white",
            "ticks": ""
           },
           "bgcolor": "#E5ECF6",
           "radialaxis": {
            "gridcolor": "white",
            "linecolor": "white",
            "ticks": ""
           }
          },
          "scene": {
           "xaxis": {
            "backgroundcolor": "#E5ECF6",
            "gridcolor": "white",
            "gridwidth": 2,
            "linecolor": "white",
            "showbackground": true,
            "ticks": "",
            "zerolinecolor": "white"
           },
           "yaxis": {
            "backgroundcolor": "#E5ECF6",
            "gridcolor": "white",
            "gridwidth": 2,
            "linecolor": "white",
            "showbackground": true,
            "ticks": "",
            "zerolinecolor": "white"
           },
           "zaxis": {
            "backgroundcolor": "#E5ECF6",
            "gridcolor": "white",
            "gridwidth": 2,
            "linecolor": "white",
            "showbackground": true,
            "ticks": "",
            "zerolinecolor": "white"
           }
          },
          "shapedefaults": {
           "line": {
            "color": "#2a3f5f"
           }
          },
          "ternary": {
           "aaxis": {
            "gridcolor": "white",
            "linecolor": "white",
            "ticks": ""
           },
           "baxis": {
            "gridcolor": "white",
            "linecolor": "white",
            "ticks": ""
           },
           "bgcolor": "#E5ECF6",
           "caxis": {
            "gridcolor": "white",
            "linecolor": "white",
            "ticks": ""
           }
          },
          "title": {
           "x": 0.05
          },
          "xaxis": {
           "automargin": true,
           "gridcolor": "white",
           "linecolor": "white",
           "ticks": "",
           "title": {
            "standoff": 15
           },
           "zerolinecolor": "white",
           "zerolinewidth": 2
          },
          "yaxis": {
           "automargin": true,
           "gridcolor": "white",
           "linecolor": "white",
           "ticks": "",
           "title": {
            "standoff": 15
           },
           "zerolinecolor": "white",
           "zerolinewidth": 2
          }
         }
        },
        "title": {
         "text": "ETH funding rates between exchanges (X - Binance)"
        },
        "xaxis": {
         "anchor": "y",
         "domain": [
          0,
          1
         ],
         "title": {
          "text": "exchanges"
         }
        },
        "yaxis": {
         "anchor": "x",
         "domain": [
          0,
          1
         ],
         "title": {
          "text": "value"
         }
        }
       }
      }
     },
     "metadata": {},
     "output_type": "display_data"
    }
   ],
   "source": [
    "plot_data = []\n",
    "\n",
    "for i in range(100):\n",
    "    a = (data.apply(lambda x: x - data.Binance, axis = 0)).iloc[np.random.randint(0,539,size=50),].mean().tolist()\n",
    "    plot_data.append(a)\n",
    "    \n",
    "plot_data = pd.DataFrame(plot_data,columns = [data.columns])\n",
    "plot_data = pd.melt(plot_data,var_name= 'exchanges', value_name='value')\n",
    "\n",
    "fig = px.box(plot_data, x='exchanges', y='value',title=f\"{params['symbol']} funding rates between exchanges (X - Binance)\")\n",
    "fig.show()"
   ]
  },
  {
   "cell_type": "code",
   "execution_count": 444,
   "metadata": {},
   "outputs": [],
   "source": [
    "# fig.write_html('assets/plotly_coinglass_ETHUSDT.html')"
   ]
  },
  {
   "cell_type": "code",
   "execution_count": 445,
   "metadata": {},
   "outputs": [
    {
     "data": {
      "text/plain": [
       "0.0609080697709079"
      ]
     },
     "execution_count": 445,
     "metadata": {},
     "output_type": "execute_result"
    }
   ],
   "source": [
    "(1+0.0162*0.01)**365 - 1"
   ]
  },
  {
   "cell_type": "code",
   "execution_count": 8,
   "metadata": {},
   "outputs": [],
   "source": [
    "from Exchanges.Okx import Okx\n",
    "from Exchanges.Binance import Binance\n",
    "from Exchanges.Gate import Gate\n",
    "from pandas import json_normalize"
   ]
  },
  {
   "cell_type": "code",
   "execution_count": 9,
   "metadata": {},
   "outputs": [
    {
     "name": "stdout",
     "output_type": "stream",
     "text": [
      "https://www.okx.com/api/v5/public/instruments?instType=SWAP\n"
     ]
    }
   ],
   "source": [
    "okx = Okx()\n",
    "url_path = '/api/v5/public/instruments'\n",
    "payload = {\n",
    "    'instType': 'SWAP',\n",
    "}\n",
    "r = okx.send_public_request(url_path, payload)\n",
    "# print(r)\n",
    "okx_ex = json_normalize(r['data'])\n",
    "okx_ex.uly = okx_ex.uly.apply(lambda x: x.replace('-',''))\n",
    "\n",
    "\n",
    "binance = Binance(BASE_URL= 'https://fapi.binance.com')\n",
    "url_path = '/fapi/v1/exchangeInfo'\n",
    "payload = {}\n",
    "r = binance.send_public_request(url_path, payload=payload)\n",
    "# print(r)\n",
    "binance_ex = json_normalize(r['symbols'])\n",
    "\n",
    "\n",
    "gate = Gate()\n",
    "url = '/futures/usdt/contracts'\n",
    "params = {}\n",
    "bot = Gate()\n",
    "r = bot.send_public_request(url, params)\n",
    "# print(r)\n",
    "gate_ex = json_normalize(r)\n",
    "gate_ex.name = gate_ex.name.apply(lambda x: x.replace('_',''))"
   ]
  },
  {
   "cell_type": "markdown",
   "metadata": {},
   "source": [
    "# Binance and Okx"
   ]
  },
  {
   "cell_type": "code",
   "execution_count": 10,
   "metadata": {},
   "outputs": [],
   "source": [
    "global exchange_info\n",
    "exchange_info = (\n",
    "    pd.merge(okx_ex, binance_ex, left_on='uly', right_on='symbol',how= 'inner')\n",
    "    .loc[:,['symbol','baseAsset','quoteAsset','uly']]\n",
    "    .rename(columns={'symbol':'Binance','uly':'Okx'})\n",
    ")\n",
    "\n",
    "exchange_info.Okx = exchange_info.Okx.apply(lambda x: x.split('U')[0] + '-'+'U'+ x.split('U')[1])"
   ]
  },
  {
   "cell_type": "code",
   "execution_count": 11,
   "metadata": {},
   "outputs": [
    {
     "data": {
      "text/html": [
       "<div>\n",
       "<style scoped>\n",
       "    .dataframe tbody tr th:only-of-type {\n",
       "        vertical-align: middle;\n",
       "    }\n",
       "\n",
       "    .dataframe tbody tr th {\n",
       "        vertical-align: top;\n",
       "    }\n",
       "\n",
       "    .dataframe thead th {\n",
       "        text-align: right;\n",
       "    }\n",
       "</style>\n",
       "<table border=\"1\" class=\"dataframe\">\n",
       "  <thead>\n",
       "    <tr style=\"text-align: right;\">\n",
       "      <th></th>\n",
       "      <th>Binance</th>\n",
       "      <th>baseAsset</th>\n",
       "      <th>quoteAsset</th>\n",
       "      <th>Okx</th>\n",
       "    </tr>\n",
       "  </thead>\n",
       "  <tbody>\n",
       "    <tr>\n",
       "      <th>0</th>\n",
       "      <td>BTCUSDT</td>\n",
       "      <td>BTC</td>\n",
       "      <td>USDT</td>\n",
       "      <td>BTC-USDT</td>\n",
       "    </tr>\n",
       "    <tr>\n",
       "      <th>1</th>\n",
       "      <td>ETHUSDT</td>\n",
       "      <td>ETH</td>\n",
       "      <td>USDT</td>\n",
       "      <td>ETH-USDT</td>\n",
       "    </tr>\n",
       "    <tr>\n",
       "      <th>2</th>\n",
       "      <td>LTCUSDT</td>\n",
       "      <td>LTC</td>\n",
       "      <td>USDT</td>\n",
       "      <td>LTC-USDT</td>\n",
       "    </tr>\n",
       "    <tr>\n",
       "      <th>3</th>\n",
       "      <td>DOTUSDT</td>\n",
       "      <td>DOT</td>\n",
       "      <td>USDT</td>\n",
       "      <td>DOT-USDT</td>\n",
       "    </tr>\n",
       "    <tr>\n",
       "      <th>4</th>\n",
       "      <td>DOGEUSDT</td>\n",
       "      <td>DOGE</td>\n",
       "      <td>USDT</td>\n",
       "      <td>DOGE-USDT</td>\n",
       "    </tr>\n",
       "    <tr>\n",
       "      <th>...</th>\n",
       "      <td>...</td>\n",
       "      <td>...</td>\n",
       "      <td>...</td>\n",
       "      <td>...</td>\n",
       "    </tr>\n",
       "    <tr>\n",
       "      <th>78</th>\n",
       "      <td>YFIUSDT</td>\n",
       "      <td>YFI</td>\n",
       "      <td>USDT</td>\n",
       "      <td>YFI-USDT</td>\n",
       "    </tr>\n",
       "    <tr>\n",
       "      <th>79</th>\n",
       "      <td>ZECUSDT</td>\n",
       "      <td>ZEC</td>\n",
       "      <td>USDT</td>\n",
       "      <td>ZEC-USDT</td>\n",
       "    </tr>\n",
       "    <tr>\n",
       "      <th>80</th>\n",
       "      <td>ZENUSDT</td>\n",
       "      <td>ZEN</td>\n",
       "      <td>USDT</td>\n",
       "      <td>ZEN-USDT</td>\n",
       "    </tr>\n",
       "    <tr>\n",
       "      <th>81</th>\n",
       "      <td>ZILUSDT</td>\n",
       "      <td>ZIL</td>\n",
       "      <td>USDT</td>\n",
       "      <td>ZIL-USDT</td>\n",
       "    </tr>\n",
       "    <tr>\n",
       "      <th>82</th>\n",
       "      <td>ZRXUSDT</td>\n",
       "      <td>ZRX</td>\n",
       "      <td>USDT</td>\n",
       "      <td>ZRX-USDT</td>\n",
       "    </tr>\n",
       "  </tbody>\n",
       "</table>\n",
       "<p>83 rows × 4 columns</p>\n",
       "</div>"
      ],
      "text/plain": [
       "     Binance baseAsset quoteAsset        Okx\n",
       "0    BTCUSDT       BTC       USDT   BTC-USDT\n",
       "1    ETHUSDT       ETH       USDT   ETH-USDT\n",
       "2    LTCUSDT       LTC       USDT   LTC-USDT\n",
       "3    DOTUSDT       DOT       USDT   DOT-USDT\n",
       "4   DOGEUSDT      DOGE       USDT  DOGE-USDT\n",
       "..       ...       ...        ...        ...\n",
       "78   YFIUSDT       YFI       USDT   YFI-USDT\n",
       "79   ZECUSDT       ZEC       USDT   ZEC-USDT\n",
       "80   ZENUSDT       ZEN       USDT   ZEN-USDT\n",
       "81   ZILUSDT       ZIL       USDT   ZIL-USDT\n",
       "82   ZRXUSDT       ZRX       USDT   ZRX-USDT\n",
       "\n",
       "[83 rows x 4 columns]"
      ]
     },
     "execution_count": 11,
     "metadata": {},
     "output_type": "execute_result"
    }
   ],
   "source": [
    "exchange_info"
   ]
  },
  {
   "cell_type": "markdown",
   "metadata": {},
   "source": [
    "# Gate and Binance"
   ]
  },
  {
   "cell_type": "code",
   "execution_count": 12,
   "metadata": {},
   "outputs": [],
   "source": [
    "exchange_info = (\n",
    "    pd.merge(gate_ex, binance_ex, left_on='name', right_on='symbol',how= 'inner')\n",
    "    .loc[:,['symbol','baseAsset','quoteAsset','name']]\n",
    "    .rename(columns={'symbol':'Binance','name':'gate'})\n",
    ")\n",
    "exchange_info.gate = exchange_info.gate.str[:-4] + \"_\"+ exchange_info.gate.str[-4:] "
   ]
  },
  {
   "cell_type": "code",
   "execution_count": 13,
   "metadata": {},
   "outputs": [
    {
     "data": {
      "text/html": [
       "<div>\n",
       "<style scoped>\n",
       "    .dataframe tbody tr th:only-of-type {\n",
       "        vertical-align: middle;\n",
       "    }\n",
       "\n",
       "    .dataframe tbody tr th {\n",
       "        vertical-align: top;\n",
       "    }\n",
       "\n",
       "    .dataframe thead th {\n",
       "        text-align: right;\n",
       "    }\n",
       "</style>\n",
       "<table border=\"1\" class=\"dataframe\">\n",
       "  <thead>\n",
       "    <tr style=\"text-align: right;\">\n",
       "      <th></th>\n",
       "      <th>Binance</th>\n",
       "      <th>baseAsset</th>\n",
       "      <th>quoteAsset</th>\n",
       "      <th>gate</th>\n",
       "    </tr>\n",
       "  </thead>\n",
       "  <tbody>\n",
       "    <tr>\n",
       "      <th>0</th>\n",
       "      <td>KNCUSDT</td>\n",
       "      <td>KNC</td>\n",
       "      <td>USDT</td>\n",
       "      <td>KNC_USDT</td>\n",
       "    </tr>\n",
       "    <tr>\n",
       "      <th>1</th>\n",
       "      <td>SCUSDT</td>\n",
       "      <td>SC</td>\n",
       "      <td>USDT</td>\n",
       "      <td>SC_USDT</td>\n",
       "    </tr>\n",
       "    <tr>\n",
       "      <th>2</th>\n",
       "      <td>ZECUSDT</td>\n",
       "      <td>ZEC</td>\n",
       "      <td>USDT</td>\n",
       "      <td>ZEC_USDT</td>\n",
       "    </tr>\n",
       "    <tr>\n",
       "      <th>3</th>\n",
       "      <td>ICXUSDT</td>\n",
       "      <td>ICX</td>\n",
       "      <td>USDT</td>\n",
       "      <td>ICX_USDT</td>\n",
       "    </tr>\n",
       "    <tr>\n",
       "      <th>4</th>\n",
       "      <td>RVNUSDT</td>\n",
       "      <td>RVN</td>\n",
       "      <td>USDT</td>\n",
       "      <td>RVN_USDT</td>\n",
       "    </tr>\n",
       "    <tr>\n",
       "      <th>...</th>\n",
       "      <td>...</td>\n",
       "      <td>...</td>\n",
       "      <td>...</td>\n",
       "      <td>...</td>\n",
       "    </tr>\n",
       "    <tr>\n",
       "      <th>131</th>\n",
       "      <td>ZENUSDT</td>\n",
       "      <td>ZEN</td>\n",
       "      <td>USDT</td>\n",
       "      <td>ZEN_USDT</td>\n",
       "    </tr>\n",
       "    <tr>\n",
       "      <th>132</th>\n",
       "      <td>IOSTUSDT</td>\n",
       "      <td>IOST</td>\n",
       "      <td>USDT</td>\n",
       "      <td>IOST_USDT</td>\n",
       "    </tr>\n",
       "    <tr>\n",
       "      <th>133</th>\n",
       "      <td>ARPAUSDT</td>\n",
       "      <td>ARPA</td>\n",
       "      <td>USDT</td>\n",
       "      <td>ARPA_USDT</td>\n",
       "    </tr>\n",
       "    <tr>\n",
       "      <th>134</th>\n",
       "      <td>EGLDUSDT</td>\n",
       "      <td>EGLD</td>\n",
       "      <td>USDT</td>\n",
       "      <td>EGLD_USDT</td>\n",
       "    </tr>\n",
       "    <tr>\n",
       "      <th>135</th>\n",
       "      <td>XTZUSDT</td>\n",
       "      <td>XTZ</td>\n",
       "      <td>USDT</td>\n",
       "      <td>XTZ_USDT</td>\n",
       "    </tr>\n",
       "  </tbody>\n",
       "</table>\n",
       "<p>136 rows × 4 columns</p>\n",
       "</div>"
      ],
      "text/plain": [
       "      Binance baseAsset quoteAsset       gate\n",
       "0     KNCUSDT       KNC       USDT   KNC_USDT\n",
       "1      SCUSDT        SC       USDT    SC_USDT\n",
       "2     ZECUSDT       ZEC       USDT   ZEC_USDT\n",
       "3     ICXUSDT       ICX       USDT   ICX_USDT\n",
       "4     RVNUSDT       RVN       USDT   RVN_USDT\n",
       "..        ...       ...        ...        ...\n",
       "131   ZENUSDT       ZEN       USDT   ZEN_USDT\n",
       "132  IOSTUSDT      IOST       USDT  IOST_USDT\n",
       "133  ARPAUSDT      ARPA       USDT  ARPA_USDT\n",
       "134  EGLDUSDT      EGLD       USDT  EGLD_USDT\n",
       "135   XTZUSDT       XTZ       USDT   XTZ_USDT\n",
       "\n",
       "[136 rows x 4 columns]"
      ]
     },
     "execution_count": 13,
     "metadata": {},
     "output_type": "execute_result"
    }
   ],
   "source": [
    "exchange_info"
   ]
  },
  {
   "cell_type": "code",
   "execution_count": 272,
   "metadata": {},
   "outputs": [],
   "source": [
    "def gate_get_FundingRateHist(symbol):\n",
    "    gate = Gate()\n",
    "    url = '/futures/usdt/funding_rate'\n",
    "    \n",
    "    params = {\n",
    "        'contract':symbol,\n",
    "        'limit':1000\n",
    "    }\n",
    "    \n",
    "    bot = Gate()\n",
    "    r = bot.send_public_request(url, params)\n",
    "    \n",
    "    gate_fundingrate = (\n",
    "        json_normalize(r)\n",
    "        .rename(columns={'t':'time','r':'gate'})\n",
    "        .assign(time = lambda x: pd.to_datetime(x.time, unit='s'))\n",
    "        .assign(gate = lambda x: x.gate.astype(float))\n",
    "    )\n",
    "    return gate_fundingrate\n",
    "    \n",
    "def binance_get_FundingRateHist(symbol, endtime = None):\n",
    "\n",
    "    # endtime = '2021-09-16 00:10:00'\n",
    "    binance = Binance(BASE_URL= 'https://fapi.binance.com')\n",
    "    url_path = '/fapi/v1/fundingRate'\n",
    "    \n",
    "    if not endtime:\n",
    "        params = {\n",
    "            'symbol':symbol,\n",
    "            'limit':1000\n",
    "        }\n",
    "    else:\n",
    "        starttime = int((pd.to_datetime(endtime) - pd.Timedelta(hours=8)*1000).timestamp()*1000)\n",
    "        # endtime = int(datetime.datetime.strptime(endtime, \"%Y-%m-%d %H:%M:%S\").timestamp()*1000)\n",
    "        params = {\n",
    "            'symbol':symbol,\n",
    "            'limit':1000,\n",
    "            'startTime':starttime,\n",
    "        }\n",
    "        # print(params) \n",
    "        \n",
    "    r = binance.send_public_request(url_path, payload=params)\n",
    "    # return r\n",
    "    \n",
    "    binance_fundingrate = (\n",
    "        json_normalize(r)\n",
    "        .iloc[:,1:]\n",
    "        .rename(columns={'fundingTime':'time','fundingRate':'binance'})\n",
    "        .assign(time = lambda x: pd.to_datetime(x.time/1000, unit='s')) \n",
    "        .assign(time = lambda x: pd.to_datetime(x.time.dt.strftime('%Y-%m-%d %H:%M:%S')))\n",
    "        .assign(binance = lambda x: x.binance.astype(float))\n",
    "    )\n",
    "    return binance_fundingrate\n",
    "\n",
    "\n",
    "def get_evaluation_symbol(all_data, asset, test_point = None, train_span = None):\n",
    "    \n",
    "    # test_point = -30 # is the current starting point for the test set, if -1, it will be the newest day, if -2, will be the last day, etc.\n",
    "    # train_span = 1 # is the time span for the training set, if 1, the training data set will be the last day, if 2, will be last two days, etc.\n",
    "    \n",
    "    if  test_point and train_span:\n",
    "    \n",
    "    #* other measurements\n",
    "        # .assign(pos_count = lambda x: eval(((x.gate - x.binance)>0).value_counts().to_json())['True'])\n",
    "        # .assign(neg_count = lambda x: eval(((x.gate - x.binance)>0).value_counts().to_json())['False'])\n",
    "        # .assign(pos_neg_ratio = lambda x: eval(((x.gate - x.binance)>0).value_counts().to_json())['True']/eval(((x.gate - x.binance)<0).value_counts().to_json())['False'])\n",
    "\n",
    "        if (-test_point) > all_data[asset].shape[0]:\n",
    "            return None\n",
    "        \n",
    "        symbol_evaluation = (\n",
    "            all_data[asset]\n",
    "            .sort_values('time', ascending = True).reset_index(drop = True)\n",
    "            .iloc[test_point - train_span:test_point,:]\n",
    "            .assign(mean_difference = lambda x: (x.gate - x.binance).mean())\n",
    "            .assign(annual_ret = lambda x: ((x.gate - x.binance).mean()*3 + 1)**365 -1)\n",
    "            .assign(asset = asset)\n",
    "            .iloc[-1,:]\n",
    "            .to_frame()\n",
    "            .T\n",
    "        )\n",
    "    else:\n",
    "        symbol_evaluation = (\n",
    "            all_data[asset]\n",
    "            .sort_values('time', ascending = True).reset_index(drop = True)\n",
    "            .assign(mean_difference = lambda x: (x.gate - x.binance).mean())\n",
    "            .assign(annual_ret = lambda x: ((x.gate - x.binance).mean()*3 + 1)**365 -1)\n",
    "            .assign(asset = asset)\n",
    "            .iloc[-1,:]\n",
    "            .to_frame()\n",
    "            .T\n",
    "        )\n",
    "    return symbol_evaluation\n",
    "\n",
    "\n",
    "def get_all_fundingrate():\n",
    "    all_data = {}\n",
    "    \n",
    "    for asset in exchange_info.baseAsset:\n",
    "        \n",
    "        # asset = 'ZEC'\n",
    "        try: \n",
    "            binance_symbol = exchange_info.loc[exchange_info.baseAsset == asset, 'Binance'].values[0]\n",
    "            gate_symbol = exchange_info.loc[exchange_info.baseAsset == asset, 'gate'].values[0]\n",
    "            \n",
    "            gate_fundingrate = gate_get_FundingRateHist(gate_symbol)\n",
    "            binance_fundingrate  = binance_get_FundingRateHist(binance_symbol)\n",
    "            \n",
    "            all_data[asset] = pd.merge(gate_fundingrate, binance_fundingrate, on ='time' ,how= 'inner').sort_values('time', ascending = True).reset_index(drop = True)\n",
    "        except Exception as e:\n",
    "            continue\n",
    "    \n",
    "    return all_data\n",
    "    \n",
    "\n",
    "def get_evaluation_table(all_data, test_point, train_span):\n",
    "\n",
    "    all_evaluation = pd.DataFrame()\n",
    "\n",
    "    for asset in exchange_info.baseAsset:\n",
    "        # print(asset)\n",
    "        symbol_evaluation = get_evaluation_symbol(all_data, asset, test_point, train_span)\n",
    "        all_evaluation = all_evaluation.append(symbol_evaluation)\n",
    "        \n",
    "    return all_evaluation.reset_index(drop=True)\n",
    "\n",
    "def get_target_pair(all_data, test_point, train_span):\n",
    "    all_evaluation = get_evaluation_table(all_data, test_point, train_span)\n",
    "    pos_pair = all_evaluation.sort_values('annual_ret', ascending = False).reset_index(drop = True)['asset'].to_numpy()[[0,-1]][0]\n",
    "    neg_pair = all_evaluation.sort_values('annual_ret', ascending = False).reset_index(drop = True)['asset'].to_numpy()[[0,-1]][1]\n",
    "    \n",
    "    \"\"\"\n",
    "    \n",
    "    pos_pair -> high positive in exchange 1 -> earn funding rate in exchange -> take short because of positive funding rate -> hedge with long in binance\n",
    "    \n",
    "    pos_pair: the funding rate in exchange 1 is larger than that in binance, where we should take short of pos_pair in exchange 1, and short of pos_pair in binance.\n",
    "    neg_pair: the funding rate in exchange 1 is small than that in binance, where we should take long in exchange 1 and long in \n",
    "    \"\"\"\n",
    "    \n",
    "    return [pos_pair, neg_pair]\n",
    "    \n",
    "    \n",
    "def obtain_symbol_return(all_data, asset, test_point):\n",
    "\n",
    "    ret = (\n",
    "        all_data[asset]\n",
    "        .sort_values('time', ascending = True).reset_index(drop = True)\n",
    "        .iloc[test_point:test_point+1,:]\n",
    "        .assign(difference = lambda x: x.gate - x.binance)\n",
    "        .assign(asset = asset)\n",
    "    )\n",
    "    \n",
    "    return ret\n",
    "# all_data = get_all_fundingrate()"
   ]
  },
  {
   "cell_type": "code",
   "execution_count": 393,
   "metadata": {},
   "outputs": [],
   "source": [
    "validation_data = []\n",
    "for train_span in range(1,100):\n",
    "    test_point = -300\n",
    "    # train_span = 20\n",
    "    ret_table = pd.DataFrame()\n",
    "    while test_point <0:\n",
    "        # select trading pair\n",
    "        pos_pair, neg_pair = get_target_pair(all_data, test_point, train_span)\n",
    "        # print(pos_pair)\n",
    "        \n",
    "        mid_tm = test_point + 20\n",
    "    \n",
    "        while test_point < mid_tm:\n",
    "            # calculate the daily return of the trading pair\n",
    "            day_ret = obtain_symbol_return(all_data, pos_pair, test_point)\n",
    "            ret_table = ret_table.append(day_ret)\n",
    "            test_point += 1\n",
    "            if test_point >= 0:\n",
    "                break\n",
    "            # print(test_point)\n",
    "            \n",
    "    ret_table = ret_table.reset_index(drop = True)\n",
    "    test_ret = (1 + ret_table.difference.mean() * 3) ** 365 - 1\n",
    "    validation_data.append([train_span,test_ret])\n",
    "    "
   ]
  },
  {
   "cell_type": "code",
   "execution_count": 394,
   "metadata": {},
   "outputs": [],
   "source": [
    "plot_data = pd.DataFrame(validation_data,columns = ['train_span','test_ret'])"
   ]
  },
  {
   "cell_type": "code",
   "execution_count": 395,
   "metadata": {},
   "outputs": [
    {
     "data": {
      "application/vnd.plotly.v1+json": {
       "config": {
        "plotlyServerURL": "https://plot.ly"
       },
       "data": [
        {
         "hovertemplate": "train_span=%{x}<br>test_ret=%{y}<extra></extra>",
         "legendgroup": "",
         "line": {
          "color": "#636efa",
          "dash": "solid"
         },
         "marker": {
          "symbol": "circle"
         },
         "mode": "lines",
         "name": "",
         "orientation": "v",
         "showlegend": false,
         "type": "scatter",
         "x": [
          1,
          2,
          3,
          4,
          5,
          6,
          7,
          8,
          9,
          10,
          11,
          12,
          13,
          14,
          15,
          16,
          17,
          18,
          19,
          20,
          21,
          22,
          23,
          24,
          25,
          26,
          27,
          28,
          29,
          30,
          31,
          32,
          33,
          34,
          35,
          36,
          37,
          38,
          39,
          40,
          41,
          42,
          43,
          44,
          45,
          46,
          47,
          48,
          49,
          50,
          51,
          52,
          53,
          54,
          55,
          56,
          57,
          58,
          59,
          60,
          61,
          62,
          63,
          64,
          65,
          66,
          67,
          68,
          69,
          70,
          71,
          72,
          73,
          74,
          75,
          76,
          77,
          78,
          79,
          80,
          81,
          82,
          83,
          84,
          85,
          86,
          87,
          88,
          89,
          90,
          91,
          92,
          93,
          94,
          95,
          96,
          97,
          98,
          99
         ],
         "xaxis": "x",
         "y": [
          0.13642557435773162,
          0.23100637436216664,
          0.09603861441453443,
          0.26180823721859636,
          0.13656250029913974,
          0.3893805473518068,
          0.20371879126332137,
          0.30334867306811186,
          0.24487190137327164,
          0.2742789437545019,
          0.274436955472388,
          0.26781957747918606,
          0.28157740501035455,
          0.29683048654608357,
          0.23849456142608183,
          0.23854619299025814,
          0.25247702011281326,
          0.25247702011281326,
          0.2717702606180523,
          0.24495929319329224,
          0.2617834384781119,
          0.2617834384781119,
          0.2597064122661634,
          0.2617834384781119,
          0.2597064122661634,
          0.3357997539394364,
          0.3540400229707199,
          0.3540400229707199,
          0.33343014786734004,
          0.3519889079943337,
          0.3498804803757878,
          0.32927834038930714,
          0.32927834038930714,
          0.3498804803757878,
          0.3498804803757878,
          0.32940559650285817,
          0.3498804803757878,
          0.4853171800524403,
          0.48083428085181934,
          0.48083428085181934,
          0.47853003766557034,
          0.47853003766557034,
          0.47853003766557034,
          0.4830059804031659,
          0.4830059804031659,
          0.47853003766557034,
          0.4965092997673406,
          0.4965092997673406,
          0.47381672441021494,
          0.47381672441021494,
          0.46566543099038493,
          0.46657515303053776,
          0.5012557720290747,
          0.46706116587519175,
          0.46706116587519175,
          0.46706116587519175,
          0.46706116587519175,
          0.46706116587519175,
          0.46706116587519175,
          0.46706116587519175,
          0.46706116587519175,
          0.43997746239963154,
          0.44599099136979925,
          0.44599099136979925,
          0.46706116587519175,
          0.4607720211723456,
          0.4381609610473651,
          0.4381609610473651,
          0.4381609610473651,
          0.44486086957651527,
          0.29566314433803687,
          0.3364739921169937,
          0.3432726702656177,
          0.30225477808793855,
          0.27502729364263945,
          0.27502729364263945,
          0.27502729364263945,
          0.27502729364263945,
          0.27502729364263945,
          0.27502729364263945,
          0.29508019802227636,
          0.29508019802227636,
          0.29508019802227636,
          0.27502729364263945,
          0.27502729364263945,
          0.27502729364263945,
          0.27502729364263945,
          0.25415648282607317,
          0.24561355920575156,
          0.22246427858918927,
          0.22772999765003932,
          0.2361506032987073,
          0.23388689299364684,
          0.23388689299364684,
          0.23388689299364684,
          0.23388689299364684,
          0.23388689299364684,
          0.23388689299364684,
          0.23388689299364684
         ],
         "yaxis": "y"
        }
       ],
       "layout": {
        "legend": {
         "tracegroupgap": 0
        },
        "template": {
         "data": {
          "bar": [
           {
            "error_x": {
             "color": "#2a3f5f"
            },
            "error_y": {
             "color": "#2a3f5f"
            },
            "marker": {
             "line": {
              "color": "#E5ECF6",
              "width": 0.5
             },
             "pattern": {
              "fillmode": "overlay",
              "size": 10,
              "solidity": 0.2
             }
            },
            "type": "bar"
           }
          ],
          "barpolar": [
           {
            "marker": {
             "line": {
              "color": "#E5ECF6",
              "width": 0.5
             },
             "pattern": {
              "fillmode": "overlay",
              "size": 10,
              "solidity": 0.2
             }
            },
            "type": "barpolar"
           }
          ],
          "carpet": [
           {
            "aaxis": {
             "endlinecolor": "#2a3f5f",
             "gridcolor": "white",
             "linecolor": "white",
             "minorgridcolor": "white",
             "startlinecolor": "#2a3f5f"
            },
            "baxis": {
             "endlinecolor": "#2a3f5f",
             "gridcolor": "white",
             "linecolor": "white",
             "minorgridcolor": "white",
             "startlinecolor": "#2a3f5f"
            },
            "type": "carpet"
           }
          ],
          "choropleth": [
           {
            "colorbar": {
             "outlinewidth": 0,
             "ticks": ""
            },
            "type": "choropleth"
           }
          ],
          "contour": [
           {
            "colorbar": {
             "outlinewidth": 0,
             "ticks": ""
            },
            "colorscale": [
             [
              0,
              "#0d0887"
             ],
             [
              0.1111111111111111,
              "#46039f"
             ],
             [
              0.2222222222222222,
              "#7201a8"
             ],
             [
              0.3333333333333333,
              "#9c179e"
             ],
             [
              0.4444444444444444,
              "#bd3786"
             ],
             [
              0.5555555555555556,
              "#d8576b"
             ],
             [
              0.6666666666666666,
              "#ed7953"
             ],
             [
              0.7777777777777778,
              "#fb9f3a"
             ],
             [
              0.8888888888888888,
              "#fdca26"
             ],
             [
              1,
              "#f0f921"
             ]
            ],
            "type": "contour"
           }
          ],
          "contourcarpet": [
           {
            "colorbar": {
             "outlinewidth": 0,
             "ticks": ""
            },
            "type": "contourcarpet"
           }
          ],
          "heatmap": [
           {
            "colorbar": {
             "outlinewidth": 0,
             "ticks": ""
            },
            "colorscale": [
             [
              0,
              "#0d0887"
             ],
             [
              0.1111111111111111,
              "#46039f"
             ],
             [
              0.2222222222222222,
              "#7201a8"
             ],
             [
              0.3333333333333333,
              "#9c179e"
             ],
             [
              0.4444444444444444,
              "#bd3786"
             ],
             [
              0.5555555555555556,
              "#d8576b"
             ],
             [
              0.6666666666666666,
              "#ed7953"
             ],
             [
              0.7777777777777778,
              "#fb9f3a"
             ],
             [
              0.8888888888888888,
              "#fdca26"
             ],
             [
              1,
              "#f0f921"
             ]
            ],
            "type": "heatmap"
           }
          ],
          "heatmapgl": [
           {
            "colorbar": {
             "outlinewidth": 0,
             "ticks": ""
            },
            "colorscale": [
             [
              0,
              "#0d0887"
             ],
             [
              0.1111111111111111,
              "#46039f"
             ],
             [
              0.2222222222222222,
              "#7201a8"
             ],
             [
              0.3333333333333333,
              "#9c179e"
             ],
             [
              0.4444444444444444,
              "#bd3786"
             ],
             [
              0.5555555555555556,
              "#d8576b"
             ],
             [
              0.6666666666666666,
              "#ed7953"
             ],
             [
              0.7777777777777778,
              "#fb9f3a"
             ],
             [
              0.8888888888888888,
              "#fdca26"
             ],
             [
              1,
              "#f0f921"
             ]
            ],
            "type": "heatmapgl"
           }
          ],
          "histogram": [
           {
            "marker": {
             "pattern": {
              "fillmode": "overlay",
              "size": 10,
              "solidity": 0.2
             }
            },
            "type": "histogram"
           }
          ],
          "histogram2d": [
           {
            "colorbar": {
             "outlinewidth": 0,
             "ticks": ""
            },
            "colorscale": [
             [
              0,
              "#0d0887"
             ],
             [
              0.1111111111111111,
              "#46039f"
             ],
             [
              0.2222222222222222,
              "#7201a8"
             ],
             [
              0.3333333333333333,
              "#9c179e"
             ],
             [
              0.4444444444444444,
              "#bd3786"
             ],
             [
              0.5555555555555556,
              "#d8576b"
             ],
             [
              0.6666666666666666,
              "#ed7953"
             ],
             [
              0.7777777777777778,
              "#fb9f3a"
             ],
             [
              0.8888888888888888,
              "#fdca26"
             ],
             [
              1,
              "#f0f921"
             ]
            ],
            "type": "histogram2d"
           }
          ],
          "histogram2dcontour": [
           {
            "colorbar": {
             "outlinewidth": 0,
             "ticks": ""
            },
            "colorscale": [
             [
              0,
              "#0d0887"
             ],
             [
              0.1111111111111111,
              "#46039f"
             ],
             [
              0.2222222222222222,
              "#7201a8"
             ],
             [
              0.3333333333333333,
              "#9c179e"
             ],
             [
              0.4444444444444444,
              "#bd3786"
             ],
             [
              0.5555555555555556,
              "#d8576b"
             ],
             [
              0.6666666666666666,
              "#ed7953"
             ],
             [
              0.7777777777777778,
              "#fb9f3a"
             ],
             [
              0.8888888888888888,
              "#fdca26"
             ],
             [
              1,
              "#f0f921"
             ]
            ],
            "type": "histogram2dcontour"
           }
          ],
          "mesh3d": [
           {
            "colorbar": {
             "outlinewidth": 0,
             "ticks": ""
            },
            "type": "mesh3d"
           }
          ],
          "parcoords": [
           {
            "line": {
             "colorbar": {
              "outlinewidth": 0,
              "ticks": ""
             }
            },
            "type": "parcoords"
           }
          ],
          "pie": [
           {
            "automargin": true,
            "type": "pie"
           }
          ],
          "scatter": [
           {
            "marker": {
             "colorbar": {
              "outlinewidth": 0,
              "ticks": ""
             }
            },
            "type": "scatter"
           }
          ],
          "scatter3d": [
           {
            "line": {
             "colorbar": {
              "outlinewidth": 0,
              "ticks": ""
             }
            },
            "marker": {
             "colorbar": {
              "outlinewidth": 0,
              "ticks": ""
             }
            },
            "type": "scatter3d"
           }
          ],
          "scattercarpet": [
           {
            "marker": {
             "colorbar": {
              "outlinewidth": 0,
              "ticks": ""
             }
            },
            "type": "scattercarpet"
           }
          ],
          "scattergeo": [
           {
            "marker": {
             "colorbar": {
              "outlinewidth": 0,
              "ticks": ""
             }
            },
            "type": "scattergeo"
           }
          ],
          "scattergl": [
           {
            "marker": {
             "colorbar": {
              "outlinewidth": 0,
              "ticks": ""
             }
            },
            "type": "scattergl"
           }
          ],
          "scattermapbox": [
           {
            "marker": {
             "colorbar": {
              "outlinewidth": 0,
              "ticks": ""
             }
            },
            "type": "scattermapbox"
           }
          ],
          "scatterpolar": [
           {
            "marker": {
             "colorbar": {
              "outlinewidth": 0,
              "ticks": ""
             }
            },
            "type": "scatterpolar"
           }
          ],
          "scatterpolargl": [
           {
            "marker": {
             "colorbar": {
              "outlinewidth": 0,
              "ticks": ""
             }
            },
            "type": "scatterpolargl"
           }
          ],
          "scatterternary": [
           {
            "marker": {
             "colorbar": {
              "outlinewidth": 0,
              "ticks": ""
             }
            },
            "type": "scatterternary"
           }
          ],
          "surface": [
           {
            "colorbar": {
             "outlinewidth": 0,
             "ticks": ""
            },
            "colorscale": [
             [
              0,
              "#0d0887"
             ],
             [
              0.1111111111111111,
              "#46039f"
             ],
             [
              0.2222222222222222,
              "#7201a8"
             ],
             [
              0.3333333333333333,
              "#9c179e"
             ],
             [
              0.4444444444444444,
              "#bd3786"
             ],
             [
              0.5555555555555556,
              "#d8576b"
             ],
             [
              0.6666666666666666,
              "#ed7953"
             ],
             [
              0.7777777777777778,
              "#fb9f3a"
             ],
             [
              0.8888888888888888,
              "#fdca26"
             ],
             [
              1,
              "#f0f921"
             ]
            ],
            "type": "surface"
           }
          ],
          "table": [
           {
            "cells": {
             "fill": {
              "color": "#EBF0F8"
             },
             "line": {
              "color": "white"
             }
            },
            "header": {
             "fill": {
              "color": "#C8D4E3"
             },
             "line": {
              "color": "white"
             }
            },
            "type": "table"
           }
          ]
         },
         "layout": {
          "annotationdefaults": {
           "arrowcolor": "#2a3f5f",
           "arrowhead": 0,
           "arrowwidth": 1
          },
          "autotypenumbers": "strict",
          "coloraxis": {
           "colorbar": {
            "outlinewidth": 0,
            "ticks": ""
           }
          },
          "colorscale": {
           "diverging": [
            [
             0,
             "#8e0152"
            ],
            [
             0.1,
             "#c51b7d"
            ],
            [
             0.2,
             "#de77ae"
            ],
            [
             0.3,
             "#f1b6da"
            ],
            [
             0.4,
             "#fde0ef"
            ],
            [
             0.5,
             "#f7f7f7"
            ],
            [
             0.6,
             "#e6f5d0"
            ],
            [
             0.7,
             "#b8e186"
            ],
            [
             0.8,
             "#7fbc41"
            ],
            [
             0.9,
             "#4d9221"
            ],
            [
             1,
             "#276419"
            ]
           ],
           "sequential": [
            [
             0,
             "#0d0887"
            ],
            [
             0.1111111111111111,
             "#46039f"
            ],
            [
             0.2222222222222222,
             "#7201a8"
            ],
            [
             0.3333333333333333,
             "#9c179e"
            ],
            [
             0.4444444444444444,
             "#bd3786"
            ],
            [
             0.5555555555555556,
             "#d8576b"
            ],
            [
             0.6666666666666666,
             "#ed7953"
            ],
            [
             0.7777777777777778,
             "#fb9f3a"
            ],
            [
             0.8888888888888888,
             "#fdca26"
            ],
            [
             1,
             "#f0f921"
            ]
           ],
           "sequentialminus": [
            [
             0,
             "#0d0887"
            ],
            [
             0.1111111111111111,
             "#46039f"
            ],
            [
             0.2222222222222222,
             "#7201a8"
            ],
            [
             0.3333333333333333,
             "#9c179e"
            ],
            [
             0.4444444444444444,
             "#bd3786"
            ],
            [
             0.5555555555555556,
             "#d8576b"
            ],
            [
             0.6666666666666666,
             "#ed7953"
            ],
            [
             0.7777777777777778,
             "#fb9f3a"
            ],
            [
             0.8888888888888888,
             "#fdca26"
            ],
            [
             1,
             "#f0f921"
            ]
           ]
          },
          "colorway": [
           "#636efa",
           "#EF553B",
           "#00cc96",
           "#ab63fa",
           "#FFA15A",
           "#19d3f3",
           "#FF6692",
           "#B6E880",
           "#FF97FF",
           "#FECB52"
          ],
          "font": {
           "color": "#2a3f5f"
          },
          "geo": {
           "bgcolor": "white",
           "lakecolor": "white",
           "landcolor": "#E5ECF6",
           "showlakes": true,
           "showland": true,
           "subunitcolor": "white"
          },
          "hoverlabel": {
           "align": "left"
          },
          "hovermode": "closest",
          "mapbox": {
           "style": "light"
          },
          "paper_bgcolor": "white",
          "plot_bgcolor": "#E5ECF6",
          "polar": {
           "angularaxis": {
            "gridcolor": "white",
            "linecolor": "white",
            "ticks": ""
           },
           "bgcolor": "#E5ECF6",
           "radialaxis": {
            "gridcolor": "white",
            "linecolor": "white",
            "ticks": ""
           }
          },
          "scene": {
           "xaxis": {
            "backgroundcolor": "#E5ECF6",
            "gridcolor": "white",
            "gridwidth": 2,
            "linecolor": "white",
            "showbackground": true,
            "ticks": "",
            "zerolinecolor": "white"
           },
           "yaxis": {
            "backgroundcolor": "#E5ECF6",
            "gridcolor": "white",
            "gridwidth": 2,
            "linecolor": "white",
            "showbackground": true,
            "ticks": "",
            "zerolinecolor": "white"
           },
           "zaxis": {
            "backgroundcolor": "#E5ECF6",
            "gridcolor": "white",
            "gridwidth": 2,
            "linecolor": "white",
            "showbackground": true,
            "ticks": "",
            "zerolinecolor": "white"
           }
          },
          "shapedefaults": {
           "line": {
            "color": "#2a3f5f"
           }
          },
          "ternary": {
           "aaxis": {
            "gridcolor": "white",
            "linecolor": "white",
            "ticks": ""
           },
           "baxis": {
            "gridcolor": "white",
            "linecolor": "white",
            "ticks": ""
           },
           "bgcolor": "#E5ECF6",
           "caxis": {
            "gridcolor": "white",
            "linecolor": "white",
            "ticks": ""
           }
          },
          "title": {
           "x": 0.05
          },
          "xaxis": {
           "automargin": true,
           "gridcolor": "white",
           "linecolor": "white",
           "ticks": "",
           "title": {
            "standoff": 15
           },
           "zerolinecolor": "white",
           "zerolinewidth": 2
          },
          "yaxis": {
           "automargin": true,
           "gridcolor": "white",
           "linecolor": "white",
           "ticks": "",
           "title": {
            "standoff": 15
           },
           "zerolinecolor": "white",
           "zerolinewidth": 2
          }
         }
        },
        "title": {
         "text": "Validation for training span"
        },
        "xaxis": {
         "anchor": "y",
         "domain": [
          0,
          1
         ],
         "title": {
          "text": "train_span"
         }
        },
        "yaxis": {
         "anchor": "x",
         "domain": [
          0,
          1
         ],
         "title": {
          "text": "test_ret"
         }
        }
       }
      }
     },
     "metadata": {},
     "output_type": "display_data"
    }
   ],
   "source": [
    "import plotly.express as px\n",
    "\n",
    "fig = px.line(plot_data, x='train_span', y='test_ret', title=\"Validation for training span\")\n",
    "fig.show()"
   ]
  },
  {
   "cell_type": "markdown",
   "metadata": {},
   "source": [
    "# Plotting module for single asset"
   ]
  },
  {
   "cell_type": "code",
   "execution_count": 530,
   "metadata": {},
   "outputs": [],
   "source": [
    "asset = 'BAL'\n",
    "\n",
    "binance_symbol = exchange_info.loc[exchange_info.baseAsset == asset, 'Binance'].values[0]\n",
    "gate_symbol = exchange_info.loc[exchange_info.baseAsset == asset, 'gate'].values[0]\n",
    "\n",
    "gate_fundingrate = gate_get_FundingRateHist(gate_symbol)\n",
    "binance_fundingrate  = binance_get_FundingRateHist(binance_symbol)"
   ]
  },
  {
   "cell_type": "code",
   "execution_count": 531,
   "metadata": {},
   "outputs": [
    {
     "data": {
      "application/vnd.plotly.v1+json": {
       "config": {
        "plotlyServerURL": "https://plot.ly"
       },
       "data": [
        {
         "alignmentgroup": "True",
         "hovertemplate": "exchanges=gate<br>time=%{x}<br>value=%{y}<extra></extra>",
         "legendgroup": "gate",
         "marker": {
          "color": "#636efa",
          "pattern": {
           "shape": ""
          }
         },
         "name": "gate",
         "offsetgroup": "gate",
         "orientation": "v",
         "showlegend": true,
         "textposition": "auto",
         "type": "bar",
         "x": [
          "2022-07-16T00:00:00",
          "2022-07-15T16:00:00",
          "2022-07-15T08:00:00",
          "2022-07-15T00:00:00",
          "2022-07-14T16:00:00",
          "2022-07-14T08:00:00",
          "2022-07-14T00:00:00",
          "2022-07-13T16:00:00",
          "2022-07-13T08:00:00",
          "2022-07-13T00:00:00",
          "2022-07-12T16:00:00",
          "2022-07-12T08:00:00",
          "2022-07-12T00:00:00",
          "2022-07-11T16:00:00",
          "2022-07-11T08:00:00",
          "2022-07-11T00:00:00",
          "2022-07-10T16:00:00",
          "2022-07-10T08:00:00",
          "2022-07-10T00:00:00",
          "2022-07-09T16:00:00",
          "2022-07-09T08:00:00",
          "2022-07-09T00:00:00",
          "2022-07-08T16:00:00",
          "2022-07-08T08:00:00",
          "2022-07-08T00:00:00",
          "2022-07-07T16:00:00",
          "2022-07-07T08:00:00",
          "2022-07-07T00:00:00",
          "2022-07-06T16:00:00",
          "2022-07-06T08:00:00",
          "2022-07-06T00:00:00",
          "2022-07-05T16:00:00",
          "2022-07-05T08:00:00",
          "2022-07-05T00:00:00",
          "2022-07-04T16:00:00",
          "2022-07-04T08:00:00",
          "2022-07-04T00:00:00",
          "2022-07-03T16:00:00",
          "2022-07-03T08:00:00",
          "2022-07-03T00:00:00",
          "2022-07-02T16:00:00",
          "2022-07-02T08:00:00",
          "2022-07-02T00:00:00",
          "2022-07-01T16:00:00",
          "2022-07-01T08:00:00",
          "2022-07-01T00:00:00",
          "2022-06-30T16:00:00",
          "2022-06-30T08:00:00",
          "2022-06-30T00:00:00",
          "2022-06-29T16:00:00",
          "2022-06-29T08:00:00",
          "2022-06-29T00:00:00",
          "2022-06-28T16:00:00",
          "2022-06-28T08:00:00",
          "2022-06-28T00:00:00",
          "2022-06-27T16:00:00",
          "2022-06-27T08:00:00",
          "2022-06-27T00:00:00",
          "2022-06-26T16:00:00",
          "2022-06-26T08:00:00",
          "2022-06-26T00:00:00",
          "2022-06-25T16:00:00",
          "2022-06-25T08:00:00",
          "2022-06-25T00:00:00",
          "2022-06-24T16:00:00",
          "2022-06-24T08:00:00",
          "2022-06-24T00:00:00",
          "2022-06-23T16:00:00",
          "2022-06-23T08:00:00",
          "2022-06-23T00:00:00",
          "2022-06-22T16:00:00",
          "2022-06-22T08:00:00",
          "2022-06-22T00:00:00",
          "2022-06-21T16:00:00",
          "2022-06-21T08:00:00",
          "2022-06-21T00:00:00",
          "2022-06-20T16:00:00",
          "2022-06-20T08:00:00",
          "2022-06-20T00:00:00",
          "2022-06-19T16:00:00",
          "2022-06-19T08:00:00",
          "2022-06-19T00:00:00",
          "2022-06-18T16:00:00",
          "2022-06-18T08:00:00",
          "2022-06-18T00:00:00",
          "2022-06-17T16:00:00",
          "2022-06-17T08:00:00",
          "2022-06-17T00:00:00",
          "2022-06-16T16:00:00",
          "2022-06-16T08:00:00",
          "2022-06-16T00:00:00",
          "2022-06-15T16:00:00",
          "2022-06-15T08:00:00",
          "2022-06-15T00:00:00",
          "2022-06-14T16:00:00",
          "2022-06-14T08:00:00",
          "2022-06-14T00:00:00",
          "2022-06-13T16:00:00",
          "2022-06-13T08:00:00",
          "2022-06-13T00:00:00"
         ],
         "xaxis": "x",
         "y": [
          0.01,
          0.01,
          0.01,
          0.01,
          0.01,
          0.01,
          0.01,
          0.01,
          0.01,
          0.01,
          0.01,
          0.0073,
          0.01,
          0.006,
          0.01,
          0.01,
          0.01,
          0.01,
          0.01,
          0.01,
          0.01,
          0.0051,
          0.01,
          0.01,
          0.01,
          0.01,
          0.01,
          0.01,
          0.01,
          0.01,
          0.01,
          0.01,
          0.001,
          -0.0186,
          0.01,
          -0.0087,
          0.01,
          0.01,
          0.01,
          0.01,
          0.01,
          -0.0036,
          0.01,
          0.0045000000000000005,
          0.01,
          0.01,
          0.0021,
          0.01,
          0.01,
          0.01,
          -0.005399999999999999,
          0.01,
          0.01,
          0.01,
          0.01,
          0.01,
          0.01,
          0.01,
          0.01,
          0.01,
          -0.0157,
          0.01,
          0.01,
          0.0051,
          0.01,
          0.01,
          0.01,
          0.01,
          0.01,
          0.01,
          0.01,
          0.01,
          0.01,
          0.01,
          0.01,
          0.01,
          0.01,
          0.01,
          0.01,
          0.01,
          0.01,
          0.01,
          0.0073,
          0.0007,
          0.0095,
          -0.0239,
          0.01,
          0.01,
          0.01,
          0.01,
          0.01,
          0.01,
          -0.0017,
          0.01,
          0.01,
          0.01,
          0.01,
          0.01,
          0.01,
          0.01
         ],
         "yaxis": "y"
        },
        {
         "alignmentgroup": "True",
         "hovertemplate": "exchanges=binance<br>time=%{x}<br>value=%{y}<extra></extra>",
         "legendgroup": "binance",
         "marker": {
          "color": "#EF553B",
          "pattern": {
           "shape": ""
          }
         },
         "name": "binance",
         "offsetgroup": "binance",
         "orientation": "v",
         "showlegend": true,
         "textposition": "auto",
         "type": "bar",
         "x": [
          "2022-07-16T00:00:00",
          "2022-07-15T16:00:00",
          "2022-07-15T08:00:00",
          "2022-07-15T00:00:00",
          "2022-07-14T16:00:00",
          "2022-07-14T08:00:00",
          "2022-07-14T00:00:00",
          "2022-07-13T16:00:00",
          "2022-07-13T08:00:00",
          "2022-07-13T00:00:00",
          "2022-07-12T16:00:00",
          "2022-07-12T08:00:00",
          "2022-07-12T00:00:00",
          "2022-07-11T16:00:00",
          "2022-07-11T08:00:00",
          "2022-07-11T00:00:00",
          "2022-07-10T16:00:00",
          "2022-07-10T08:00:00",
          "2022-07-10T00:00:00",
          "2022-07-09T16:00:00",
          "2022-07-09T08:00:00",
          "2022-07-09T00:00:00",
          "2022-07-08T16:00:00",
          "2022-07-08T08:00:00",
          "2022-07-08T00:00:00",
          "2022-07-07T16:00:00",
          "2022-07-07T08:00:00",
          "2022-07-07T00:00:00",
          "2022-07-06T16:00:00",
          "2022-07-06T08:00:00",
          "2022-07-06T00:00:00",
          "2022-07-05T16:00:00",
          "2022-07-05T08:00:00",
          "2022-07-05T00:00:00",
          "2022-07-04T16:00:00",
          "2022-07-04T08:00:00",
          "2022-07-04T00:00:00",
          "2022-07-03T16:00:00",
          "2022-07-03T08:00:00",
          "2022-07-03T00:00:00",
          "2022-07-02T16:00:00",
          "2022-07-02T08:00:00",
          "2022-07-02T00:00:00",
          "2022-07-01T16:00:00",
          "2022-07-01T08:00:00",
          "2022-07-01T00:00:00",
          "2022-06-30T16:00:00",
          "2022-06-30T08:00:00",
          "2022-06-30T00:00:00",
          "2022-06-29T16:00:00",
          "2022-06-29T08:00:00",
          "2022-06-29T00:00:00",
          "2022-06-28T16:00:00",
          "2022-06-28T08:00:00",
          "2022-06-28T00:00:00",
          "2022-06-27T16:00:00",
          "2022-06-27T08:00:00",
          "2022-06-27T00:00:00",
          "2022-06-26T16:00:00",
          "2022-06-26T08:00:00",
          "2022-06-26T00:00:00",
          "2022-06-25T16:00:00",
          "2022-06-25T08:00:00",
          "2022-06-25T00:00:00",
          "2022-06-24T16:00:00",
          "2022-06-24T08:00:00",
          "2022-06-24T00:00:00",
          "2022-06-23T16:00:00",
          "2022-06-23T08:00:00",
          "2022-06-23T00:00:00",
          "2022-06-22T16:00:00",
          "2022-06-22T08:00:00",
          "2022-06-22T00:00:00",
          "2022-06-21T16:00:00",
          "2022-06-21T08:00:00",
          "2022-06-21T00:00:00",
          "2022-06-20T16:00:00",
          "2022-06-20T08:00:00",
          "2022-06-20T00:00:00",
          "2022-06-19T16:00:00",
          "2022-06-19T08:00:00",
          "2022-06-19T00:00:00",
          "2022-06-18T16:00:00",
          "2022-06-18T08:00:00",
          "2022-06-18T00:00:00",
          "2022-06-17T16:00:00",
          "2022-06-17T08:00:00",
          "2022-06-17T00:00:00",
          "2022-06-16T16:00:00",
          "2022-06-16T08:00:00",
          "2022-06-16T00:00:00",
          "2022-06-15T16:00:00",
          "2022-06-15T08:00:00",
          "2022-06-15T00:00:00",
          "2022-06-14T16:00:00",
          "2022-06-14T08:00:00",
          "2022-06-14T00:00:00",
          "2022-06-13T16:00:00",
          "2022-06-13T08:00:00",
          "2022-06-13T00:00:00"
         ],
         "xaxis": "x",
         "y": [
          0.01,
          0.007781000000000001,
          -0.033677,
          -0.029084,
          -0.034913,
          0.003842,
          -0.011446,
          -0.034534,
          -0.002374,
          -0.060643999999999997,
          -0.035807,
          -0.031572,
          -0.082104,
          -0.051621999999999994,
          -0.026603,
          -0.057669000000000005,
          -0.015367,
          0.01,
          0.008381,
          0.01,
          0.01,
          0.01,
          -0.021558,
          0.01,
          0.007559,
          -0.018223,
          0.003635,
          -0.008593,
          -0.001225,
          0.0084,
          0.005018,
          -0.010676999999999999,
          -0.00436,
          0.001781,
          -0.01983,
          -0.008642,
          -0.013082,
          -0.036985000000000004,
          -0.047904,
          -0.051887,
          -0.052218999999999995,
          -0.072906,
          -0.069678,
          -0.047108000000000004,
          -0.053584,
          -0.050573999999999994,
          -0.06482299999999999,
          -0.080703,
          -0.05778899999999999,
          -0.039491,
          -0.014428999999999999,
          -0.06265,
          -0.026678999999999998,
          -0.025928000000000003,
          -0.022684,
          -0.020501,
          -0.013802000000000002,
          -0.04225,
          -0.008302,
          0.01,
          -0.022891,
          -0.021524,
          -0.032976,
          -0.037635,
          -0.071117,
          -0.005752,
          0.009166,
          0.01,
          -0.0021449999999999998,
          -0.065429,
          -0.013948000000000002,
          -0.034269,
          -0.030532999999999998,
          -0.022096,
          -0.011914000000000001,
          -0.009391,
          -0.004215,
          -0.023031,
          -0.047351000000000004,
          -0.048068,
          -0.074791,
          -0.10601899999999999,
          -0.14281000000000002,
          -0.083116,
          -0.064884,
          -0.056577,
          -0.083101,
          -0.094581,
          -0.057167,
          -0.006541,
          0.002413,
          -0.048711000000000004,
          -0.054642,
          -0.19868400000000003,
          -0.116722,
          -0.101822,
          -0.015849000000000002,
          -0.044562,
          -0.039008,
          -0.06450499999999999
         ],
         "yaxis": "y"
        }
       ],
       "layout": {
        "barmode": "group",
        "legend": {
         "title": {
          "text": "exchanges"
         },
         "tracegroupgap": 0
        },
        "template": {
         "data": {
          "bar": [
           {
            "error_x": {
             "color": "#2a3f5f"
            },
            "error_y": {
             "color": "#2a3f5f"
            },
            "marker": {
             "line": {
              "color": "#E5ECF6",
              "width": 0.5
             },
             "pattern": {
              "fillmode": "overlay",
              "size": 10,
              "solidity": 0.2
             }
            },
            "type": "bar"
           }
          ],
          "barpolar": [
           {
            "marker": {
             "line": {
              "color": "#E5ECF6",
              "width": 0.5
             },
             "pattern": {
              "fillmode": "overlay",
              "size": 10,
              "solidity": 0.2
             }
            },
            "type": "barpolar"
           }
          ],
          "carpet": [
           {
            "aaxis": {
             "endlinecolor": "#2a3f5f",
             "gridcolor": "white",
             "linecolor": "white",
             "minorgridcolor": "white",
             "startlinecolor": "#2a3f5f"
            },
            "baxis": {
             "endlinecolor": "#2a3f5f",
             "gridcolor": "white",
             "linecolor": "white",
             "minorgridcolor": "white",
             "startlinecolor": "#2a3f5f"
            },
            "type": "carpet"
           }
          ],
          "choropleth": [
           {
            "colorbar": {
             "outlinewidth": 0,
             "ticks": ""
            },
            "type": "choropleth"
           }
          ],
          "contour": [
           {
            "colorbar": {
             "outlinewidth": 0,
             "ticks": ""
            },
            "colorscale": [
             [
              0,
              "#0d0887"
             ],
             [
              0.1111111111111111,
              "#46039f"
             ],
             [
              0.2222222222222222,
              "#7201a8"
             ],
             [
              0.3333333333333333,
              "#9c179e"
             ],
             [
              0.4444444444444444,
              "#bd3786"
             ],
             [
              0.5555555555555556,
              "#d8576b"
             ],
             [
              0.6666666666666666,
              "#ed7953"
             ],
             [
              0.7777777777777778,
              "#fb9f3a"
             ],
             [
              0.8888888888888888,
              "#fdca26"
             ],
             [
              1,
              "#f0f921"
             ]
            ],
            "type": "contour"
           }
          ],
          "contourcarpet": [
           {
            "colorbar": {
             "outlinewidth": 0,
             "ticks": ""
            },
            "type": "contourcarpet"
           }
          ],
          "heatmap": [
           {
            "colorbar": {
             "outlinewidth": 0,
             "ticks": ""
            },
            "colorscale": [
             [
              0,
              "#0d0887"
             ],
             [
              0.1111111111111111,
              "#46039f"
             ],
             [
              0.2222222222222222,
              "#7201a8"
             ],
             [
              0.3333333333333333,
              "#9c179e"
             ],
             [
              0.4444444444444444,
              "#bd3786"
             ],
             [
              0.5555555555555556,
              "#d8576b"
             ],
             [
              0.6666666666666666,
              "#ed7953"
             ],
             [
              0.7777777777777778,
              "#fb9f3a"
             ],
             [
              0.8888888888888888,
              "#fdca26"
             ],
             [
              1,
              "#f0f921"
             ]
            ],
            "type": "heatmap"
           }
          ],
          "heatmapgl": [
           {
            "colorbar": {
             "outlinewidth": 0,
             "ticks": ""
            },
            "colorscale": [
             [
              0,
              "#0d0887"
             ],
             [
              0.1111111111111111,
              "#46039f"
             ],
             [
              0.2222222222222222,
              "#7201a8"
             ],
             [
              0.3333333333333333,
              "#9c179e"
             ],
             [
              0.4444444444444444,
              "#bd3786"
             ],
             [
              0.5555555555555556,
              "#d8576b"
             ],
             [
              0.6666666666666666,
              "#ed7953"
             ],
             [
              0.7777777777777778,
              "#fb9f3a"
             ],
             [
              0.8888888888888888,
              "#fdca26"
             ],
             [
              1,
              "#f0f921"
             ]
            ],
            "type": "heatmapgl"
           }
          ],
          "histogram": [
           {
            "marker": {
             "pattern": {
              "fillmode": "overlay",
              "size": 10,
              "solidity": 0.2
             }
            },
            "type": "histogram"
           }
          ],
          "histogram2d": [
           {
            "colorbar": {
             "outlinewidth": 0,
             "ticks": ""
            },
            "colorscale": [
             [
              0,
              "#0d0887"
             ],
             [
              0.1111111111111111,
              "#46039f"
             ],
             [
              0.2222222222222222,
              "#7201a8"
             ],
             [
              0.3333333333333333,
              "#9c179e"
             ],
             [
              0.4444444444444444,
              "#bd3786"
             ],
             [
              0.5555555555555556,
              "#d8576b"
             ],
             [
              0.6666666666666666,
              "#ed7953"
             ],
             [
              0.7777777777777778,
              "#fb9f3a"
             ],
             [
              0.8888888888888888,
              "#fdca26"
             ],
             [
              1,
              "#f0f921"
             ]
            ],
            "type": "histogram2d"
           }
          ],
          "histogram2dcontour": [
           {
            "colorbar": {
             "outlinewidth": 0,
             "ticks": ""
            },
            "colorscale": [
             [
              0,
              "#0d0887"
             ],
             [
              0.1111111111111111,
              "#46039f"
             ],
             [
              0.2222222222222222,
              "#7201a8"
             ],
             [
              0.3333333333333333,
              "#9c179e"
             ],
             [
              0.4444444444444444,
              "#bd3786"
             ],
             [
              0.5555555555555556,
              "#d8576b"
             ],
             [
              0.6666666666666666,
              "#ed7953"
             ],
             [
              0.7777777777777778,
              "#fb9f3a"
             ],
             [
              0.8888888888888888,
              "#fdca26"
             ],
             [
              1,
              "#f0f921"
             ]
            ],
            "type": "histogram2dcontour"
           }
          ],
          "mesh3d": [
           {
            "colorbar": {
             "outlinewidth": 0,
             "ticks": ""
            },
            "type": "mesh3d"
           }
          ],
          "parcoords": [
           {
            "line": {
             "colorbar": {
              "outlinewidth": 0,
              "ticks": ""
             }
            },
            "type": "parcoords"
           }
          ],
          "pie": [
           {
            "automargin": true,
            "type": "pie"
           }
          ],
          "scatter": [
           {
            "marker": {
             "colorbar": {
              "outlinewidth": 0,
              "ticks": ""
             }
            },
            "type": "scatter"
           }
          ],
          "scatter3d": [
           {
            "line": {
             "colorbar": {
              "outlinewidth": 0,
              "ticks": ""
             }
            },
            "marker": {
             "colorbar": {
              "outlinewidth": 0,
              "ticks": ""
             }
            },
            "type": "scatter3d"
           }
          ],
          "scattercarpet": [
           {
            "marker": {
             "colorbar": {
              "outlinewidth": 0,
              "ticks": ""
             }
            },
            "type": "scattercarpet"
           }
          ],
          "scattergeo": [
           {
            "marker": {
             "colorbar": {
              "outlinewidth": 0,
              "ticks": ""
             }
            },
            "type": "scattergeo"
           }
          ],
          "scattergl": [
           {
            "marker": {
             "colorbar": {
              "outlinewidth": 0,
              "ticks": ""
             }
            },
            "type": "scattergl"
           }
          ],
          "scattermapbox": [
           {
            "marker": {
             "colorbar": {
              "outlinewidth": 0,
              "ticks": ""
             }
            },
            "type": "scattermapbox"
           }
          ],
          "scatterpolar": [
           {
            "marker": {
             "colorbar": {
              "outlinewidth": 0,
              "ticks": ""
             }
            },
            "type": "scatterpolar"
           }
          ],
          "scatterpolargl": [
           {
            "marker": {
             "colorbar": {
              "outlinewidth": 0,
              "ticks": ""
             }
            },
            "type": "scatterpolargl"
           }
          ],
          "scatterternary": [
           {
            "marker": {
             "colorbar": {
              "outlinewidth": 0,
              "ticks": ""
             }
            },
            "type": "scatterternary"
           }
          ],
          "surface": [
           {
            "colorbar": {
             "outlinewidth": 0,
             "ticks": ""
            },
            "colorscale": [
             [
              0,
              "#0d0887"
             ],
             [
              0.1111111111111111,
              "#46039f"
             ],
             [
              0.2222222222222222,
              "#7201a8"
             ],
             [
              0.3333333333333333,
              "#9c179e"
             ],
             [
              0.4444444444444444,
              "#bd3786"
             ],
             [
              0.5555555555555556,
              "#d8576b"
             ],
             [
              0.6666666666666666,
              "#ed7953"
             ],
             [
              0.7777777777777778,
              "#fb9f3a"
             ],
             [
              0.8888888888888888,
              "#fdca26"
             ],
             [
              1,
              "#f0f921"
             ]
            ],
            "type": "surface"
           }
          ],
          "table": [
           {
            "cells": {
             "fill": {
              "color": "#EBF0F8"
             },
             "line": {
              "color": "white"
             }
            },
            "header": {
             "fill": {
              "color": "#C8D4E3"
             },
             "line": {
              "color": "white"
             }
            },
            "type": "table"
           }
          ]
         },
         "layout": {
          "annotationdefaults": {
           "arrowcolor": "#2a3f5f",
           "arrowhead": 0,
           "arrowwidth": 1
          },
          "autotypenumbers": "strict",
          "coloraxis": {
           "colorbar": {
            "outlinewidth": 0,
            "ticks": ""
           }
          },
          "colorscale": {
           "diverging": [
            [
             0,
             "#8e0152"
            ],
            [
             0.1,
             "#c51b7d"
            ],
            [
             0.2,
             "#de77ae"
            ],
            [
             0.3,
             "#f1b6da"
            ],
            [
             0.4,
             "#fde0ef"
            ],
            [
             0.5,
             "#f7f7f7"
            ],
            [
             0.6,
             "#e6f5d0"
            ],
            [
             0.7,
             "#b8e186"
            ],
            [
             0.8,
             "#7fbc41"
            ],
            [
             0.9,
             "#4d9221"
            ],
            [
             1,
             "#276419"
            ]
           ],
           "sequential": [
            [
             0,
             "#0d0887"
            ],
            [
             0.1111111111111111,
             "#46039f"
            ],
            [
             0.2222222222222222,
             "#7201a8"
            ],
            [
             0.3333333333333333,
             "#9c179e"
            ],
            [
             0.4444444444444444,
             "#bd3786"
            ],
            [
             0.5555555555555556,
             "#d8576b"
            ],
            [
             0.6666666666666666,
             "#ed7953"
            ],
            [
             0.7777777777777778,
             "#fb9f3a"
            ],
            [
             0.8888888888888888,
             "#fdca26"
            ],
            [
             1,
             "#f0f921"
            ]
           ],
           "sequentialminus": [
            [
             0,
             "#0d0887"
            ],
            [
             0.1111111111111111,
             "#46039f"
            ],
            [
             0.2222222222222222,
             "#7201a8"
            ],
            [
             0.3333333333333333,
             "#9c179e"
            ],
            [
             0.4444444444444444,
             "#bd3786"
            ],
            [
             0.5555555555555556,
             "#d8576b"
            ],
            [
             0.6666666666666666,
             "#ed7953"
            ],
            [
             0.7777777777777778,
             "#fb9f3a"
            ],
            [
             0.8888888888888888,
             "#fdca26"
            ],
            [
             1,
             "#f0f921"
            ]
           ]
          },
          "colorway": [
           "#636efa",
           "#EF553B",
           "#00cc96",
           "#ab63fa",
           "#FFA15A",
           "#19d3f3",
           "#FF6692",
           "#B6E880",
           "#FF97FF",
           "#FECB52"
          ],
          "font": {
           "color": "#2a3f5f"
          },
          "geo": {
           "bgcolor": "white",
           "lakecolor": "white",
           "landcolor": "#E5ECF6",
           "showlakes": true,
           "showland": true,
           "subunitcolor": "white"
          },
          "hoverlabel": {
           "align": "left"
          },
          "hovermode": "closest",
          "mapbox": {
           "style": "light"
          },
          "paper_bgcolor": "white",
          "plot_bgcolor": "#E5ECF6",
          "polar": {
           "angularaxis": {
            "gridcolor": "white",
            "linecolor": "white",
            "ticks": ""
           },
           "bgcolor": "#E5ECF6",
           "radialaxis": {
            "gridcolor": "white",
            "linecolor": "white",
            "ticks": ""
           }
          },
          "scene": {
           "xaxis": {
            "backgroundcolor": "#E5ECF6",
            "gridcolor": "white",
            "gridwidth": 2,
            "linecolor": "white",
            "showbackground": true,
            "ticks": "",
            "zerolinecolor": "white"
           },
           "yaxis": {
            "backgroundcolor": "#E5ECF6",
            "gridcolor": "white",
            "gridwidth": 2,
            "linecolor": "white",
            "showbackground": true,
            "ticks": "",
            "zerolinecolor": "white"
           },
           "zaxis": {
            "backgroundcolor": "#E5ECF6",
            "gridcolor": "white",
            "gridwidth": 2,
            "linecolor": "white",
            "showbackground": true,
            "ticks": "",
            "zerolinecolor": "white"
           }
          },
          "shapedefaults": {
           "line": {
            "color": "#2a3f5f"
           }
          },
          "ternary": {
           "aaxis": {
            "gridcolor": "white",
            "linecolor": "white",
            "ticks": ""
           },
           "baxis": {
            "gridcolor": "white",
            "linecolor": "white",
            "ticks": ""
           },
           "bgcolor": "#E5ECF6",
           "caxis": {
            "gridcolor": "white",
            "linecolor": "white",
            "ticks": ""
           }
          },
          "title": {
           "x": 0.05
          },
          "xaxis": {
           "automargin": true,
           "gridcolor": "white",
           "linecolor": "white",
           "ticks": "",
           "title": {
            "standoff": 15
           },
           "zerolinecolor": "white",
           "zerolinewidth": 2
          },
          "yaxis": {
           "automargin": true,
           "gridcolor": "white",
           "linecolor": "white",
           "ticks": "",
           "title": {
            "standoff": 15
           },
           "zerolinecolor": "white",
           "zerolinewidth": 2
          }
         }
        },
        "title": {
         "text": "Funding rates between exchanges (%), symbol: BAL"
        },
        "xaxis": {
         "anchor": "y",
         "domain": [
          0,
          1
         ],
         "title": {
          "text": "time"
         }
        },
        "yaxis": {
         "anchor": "x",
         "domain": [
          0,
          1
         ],
         "title": {
          "text": "value"
         }
        }
       }
      }
     },
     "metadata": {},
     "output_type": "display_data"
    }
   ],
   "source": [
    "plot_data = (\n",
    "    pd.merge(gate_fundingrate, binance_fundingrate, on ='time' ,how= 'inner')\n",
    "    .melt(id_vars=['time'], value_vars=['gate','binance'], var_name='exchanges', value_name='value')\n",
    "    # .set_index('time',drop = True)\n",
    "    .assign(value = lambda x: x.value*100)\n",
    ")\n",
    "\n",
    "import plotly.express as px\n",
    "\n",
    "fig = px.bar(plot_data, x='time', y='value', color=\"exchanges\", title=f\"Funding rates between exchanges (%), symbol: {asset}\", barmode = 'group')\n",
    "fig.show()"
   ]
  },
  {
   "cell_type": "markdown",
   "metadata": {},
   "source": [
    "# Backtesting module"
   ]
  },
  {
   "cell_type": "markdown",
   "metadata": {},
   "source": [
    "## step1: obtain the funding rate till today"
   ]
  },
  {
   "cell_type": "code",
   "execution_count": 209,
   "metadata": {},
   "outputs": [
    {
     "data": {
      "text/plain": [
       "['RSR', 'STORJ']"
      ]
     },
     "execution_count": 209,
     "metadata": {},
     "output_type": "execute_result"
    }
   ],
   "source": [
    "get_target_pair(all_data, test_point, train_span)"
   ]
  },
  {
   "cell_type": "code",
   "execution_count": 212,
   "metadata": {},
   "outputs": [
    {
     "data": {
      "text/html": [
       "<div>\n",
       "<style scoped>\n",
       "    .dataframe tbody tr th:only-of-type {\n",
       "        vertical-align: middle;\n",
       "    }\n",
       "\n",
       "    .dataframe tbody tr th {\n",
       "        vertical-align: top;\n",
       "    }\n",
       "\n",
       "    .dataframe thead th {\n",
       "        text-align: right;\n",
       "    }\n",
       "</style>\n",
       "<table border=\"1\" class=\"dataframe\">\n",
       "  <thead>\n",
       "    <tr style=\"text-align: right;\">\n",
       "      <th></th>\n",
       "      <th>time</th>\n",
       "      <th>gate</th>\n",
       "      <th>binance</th>\n",
       "      <th>mean_difference</th>\n",
       "      <th>annual_ret</th>\n",
       "      <th>asset</th>\n",
       "    </tr>\n",
       "  </thead>\n",
       "  <tbody>\n",
       "    <tr>\n",
       "      <th>38</th>\n",
       "      <td>2022-07-06</td>\n",
       "      <td>-0.000496</td>\n",
       "      <td>-0.000276</td>\n",
       "      <td>0.000463</td>\n",
       "      <td>0.660202</td>\n",
       "      <td>RSR</td>\n",
       "    </tr>\n",
       "    <tr>\n",
       "      <th>97</th>\n",
       "      <td>2022-07-06</td>\n",
       "      <td>0.0001</td>\n",
       "      <td>0.00005</td>\n",
       "      <td>0.000401</td>\n",
       "      <td>0.551441</td>\n",
       "      <td>BAL</td>\n",
       "    </tr>\n",
       "    <tr>\n",
       "      <th>23</th>\n",
       "      <td>2022-07-06</td>\n",
       "      <td>-0.003287</td>\n",
       "      <td>-0.004429</td>\n",
       "      <td>0.000335</td>\n",
       "      <td>0.442903</td>\n",
       "      <td>OGN</td>\n",
       "    </tr>\n",
       "    <tr>\n",
       "      <th>9</th>\n",
       "      <td>2022-07-06</td>\n",
       "      <td>0.0001</td>\n",
       "      <td>0.0001</td>\n",
       "      <td>0.000311</td>\n",
       "      <td>0.405262</td>\n",
       "      <td>KLAY</td>\n",
       "    </tr>\n",
       "    <tr>\n",
       "      <th>102</th>\n",
       "      <td>2022-07-06</td>\n",
       "      <td>0.0001</td>\n",
       "      <td>-0.000007</td>\n",
       "      <td>0.000282</td>\n",
       "      <td>0.36094</td>\n",
       "      <td>KSM</td>\n",
       "    </tr>\n",
       "    <tr>\n",
       "      <th>...</th>\n",
       "      <td>...</td>\n",
       "      <td>...</td>\n",
       "      <td>...</td>\n",
       "      <td>...</td>\n",
       "      <td>...</td>\n",
       "      <td>...</td>\n",
       "    </tr>\n",
       "    <tr>\n",
       "      <th>17</th>\n",
       "      <td>2022-07-06</td>\n",
       "      <td>0.0001</td>\n",
       "      <td>0.0001</td>\n",
       "      <td>-0.000188</td>\n",
       "      <td>-0.186109</td>\n",
       "      <td>DENT</td>\n",
       "    </tr>\n",
       "    <tr>\n",
       "      <th>123</th>\n",
       "      <td>2022-07-06</td>\n",
       "      <td>0.000077</td>\n",
       "      <td>0.0001</td>\n",
       "      <td>-0.000194</td>\n",
       "      <td>-0.191585</td>\n",
       "      <td>RUNE</td>\n",
       "    </tr>\n",
       "    <tr>\n",
       "      <th>30</th>\n",
       "      <td>2022-07-06</td>\n",
       "      <td>-0.000302</td>\n",
       "      <td>-0.000461</td>\n",
       "      <td>-0.000211</td>\n",
       "      <td>-0.206281</td>\n",
       "      <td>MTL</td>\n",
       "    </tr>\n",
       "    <tr>\n",
       "      <th>98</th>\n",
       "      <td>2022-07-06</td>\n",
       "      <td>-0.000571</td>\n",
       "      <td>0.0001</td>\n",
       "      <td>-0.000246</td>\n",
       "      <td>-0.235872</td>\n",
       "      <td>SXP</td>\n",
       "    </tr>\n",
       "    <tr>\n",
       "      <th>37</th>\n",
       "      <td>2022-07-06</td>\n",
       "      <td>0.0001</td>\n",
       "      <td>0.0001</td>\n",
       "      <td>-0.001007</td>\n",
       "      <td>-0.668401</td>\n",
       "      <td>IOTA</td>\n",
       "    </tr>\n",
       "  </tbody>\n",
       "</table>\n",
       "<p>136 rows × 6 columns</p>\n",
       "</div>"
      ],
      "text/plain": [
       "          time      gate   binance mean_difference annual_ret asset\n",
       "38  2022-07-06 -0.000496 -0.000276        0.000463   0.660202   RSR\n",
       "97  2022-07-06    0.0001   0.00005        0.000401   0.551441   BAL\n",
       "23  2022-07-06 -0.003287 -0.004429        0.000335   0.442903   OGN\n",
       "9   2022-07-06    0.0001    0.0001        0.000311   0.405262  KLAY\n",
       "102 2022-07-06    0.0001 -0.000007        0.000282    0.36094   KSM\n",
       "..         ...       ...       ...             ...        ...   ...\n",
       "17  2022-07-06    0.0001    0.0001       -0.000188  -0.186109  DENT\n",
       "123 2022-07-06  0.000077    0.0001       -0.000194  -0.191585  RUNE\n",
       "30  2022-07-06 -0.000302 -0.000461       -0.000211  -0.206281   MTL\n",
       "98  2022-07-06 -0.000571    0.0001       -0.000246  -0.235872   SXP\n",
       "37  2022-07-06    0.0001    0.0001       -0.001007  -0.668401  IOTA\n",
       "\n",
       "[136 rows x 6 columns]"
      ]
     },
     "execution_count": 212,
     "metadata": {},
     "output_type": "execute_result"
    }
   ],
   "source": [
    "get_evaluation_table(all_data, test_point, train_span).sort_values(ascending = False, by = 'annual_ret')"
   ]
  }
 ],
 "metadata": {
  "kernelspec": {
   "display_name": "Python 3.9.10 ('myenv')",
   "language": "python",
   "name": "python3"
  },
  "language_info": {
   "codemirror_mode": {
    "name": "ipython",
    "version": 3
   },
   "file_extension": ".py",
   "mimetype": "text/x-python",
   "name": "python",
   "nbconvert_exporter": "python",
   "pygments_lexer": "ipython3",
   "version": "3.9.10"
  },
  "orig_nbformat": 4,
  "vscode": {
   "interpreter": {
    "hash": "a33b775cd6344257653a6d40ab6b5f2969c84566975f51b8eb6ff1553bceff8c"
   }
  }
 },
 "nbformat": 4,
 "nbformat_minor": 2
}
