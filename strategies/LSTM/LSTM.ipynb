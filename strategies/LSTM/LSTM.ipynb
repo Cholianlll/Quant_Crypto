{
 "cells": [
  {
   "cell_type": "markdown",
   "metadata": {},
   "source": [
    "# LSTM"
   ]
  },
  {
   "cell_type": "code",
   "execution_count": 18,
   "metadata": {},
   "outputs": [],
   "source": [
    "import pandas as pd\n",
    "import numpy as np\n",
    "import matplotlib.pyplot as plt\n",
    "import seaborn as sns\n",
    "import plotly.express as px\n",
    "\n",
    "# ind_data = pd.read_csv('../data/raw_data/All_indicator_1d.csv',index_col= 0)\n",
    "# price_data = pd.read_csv('../data/data_indicators/BTC_data_1d_2019-01-01.csv',index_col= 0)\n",
    "\n",
    "# # colab\n",
    "ind_data = pd.read_csv('All_indicator_1d.csv',index_col= 0)\n",
    "price_data = pd.read_csv('BTC_data_1d_2019-01-01.csv',index_col= 0)\n",
    "\n",
    "from ds_toolbox import dp_mv_DropCols\n",
    "ind_data = dp_mv_DropCols(ind_data,0.5)\n",
    "\n",
    "price_data['date'] = pd.to_datetime(price_data['Open time']).dt.strftime('%Y-%m-%d')\n",
    "data = ind_data.merge(price_data,how = 'left', on='date')\n",
    "\n",
    "from ts_toolbox import plot_multiTS\n",
    "# fig = plot_multiTS(data, [0, 1,3,4], 'date')\n",
    "\n",
    "from ts_toolbox import dp_series_to_supervised\n",
    "data = data.drop(price_data.columns[price_data.columns != 'Close'],axis = 1)\n",
    "from sklearn.preprocessing import MinMaxScaler\n",
    "\n",
    "scaler_x = MinMaxScaler(feature_range=(0, 1))\n",
    "data.iloc[:,:-1] = scaler_x.fit_transform(data.iloc[:,:-1])\n",
    "\n",
    "scaler_y = MinMaxScaler(feature_range=(0, 1))\n",
    "data.iloc[:,-1] = scaler_y.fit_transform(data.iloc[:,-1].to_numpy().reshape(-1,1))\n",
    "\n",
    "data_lstm = dp_series_to_supervised(data, n_in = 10, n_out =1,y = 'Close')\n",
    "    \n",
    "\n",
    "from ts_toolbox import dp_train_test_split\n",
    "data_train, data_test = dp_train_test_split(data_lstm,train_rate = 0.8)\n",
    "\n",
    "X_train = data_train.drop('Close(t)',axis=1).to_numpy()\n",
    "y_train = data_train['Close(t)'].to_numpy()\n",
    "\n",
    "X_test = data_test.drop('Close(t)',axis=1).to_numpy()\n",
    "y_test = data_test['Close(t)'].to_numpy()\n",
    "\n",
    "# data_train.drop('Close(t)',axis=1).to_csv('X_train.csv')\n",
    "# data_train['Close(t)'].to_csv('y_train.csv')\n",
    "\n",
    "# data_test.drop('Close(t)',axis=1).to_csv('X_test.csv')\n",
    "# data_test['Close(t)'].to_csv('y_test.csv')"
   ]
  },
  {
   "cell_type": "markdown",
   "metadata": {},
   "source": [
    "# Colab"
   ]
  },
  {
   "cell_type": "code",
   "execution_count": null,
   "metadata": {},
   "outputs": [],
   "source": [
    "import pandas as pd\n",
    "from sklearn.metrics import mean_squared_error\n",
    "from sklearn.metrics import mean_absolute_error\n",
    "from sklearn.metrics import mean_absolute_percentage_error\n",
    "from keras.models import Sequential\n",
    "from keras.layers import Dense\n",
    "from keras.layers import LSTM\n",
    "from matplotlib import pyplot\n",
    "import numpy as np\n",
    "\n",
    "# X_train = pd.read_csv('X_train.csv',index_col = 0).to_numpy()\n",
    "# y_train = pd.read_csv('y_train.csv',index_col = 0).to_numpy()\n",
    "# X_test = pd.read_csv('X_test.csv',index_col = 0).to_numpy()\n",
    "# y_test = pd.read_csv('y_test.csv',index_col = 0).to_numpy()\n",
    "\n",
    "# reshape input to be 3D [samples, timesteps, features]\n",
    "X_train = X_train.reshape((X_train.shape[0], 1, X_train.shape[1]))\n",
    "X_test = X_test.reshape((X_test.shape[0], 1, X_test.shape[1]))\n",
    "\n",
    "# design network\n",
    "model = Sequential()\n",
    "model.add(LSTM(50, input_shape=(X_train.shape[1], X_train.shape[2])))\n",
    "model.add(Dense(1))\n",
    "model.compile(loss='mae', optimizer='adam')\n",
    "\n",
    "# fit network\n",
    "history = model.fit(X_train, y_train, epochs=100, batch_size=72, validation_data=(X_test, y_test), verbose=2, shuffle=False)\n",
    "\n",
    "# plot history\n",
    "pyplot.plot(history.history['loss'], label='train')\n",
    "pyplot.plot(history.history['val_loss'], label='test')\n",
    "pyplot.legend()\n",
    "pyplot.show()\n",
    "\n",
    "  # make a prediction\n",
    "ypred = model.predict(X_test)\n",
    "y_pred = scaler_y.inverse_transform(ypred)\n",
    "y_true = scaler_y.inverse_transform(y_test.reshape(-1,1))\n",
    "y_drift = pd.DataFrame(y_true).shift(1).iloc[:,0]\n",
    "result = pd.DataFrame(data = {\n",
    "                       'y_true':y_true.reshape(1,-1)[0],\n",
    "                       'y_pred':y_pred.reshape(1,-1)[0],\n",
    "                       'y_drift':y_drift\n",
    "                       }).reset_index(drop = False).melt(id_vars = ['index'])\n",
    "fig = px.line(result, x=\"index\", y=\"value\", color='variable')\n",
    "fig.show()"
   ]
  }
 ],
 "metadata": {
  "interpreter": {
   "hash": "64268f4a2e06884fd6d9d183d3be763679d287250388f6a724defd8dfe9ef4ed"
  },
  "kernelspec": {
   "display_name": "Python 3.9.7 ('anly565')",
   "language": "python",
   "name": "python3"
  },
  "language_info": {
   "codemirror_mode": {
    "name": "ipython",
    "version": 3
   },
   "file_extension": ".py",
   "mimetype": "text/x-python",
   "name": "python",
   "nbconvert_exporter": "python",
   "pygments_lexer": "ipython3",
   "version": "3.9.7"
  },
  "orig_nbformat": 4
 },
 "nbformat": 4,
 "nbformat_minor": 2
}
